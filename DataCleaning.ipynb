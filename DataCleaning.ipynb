{
 "cells": [
  {
   "cell_type": "code",
   "execution_count": 1,
   "metadata": {
    "collapsed": false
   },
   "outputs": [
    {
     "data": {
      "text/html": [
       "\n",
       "    <div class=\"bk-root\">\n",
       "        <a href=\"http://bokeh.pydata.org\" target=\"_blank\" class=\"bk-logo bk-logo-small bk-logo-notebook\"></a>\n",
       "        <span id=\"af4af63e-0582-482b-b41e-d13ac90139f8\">Loading BokehJS ...</span>\n",
       "    </div>"
      ]
     },
     "metadata": {},
     "output_type": "display_data"
    },
    {
     "data": {
      "application/javascript": [
       "\n",
       "(function(global) {\n",
       "  function now() {\n",
       "    return new Date();\n",
       "  }\n",
       "\n",
       "  var force = \"1\";\n",
       "\n",
       "  if (typeof (window._bokeh_onload_callbacks) === \"undefined\" || force !== \"\") {\n",
       "    window._bokeh_onload_callbacks = [];\n",
       "    window._bokeh_is_loading = undefined;\n",
       "  }\n",
       "\n",
       "\n",
       "  \n",
       "  if (typeof (window._bokeh_timeout) === \"undefined\" || force !== \"\") {\n",
       "    window._bokeh_timeout = Date.now() + 5000;\n",
       "    window._bokeh_failed_load = false;\n",
       "  }\n",
       "\n",
       "  var NB_LOAD_WARNING = {'data': {'text/html':\n",
       "     \"<div style='background-color: #fdd'>\\n\"+\n",
       "     \"<p>\\n\"+\n",
       "     \"BokehJS does not appear to have successfully loaded. If loading BokehJS from CDN, this \\n\"+\n",
       "     \"may be due to a slow or bad network connection. Possible fixes:\\n\"+\n",
       "     \"</p>\\n\"+\n",
       "     \"<ul>\\n\"+\n",
       "     \"<li>re-rerun `output_notebook()` to attempt to load from CDN again, or</li>\\n\"+\n",
       "     \"<li>use INLINE resources instead, as so:</li>\\n\"+\n",
       "     \"</ul>\\n\"+\n",
       "     \"<code>\\n\"+\n",
       "     \"from bokeh.resources import INLINE\\n\"+\n",
       "     \"output_notebook(resources=INLINE)\\n\"+\n",
       "     \"</code>\\n\"+\n",
       "     \"</div>\"}};\n",
       "\n",
       "  function display_loaded() {\n",
       "    if (window.Bokeh !== undefined) {\n",
       "      Bokeh.$(\"#af4af63e-0582-482b-b41e-d13ac90139f8\").text(\"BokehJS successfully loaded.\");\n",
       "    } else if (Date.now() < window._bokeh_timeout) {\n",
       "      setTimeout(display_loaded, 100)\n",
       "    }\n",
       "  }\n",
       "\n",
       "  function run_callbacks() {\n",
       "    window._bokeh_onload_callbacks.forEach(function(callback) { callback() });\n",
       "    delete window._bokeh_onload_callbacks\n",
       "    console.info(\"Bokeh: all callbacks have finished\");\n",
       "  }\n",
       "\n",
       "  function load_libs(js_urls, callback) {\n",
       "    window._bokeh_onload_callbacks.push(callback);\n",
       "    if (window._bokeh_is_loading > 0) {\n",
       "      console.log(\"Bokeh: BokehJS is being loaded, scheduling callback at\", now());\n",
       "      return null;\n",
       "    }\n",
       "    if (js_urls == null || js_urls.length === 0) {\n",
       "      run_callbacks();\n",
       "      return null;\n",
       "    }\n",
       "    console.log(\"Bokeh: BokehJS not loaded, scheduling load and callback at\", now());\n",
       "    window._bokeh_is_loading = js_urls.length;\n",
       "    for (var i = 0; i < js_urls.length; i++) {\n",
       "      var url = js_urls[i];\n",
       "      var s = document.createElement('script');\n",
       "      s.src = url;\n",
       "      s.async = false;\n",
       "      s.onreadystatechange = s.onload = function() {\n",
       "        window._bokeh_is_loading--;\n",
       "        if (window._bokeh_is_loading === 0) {\n",
       "          console.log(\"Bokeh: all BokehJS libraries loaded\");\n",
       "          run_callbacks()\n",
       "        }\n",
       "      };\n",
       "      s.onerror = function() {\n",
       "        console.warn(\"failed to load library \" + url);\n",
       "      };\n",
       "      console.log(\"Bokeh: injecting script tag for BokehJS library: \", url);\n",
       "      document.getElementsByTagName(\"head\")[0].appendChild(s);\n",
       "    }\n",
       "  };var element = document.getElementById(\"af4af63e-0582-482b-b41e-d13ac90139f8\");\n",
       "  if (element == null) {\n",
       "    console.log(\"Bokeh: ERROR: autoload.js configured with elementid 'af4af63e-0582-482b-b41e-d13ac90139f8' but no matching script tag was found. \")\n",
       "    return false;\n",
       "  }\n",
       "\n",
       "  var js_urls = ['https://cdn.pydata.org/bokeh/release/bokeh-0.12.2.min.js', 'https://cdn.pydata.org/bokeh/release/bokeh-widgets-0.12.2.min.js', 'https://cdn.pydata.org/bokeh/release/bokeh-compiler-0.12.2.min.js'];\n",
       "\n",
       "  var inline_js = [\n",
       "    function(Bokeh) {\n",
       "      Bokeh.set_log_level(\"info\");\n",
       "    },\n",
       "    \n",
       "    function(Bokeh) {\n",
       "      \n",
       "      Bokeh.$(\"#af4af63e-0582-482b-b41e-d13ac90139f8\").text(\"BokehJS is loading...\");\n",
       "    },\n",
       "    function(Bokeh) {\n",
       "      console.log(\"Bokeh: injecting CSS: https://cdn.pydata.org/bokeh/release/bokeh-0.12.2.min.css\");\n",
       "      Bokeh.embed.inject_css(\"https://cdn.pydata.org/bokeh/release/bokeh-0.12.2.min.css\");\n",
       "      console.log(\"Bokeh: injecting CSS: https://cdn.pydata.org/bokeh/release/bokeh-widgets-0.12.2.min.css\");\n",
       "      Bokeh.embed.inject_css(\"https://cdn.pydata.org/bokeh/release/bokeh-widgets-0.12.2.min.css\");\n",
       "    }\n",
       "  ];\n",
       "\n",
       "  function run_inline_js() {\n",
       "    \n",
       "    if ((window.Bokeh !== undefined) || (force === \"1\")) {\n",
       "      for (var i = 0; i < inline_js.length; i++) {\n",
       "        inline_js[i](window.Bokeh);\n",
       "      }if (force === \"1\") {\n",
       "        display_loaded();\n",
       "      }} else if (Date.now() < window._bokeh_timeout) {\n",
       "      setTimeout(run_inline_js, 100);\n",
       "    } else if (!window._bokeh_failed_load) {\n",
       "      console.log(\"Bokeh: BokehJS failed to load within specified timeout.\");\n",
       "      window._bokeh_failed_load = true;\n",
       "    } else if (!force) {\n",
       "      var cell = $(\"#af4af63e-0582-482b-b41e-d13ac90139f8\").parents('.cell').data().cell;\n",
       "      cell.output_area.append_execute_result(NB_LOAD_WARNING)\n",
       "    }\n",
       "\n",
       "  }\n",
       "\n",
       "  if (window._bokeh_is_loading === 0) {\n",
       "    console.log(\"Bokeh: BokehJS loaded, going straight to plotting\");\n",
       "    run_inline_js();\n",
       "  } else {\n",
       "    load_libs(js_urls, function() {\n",
       "      console.log(\"Bokeh: BokehJS plotting callback run at\", now());\n",
       "      run_inline_js();\n",
       "    });\n",
       "  }\n",
       "}(this));"
      ]
     },
     "metadata": {},
     "output_type": "display_data"
    }
   ],
   "source": [
    "import pandas as pd\n",
    "import numpy as np\n",
    "%matplotlib inline\n",
    "from bokeh.io import output_notebook\n",
    "from bokeh.charts import Histogram, Bar, show\n",
    "import os\n",
    "output_notebook()\n",
    "from matplotlib import rcParams\n",
    "rcParams.update({'figure.autolayout': True})\n"
   ]
  },
  {
   "cell_type": "code",
   "execution_count": 2,
   "metadata": {
    "collapsed": false
   },
   "outputs": [],
   "source": [
    "df = pd.read_excel('./data/CHE Feb 2017.xls', \n",
    "              skiprows=range(0,12),\n",
    "              skip_footer=1, \n",
    "              )"
   ]
  },
  {
   "cell_type": "code",
   "execution_count": 3,
   "metadata": {
    "collapsed": false
   },
   "outputs": [],
   "source": [
    "df = df.drop([0])"
   ]
  },
  {
   "cell_type": "code",
   "execution_count": 4,
   "metadata": {
    "collapsed": false
   },
   "outputs": [],
   "source": [
    "df = df.drop(['Unnamed: 1', 'Unnamed: 2', 'Int', 'Tdm', 'Cost', 'Taxes',\n",
    "           'Eq. Cost', 'Total Cost'], axis=1)"
   ]
  },
  {
   "cell_type": "code",
   "execution_count": 5,
   "metadata": {
    "collapsed": false
   },
   "outputs": [
    {
     "data": {
      "text/plain": [
       "count     4534.000000\n",
       "mean        88.087120\n",
       "std        340.872229\n",
       "min          1.000000\n",
       "25%         10.000000\n",
       "50%         35.000000\n",
       "75%         88.000000\n",
       "max      19002.000000\n",
       "Name: Total, dtype: float64"
      ]
     },
     "execution_count": 5,
     "metadata": {},
     "output_type": "execute_result"
    }
   ],
   "source": [
    "df.Total.describe()"
   ]
  },
  {
   "cell_type": "code",
   "execution_count": 6,
   "metadata": {
    "collapsed": false
   },
   "outputs": [
    {
     "data": {
      "text/html": [
       "<div>\n",
       "<table border=\"1\" class=\"dataframe\">\n",
       "  <thead>\n",
       "    <tr style=\"text-align: right;\">\n",
       "      <th></th>\n",
       "      <th>Number</th>\n",
       "      <th>In</th>\n",
       "      <th>Out</th>\n",
       "      <th>Total</th>\n",
       "      <th>Duration</th>\n",
       "      <th>Avg. Dur.</th>\n",
       "      <th>Long. Dur.</th>\n",
       "    </tr>\n",
       "  </thead>\n",
       "  <tbody>\n",
       "    <tr>\n",
       "      <th>1</th>\n",
       "      <td>20100.0</td>\n",
       "      <td>1.0</td>\n",
       "      <td>2.0</td>\n",
       "      <td>3.0</td>\n",
       "      <td>00:01:52</td>\n",
       "      <td>00:00:37</td>\n",
       "      <td>00:00:56</td>\n",
       "    </tr>\n",
       "    <tr>\n",
       "      <th>2</th>\n",
       "      <td>27701.0</td>\n",
       "      <td>4.0</td>\n",
       "      <td>3.0</td>\n",
       "      <td>7.0</td>\n",
       "      <td>00:04:20</td>\n",
       "      <td>00:00:37</td>\n",
       "      <td>00:01:04</td>\n",
       "    </tr>\n",
       "    <tr>\n",
       "      <th>3</th>\n",
       "      <td>27702.0</td>\n",
       "      <td>75.0</td>\n",
       "      <td>38.0</td>\n",
       "      <td>113.0</td>\n",
       "      <td>05:25:50</td>\n",
       "      <td>00:02:53</td>\n",
       "      <td>00:30:16</td>\n",
       "    </tr>\n",
       "    <tr>\n",
       "      <th>4</th>\n",
       "      <td>27703.0</td>\n",
       "      <td>9.0</td>\n",
       "      <td>19.0</td>\n",
       "      <td>28.0</td>\n",
       "      <td>00:45:00</td>\n",
       "      <td>00:01:36</td>\n",
       "      <td>00:10:08</td>\n",
       "    </tr>\n",
       "    <tr>\n",
       "      <th>5</th>\n",
       "      <td>27704.0</td>\n",
       "      <td>12.0</td>\n",
       "      <td>4.0</td>\n",
       "      <td>16.0</td>\n",
       "      <td>01:20:14</td>\n",
       "      <td>00:05:00</td>\n",
       "      <td>00:21:32</td>\n",
       "    </tr>\n",
       "    <tr>\n",
       "      <th>6</th>\n",
       "      <td>27705.0</td>\n",
       "      <td>16.0</td>\n",
       "      <td>2.0</td>\n",
       "      <td>18.0</td>\n",
       "      <td>00:19:48</td>\n",
       "      <td>00:01:06</td>\n",
       "      <td>00:04:38</td>\n",
       "    </tr>\n",
       "    <tr>\n",
       "      <th>7</th>\n",
       "      <td>27706.0</td>\n",
       "      <td>30.0</td>\n",
       "      <td>6.0</td>\n",
       "      <td>36.0</td>\n",
       "      <td>01:54:20</td>\n",
       "      <td>00:03:10</td>\n",
       "      <td>00:19:10</td>\n",
       "    </tr>\n",
       "    <tr>\n",
       "      <th>8</th>\n",
       "      <td>27708.0</td>\n",
       "      <td>11.0</td>\n",
       "      <td>3.0</td>\n",
       "      <td>14.0</td>\n",
       "      <td>00:20:58</td>\n",
       "      <td>00:01:29</td>\n",
       "      <td>00:04:22</td>\n",
       "    </tr>\n",
       "    <tr>\n",
       "      <th>9</th>\n",
       "      <td>27709.0</td>\n",
       "      <td>20.0</td>\n",
       "      <td>10.0</td>\n",
       "      <td>30.0</td>\n",
       "      <td>00:29:12</td>\n",
       "      <td>00:00:58</td>\n",
       "      <td>00:11:28</td>\n",
       "    </tr>\n",
       "    <tr>\n",
       "      <th>10</th>\n",
       "      <td>27712.0</td>\n",
       "      <td>0.0</td>\n",
       "      <td>18.0</td>\n",
       "      <td>18.0</td>\n",
       "      <td>00:49:22</td>\n",
       "      <td>00:02:44</td>\n",
       "      <td>00:09:34</td>\n",
       "    </tr>\n",
       "    <tr>\n",
       "      <th>11</th>\n",
       "      <td>27713.0</td>\n",
       "      <td>0.0</td>\n",
       "      <td>6.0</td>\n",
       "      <td>6.0</td>\n",
       "      <td>01:20:02</td>\n",
       "      <td>00:13:20</td>\n",
       "      <td>00:27:28</td>\n",
       "    </tr>\n",
       "    <tr>\n",
       "      <th>12</th>\n",
       "      <td>27714.0</td>\n",
       "      <td>54.0</td>\n",
       "      <td>34.0</td>\n",
       "      <td>88.0</td>\n",
       "      <td>02:58:46</td>\n",
       "      <td>00:02:01</td>\n",
       "      <td>00:35:48</td>\n",
       "    </tr>\n",
       "    <tr>\n",
       "      <th>13</th>\n",
       "      <td>27717.0</td>\n",
       "      <td>1.0</td>\n",
       "      <td>2.0</td>\n",
       "      <td>3.0</td>\n",
       "      <td>00:03:48</td>\n",
       "      <td>00:01:16</td>\n",
       "      <td>00:02:10</td>\n",
       "    </tr>\n",
       "    <tr>\n",
       "      <th>14</th>\n",
       "      <td>27720.0</td>\n",
       "      <td>23.0</td>\n",
       "      <td>11.0</td>\n",
       "      <td>34.0</td>\n",
       "      <td>02:23:06</td>\n",
       "      <td>00:04:12</td>\n",
       "      <td>00:37:22</td>\n",
       "    </tr>\n",
       "    <tr>\n",
       "      <th>15</th>\n",
       "      <td>27725.0</td>\n",
       "      <td>21.0</td>\n",
       "      <td>8.0</td>\n",
       "      <td>29.0</td>\n",
       "      <td>02:23:16</td>\n",
       "      <td>00:04:56</td>\n",
       "      <td>00:31:28</td>\n",
       "    </tr>\n",
       "    <tr>\n",
       "      <th>16</th>\n",
       "      <td>27728.0</td>\n",
       "      <td>10.0</td>\n",
       "      <td>17.0</td>\n",
       "      <td>27.0</td>\n",
       "      <td>03:59:14</td>\n",
       "      <td>00:08:51</td>\n",
       "      <td>00:47:30</td>\n",
       "    </tr>\n",
       "    <tr>\n",
       "      <th>17</th>\n",
       "      <td>27731.0</td>\n",
       "      <td>1.0</td>\n",
       "      <td>0.0</td>\n",
       "      <td>1.0</td>\n",
       "      <td>00:00:04</td>\n",
       "      <td>00:00:04</td>\n",
       "      <td>00:00:04</td>\n",
       "    </tr>\n",
       "    <tr>\n",
       "      <th>18</th>\n",
       "      <td>27732.0</td>\n",
       "      <td>5.0</td>\n",
       "      <td>18.0</td>\n",
       "      <td>23.0</td>\n",
       "      <td>04:55:54</td>\n",
       "      <td>00:12:51</td>\n",
       "      <td>00:56:36</td>\n",
       "    </tr>\n",
       "    <tr>\n",
       "      <th>19</th>\n",
       "      <td>27733.0</td>\n",
       "      <td>1.0</td>\n",
       "      <td>0.0</td>\n",
       "      <td>1.0</td>\n",
       "      <td>00:00:06</td>\n",
       "      <td>00:00:06</td>\n",
       "      <td>00:00:06</td>\n",
       "    </tr>\n",
       "    <tr>\n",
       "      <th>20</th>\n",
       "      <td>27734.0</td>\n",
       "      <td>8.0</td>\n",
       "      <td>8.0</td>\n",
       "      <td>16.0</td>\n",
       "      <td>00:16:28</td>\n",
       "      <td>00:01:01</td>\n",
       "      <td>00:08:56</td>\n",
       "    </tr>\n",
       "    <tr>\n",
       "      <th>21</th>\n",
       "      <td>27735.0</td>\n",
       "      <td>17.0</td>\n",
       "      <td>9.0</td>\n",
       "      <td>26.0</td>\n",
       "      <td>02:06:58</td>\n",
       "      <td>00:04:53</td>\n",
       "      <td>00:59:44</td>\n",
       "    </tr>\n",
       "    <tr>\n",
       "      <th>22</th>\n",
       "      <td>27737.0</td>\n",
       "      <td>55.0</td>\n",
       "      <td>23.0</td>\n",
       "      <td>78.0</td>\n",
       "      <td>01:57:44</td>\n",
       "      <td>00:01:30</td>\n",
       "      <td>00:10:18</td>\n",
       "    </tr>\n",
       "    <tr>\n",
       "      <th>23</th>\n",
       "      <td>27738.0</td>\n",
       "      <td>46.0</td>\n",
       "      <td>28.0</td>\n",
       "      <td>74.0</td>\n",
       "      <td>01:40:06</td>\n",
       "      <td>00:01:21</td>\n",
       "      <td>00:16:20</td>\n",
       "    </tr>\n",
       "    <tr>\n",
       "      <th>24</th>\n",
       "      <td>27739.0</td>\n",
       "      <td>75.0</td>\n",
       "      <td>36.0</td>\n",
       "      <td>111.0</td>\n",
       "      <td>06:38:00</td>\n",
       "      <td>00:03:35</td>\n",
       "      <td>01:04:58</td>\n",
       "    </tr>\n",
       "    <tr>\n",
       "      <th>25</th>\n",
       "      <td>27740.0</td>\n",
       "      <td>3.0</td>\n",
       "      <td>0.0</td>\n",
       "      <td>3.0</td>\n",
       "      <td>00:01:50</td>\n",
       "      <td>00:00:36</td>\n",
       "      <td>00:01:02</td>\n",
       "    </tr>\n",
       "    <tr>\n",
       "      <th>26</th>\n",
       "      <td>27741.0</td>\n",
       "      <td>0.0</td>\n",
       "      <td>2.0</td>\n",
       "      <td>2.0</td>\n",
       "      <td>00:01:24</td>\n",
       "      <td>00:00:42</td>\n",
       "      <td>00:01:18</td>\n",
       "    </tr>\n",
       "    <tr>\n",
       "      <th>27</th>\n",
       "      <td>27742.0</td>\n",
       "      <td>8.0</td>\n",
       "      <td>7.0</td>\n",
       "      <td>15.0</td>\n",
       "      <td>04:02:26</td>\n",
       "      <td>00:16:09</td>\n",
       "      <td>00:45:06</td>\n",
       "    </tr>\n",
       "    <tr>\n",
       "      <th>28</th>\n",
       "      <td>27744.0</td>\n",
       "      <td>11.0</td>\n",
       "      <td>0.0</td>\n",
       "      <td>11.0</td>\n",
       "      <td>00:05:18</td>\n",
       "      <td>00:00:28</td>\n",
       "      <td>00:01:02</td>\n",
       "    </tr>\n",
       "    <tr>\n",
       "      <th>29</th>\n",
       "      <td>27745.0</td>\n",
       "      <td>1.0</td>\n",
       "      <td>0.0</td>\n",
       "      <td>1.0</td>\n",
       "      <td>00:00:06</td>\n",
       "      <td>00:00:06</td>\n",
       "      <td>00:00:06</td>\n",
       "    </tr>\n",
       "    <tr>\n",
       "      <th>30</th>\n",
       "      <td>27747.0</td>\n",
       "      <td>5.0</td>\n",
       "      <td>0.0</td>\n",
       "      <td>5.0</td>\n",
       "      <td>01:50:40</td>\n",
       "      <td>00:22:08</td>\n",
       "      <td>01:00:30</td>\n",
       "    </tr>\n",
       "    <tr>\n",
       "      <th>...</th>\n",
       "      <td>...</td>\n",
       "      <td>...</td>\n",
       "      <td>...</td>\n",
       "      <td>...</td>\n",
       "      <td>...</td>\n",
       "      <td>...</td>\n",
       "      <td>...</td>\n",
       "    </tr>\n",
       "    <tr>\n",
       "      <th>4505</th>\n",
       "      <td>3124350.0</td>\n",
       "      <td>507.0</td>\n",
       "      <td>166.0</td>\n",
       "      <td>673.0</td>\n",
       "      <td>14:02:32</td>\n",
       "      <td>00:01:15</td>\n",
       "      <td>00:22:00</td>\n",
       "    </tr>\n",
       "    <tr>\n",
       "      <th>4506</th>\n",
       "      <td>3124351.0</td>\n",
       "      <td>499.0</td>\n",
       "      <td>164.0</td>\n",
       "      <td>663.0</td>\n",
       "      <td>14:35:46</td>\n",
       "      <td>00:01:19</td>\n",
       "      <td>00:20:20</td>\n",
       "    </tr>\n",
       "    <tr>\n",
       "      <th>4507</th>\n",
       "      <td>3124352.0</td>\n",
       "      <td>28.0</td>\n",
       "      <td>0.0</td>\n",
       "      <td>28.0</td>\n",
       "      <td>00:05:20</td>\n",
       "      <td>00:00:11</td>\n",
       "      <td>00:00:26</td>\n",
       "    </tr>\n",
       "    <tr>\n",
       "      <th>4508</th>\n",
       "      <td>3124353.0</td>\n",
       "      <td>28.0</td>\n",
       "      <td>0.0</td>\n",
       "      <td>28.0</td>\n",
       "      <td>00:04:42</td>\n",
       "      <td>00:00:10</td>\n",
       "      <td>00:00:30</td>\n",
       "    </tr>\n",
       "    <tr>\n",
       "      <th>4509</th>\n",
       "      <td>3124354.0</td>\n",
       "      <td>33.0</td>\n",
       "      <td>0.0</td>\n",
       "      <td>33.0</td>\n",
       "      <td>00:03:48</td>\n",
       "      <td>00:00:06</td>\n",
       "      <td>00:00:20</td>\n",
       "    </tr>\n",
       "    <tr>\n",
       "      <th>4510</th>\n",
       "      <td>3124355.0</td>\n",
       "      <td>25.0</td>\n",
       "      <td>0.0</td>\n",
       "      <td>25.0</td>\n",
       "      <td>00:02:38</td>\n",
       "      <td>00:00:06</td>\n",
       "      <td>00:00:22</td>\n",
       "    </tr>\n",
       "    <tr>\n",
       "      <th>4511</th>\n",
       "      <td>3124356.0</td>\n",
       "      <td>27.0</td>\n",
       "      <td>0.0</td>\n",
       "      <td>27.0</td>\n",
       "      <td>00:03:14</td>\n",
       "      <td>00:00:07</td>\n",
       "      <td>00:00:16</td>\n",
       "    </tr>\n",
       "    <tr>\n",
       "      <th>4512</th>\n",
       "      <td>3124357.0</td>\n",
       "      <td>16.0</td>\n",
       "      <td>0.0</td>\n",
       "      <td>16.0</td>\n",
       "      <td>00:01:18</td>\n",
       "      <td>00:00:04</td>\n",
       "      <td>00:00:12</td>\n",
       "    </tr>\n",
       "    <tr>\n",
       "      <th>4513</th>\n",
       "      <td>3124358.0</td>\n",
       "      <td>24.0</td>\n",
       "      <td>0.0</td>\n",
       "      <td>24.0</td>\n",
       "      <td>00:03:06</td>\n",
       "      <td>00:00:07</td>\n",
       "      <td>00:00:18</td>\n",
       "    </tr>\n",
       "    <tr>\n",
       "      <th>4514</th>\n",
       "      <td>3124359.0</td>\n",
       "      <td>23.0</td>\n",
       "      <td>0.0</td>\n",
       "      <td>23.0</td>\n",
       "      <td>00:02:22</td>\n",
       "      <td>00:00:06</td>\n",
       "      <td>00:00:14</td>\n",
       "    </tr>\n",
       "    <tr>\n",
       "      <th>4515</th>\n",
       "      <td>3124370.0</td>\n",
       "      <td>21.0</td>\n",
       "      <td>0.0</td>\n",
       "      <td>21.0</td>\n",
       "      <td>00:02:20</td>\n",
       "      <td>00:00:06</td>\n",
       "      <td>00:00:20</td>\n",
       "    </tr>\n",
       "    <tr>\n",
       "      <th>4516</th>\n",
       "      <td>3124371.0</td>\n",
       "      <td>20.0</td>\n",
       "      <td>0.0</td>\n",
       "      <td>20.0</td>\n",
       "      <td>00:02:36</td>\n",
       "      <td>00:00:07</td>\n",
       "      <td>00:00:20</td>\n",
       "    </tr>\n",
       "    <tr>\n",
       "      <th>4517</th>\n",
       "      <td>3124372.0</td>\n",
       "      <td>27.0</td>\n",
       "      <td>0.0</td>\n",
       "      <td>27.0</td>\n",
       "      <td>00:03:36</td>\n",
       "      <td>00:00:08</td>\n",
       "      <td>00:00:26</td>\n",
       "    </tr>\n",
       "    <tr>\n",
       "      <th>4518</th>\n",
       "      <td>3124373.0</td>\n",
       "      <td>22.0</td>\n",
       "      <td>0.0</td>\n",
       "      <td>22.0</td>\n",
       "      <td>00:02:30</td>\n",
       "      <td>00:00:06</td>\n",
       "      <td>00:00:20</td>\n",
       "    </tr>\n",
       "    <tr>\n",
       "      <th>4519</th>\n",
       "      <td>3124374.0</td>\n",
       "      <td>29.0</td>\n",
       "      <td>0.0</td>\n",
       "      <td>29.0</td>\n",
       "      <td>00:03:38</td>\n",
       "      <td>00:00:07</td>\n",
       "      <td>00:00:20</td>\n",
       "    </tr>\n",
       "    <tr>\n",
       "      <th>4520</th>\n",
       "      <td>3124375.0</td>\n",
       "      <td>20.0</td>\n",
       "      <td>0.0</td>\n",
       "      <td>20.0</td>\n",
       "      <td>00:02:16</td>\n",
       "      <td>00:00:06</td>\n",
       "      <td>00:00:26</td>\n",
       "    </tr>\n",
       "    <tr>\n",
       "      <th>4521</th>\n",
       "      <td>3166532.0</td>\n",
       "      <td>1.0</td>\n",
       "      <td>0.0</td>\n",
       "      <td>1.0</td>\n",
       "      <td>00:56:20</td>\n",
       "      <td>00:56:20</td>\n",
       "      <td>00:56:20</td>\n",
       "    </tr>\n",
       "    <tr>\n",
       "      <th>4522</th>\n",
       "      <td>3166534.0</td>\n",
       "      <td>1.0</td>\n",
       "      <td>0.0</td>\n",
       "      <td>1.0</td>\n",
       "      <td>00:37:42</td>\n",
       "      <td>00:37:42</td>\n",
       "      <td>00:37:42</td>\n",
       "    </tr>\n",
       "    <tr>\n",
       "      <th>4523</th>\n",
       "      <td>3166535.0</td>\n",
       "      <td>1.0</td>\n",
       "      <td>0.0</td>\n",
       "      <td>1.0</td>\n",
       "      <td>00:39:12</td>\n",
       "      <td>00:39:12</td>\n",
       "      <td>00:39:12</td>\n",
       "    </tr>\n",
       "    <tr>\n",
       "      <th>4524</th>\n",
       "      <td>3166543.0</td>\n",
       "      <td>1.0</td>\n",
       "      <td>0.0</td>\n",
       "      <td>1.0</td>\n",
       "      <td>00:00:02</td>\n",
       "      <td>00:00:02</td>\n",
       "      <td>00:00:02</td>\n",
       "    </tr>\n",
       "    <tr>\n",
       "      <th>4525</th>\n",
       "      <td>3166544.0</td>\n",
       "      <td>3.0</td>\n",
       "      <td>0.0</td>\n",
       "      <td>3.0</td>\n",
       "      <td>00:03:24</td>\n",
       "      <td>00:01:08</td>\n",
       "      <td>00:03:16</td>\n",
       "    </tr>\n",
       "    <tr>\n",
       "      <th>4526</th>\n",
       "      <td>3166546.0</td>\n",
       "      <td>1.0</td>\n",
       "      <td>0.0</td>\n",
       "      <td>1.0</td>\n",
       "      <td>00:36:32</td>\n",
       "      <td>00:36:32</td>\n",
       "      <td>00:36:32</td>\n",
       "    </tr>\n",
       "    <tr>\n",
       "      <th>4527</th>\n",
       "      <td>3166548.0</td>\n",
       "      <td>2.0</td>\n",
       "      <td>0.0</td>\n",
       "      <td>2.0</td>\n",
       "      <td>00:39:46</td>\n",
       "      <td>00:19:53</td>\n",
       "      <td>00:39:44</td>\n",
       "    </tr>\n",
       "    <tr>\n",
       "      <th>4528</th>\n",
       "      <td>3166552.0</td>\n",
       "      <td>2.0</td>\n",
       "      <td>0.0</td>\n",
       "      <td>2.0</td>\n",
       "      <td>00:42:50</td>\n",
       "      <td>00:21:25</td>\n",
       "      <td>00:42:48</td>\n",
       "    </tr>\n",
       "    <tr>\n",
       "      <th>4529</th>\n",
       "      <td>3166554.0</td>\n",
       "      <td>1.0</td>\n",
       "      <td>0.0</td>\n",
       "      <td>1.0</td>\n",
       "      <td>00:39:32</td>\n",
       "      <td>00:39:32</td>\n",
       "      <td>00:39:32</td>\n",
       "    </tr>\n",
       "    <tr>\n",
       "      <th>4530</th>\n",
       "      <td>3166556.0</td>\n",
       "      <td>1.0</td>\n",
       "      <td>0.0</td>\n",
       "      <td>1.0</td>\n",
       "      <td>00:00:08</td>\n",
       "      <td>00:00:08</td>\n",
       "      <td>00:00:08</td>\n",
       "    </tr>\n",
       "    <tr>\n",
       "      <th>4531</th>\n",
       "      <td>3166598.0</td>\n",
       "      <td>1.0</td>\n",
       "      <td>0.0</td>\n",
       "      <td>1.0</td>\n",
       "      <td>00:54:22</td>\n",
       "      <td>00:54:22</td>\n",
       "      <td>00:54:22</td>\n",
       "    </tr>\n",
       "    <tr>\n",
       "      <th>4532</th>\n",
       "      <td>3167802.0</td>\n",
       "      <td>0.0</td>\n",
       "      <td>2.0</td>\n",
       "      <td>2.0</td>\n",
       "      <td>00:00:12</td>\n",
       "      <td>00:00:06</td>\n",
       "      <td>00:00:06</td>\n",
       "    </tr>\n",
       "    <tr>\n",
       "      <th>4533</th>\n",
       "      <td>3167878.0</td>\n",
       "      <td>1.0</td>\n",
       "      <td>0.0</td>\n",
       "      <td>1.0</td>\n",
       "      <td>00:02:08</td>\n",
       "      <td>00:02:08</td>\n",
       "      <td>00:02:08</td>\n",
       "    </tr>\n",
       "    <tr>\n",
       "      <th>4534</th>\n",
       "      <td>3168654.0</td>\n",
       "      <td>0.0</td>\n",
       "      <td>1.0</td>\n",
       "      <td>1.0</td>\n",
       "      <td>00:00:02</td>\n",
       "      <td>00:00:02</td>\n",
       "      <td>00:00:02</td>\n",
       "    </tr>\n",
       "  </tbody>\n",
       "</table>\n",
       "<p>4534 rows × 7 columns</p>\n",
       "</div>"
      ],
      "text/plain": [
       "         Number     In    Out  Total   Duration    Avg. Dur.  Long. Dur.\n",
       "1       20100.0    1.0    2.0    3.0    00:01:52    00:00:37    00:00:56\n",
       "2       27701.0    4.0    3.0    7.0    00:04:20    00:00:37    00:01:04\n",
       "3       27702.0   75.0   38.0  113.0    05:25:50    00:02:53    00:30:16\n",
       "4       27703.0    9.0   19.0   28.0    00:45:00    00:01:36    00:10:08\n",
       "5       27704.0   12.0    4.0   16.0    01:20:14    00:05:00    00:21:32\n",
       "6       27705.0   16.0    2.0   18.0    00:19:48    00:01:06    00:04:38\n",
       "7       27706.0   30.0    6.0   36.0    01:54:20    00:03:10    00:19:10\n",
       "8       27708.0   11.0    3.0   14.0    00:20:58    00:01:29    00:04:22\n",
       "9       27709.0   20.0   10.0   30.0    00:29:12    00:00:58    00:11:28\n",
       "10      27712.0    0.0   18.0   18.0    00:49:22    00:02:44    00:09:34\n",
       "11      27713.0    0.0    6.0    6.0    01:20:02    00:13:20    00:27:28\n",
       "12      27714.0   54.0   34.0   88.0    02:58:46    00:02:01    00:35:48\n",
       "13      27717.0    1.0    2.0    3.0    00:03:48    00:01:16    00:02:10\n",
       "14      27720.0   23.0   11.0   34.0    02:23:06    00:04:12    00:37:22\n",
       "15      27725.0   21.0    8.0   29.0    02:23:16    00:04:56    00:31:28\n",
       "16      27728.0   10.0   17.0   27.0    03:59:14    00:08:51    00:47:30\n",
       "17      27731.0    1.0    0.0    1.0    00:00:04    00:00:04    00:00:04\n",
       "18      27732.0    5.0   18.0   23.0    04:55:54    00:12:51    00:56:36\n",
       "19      27733.0    1.0    0.0    1.0    00:00:06    00:00:06    00:00:06\n",
       "20      27734.0    8.0    8.0   16.0    00:16:28    00:01:01    00:08:56\n",
       "21      27735.0   17.0    9.0   26.0    02:06:58    00:04:53    00:59:44\n",
       "22      27737.0   55.0   23.0   78.0    01:57:44    00:01:30    00:10:18\n",
       "23      27738.0   46.0   28.0   74.0    01:40:06    00:01:21    00:16:20\n",
       "24      27739.0   75.0   36.0  111.0    06:38:00    00:03:35    01:04:58\n",
       "25      27740.0    3.0    0.0    3.0    00:01:50    00:00:36    00:01:02\n",
       "26      27741.0    0.0    2.0    2.0    00:01:24    00:00:42    00:01:18\n",
       "27      27742.0    8.0    7.0   15.0    04:02:26    00:16:09    00:45:06\n",
       "28      27744.0   11.0    0.0   11.0    00:05:18    00:00:28    00:01:02\n",
       "29      27745.0    1.0    0.0    1.0    00:00:06    00:00:06    00:00:06\n",
       "30      27747.0    5.0    0.0    5.0    01:50:40    00:22:08    01:00:30\n",
       "...         ...    ...    ...    ...         ...         ...         ...\n",
       "4505  3124350.0  507.0  166.0  673.0    14:02:32    00:01:15    00:22:00\n",
       "4506  3124351.0  499.0  164.0  663.0    14:35:46    00:01:19    00:20:20\n",
       "4507  3124352.0   28.0    0.0   28.0    00:05:20    00:00:11    00:00:26\n",
       "4508  3124353.0   28.0    0.0   28.0    00:04:42    00:00:10    00:00:30\n",
       "4509  3124354.0   33.0    0.0   33.0    00:03:48    00:00:06    00:00:20\n",
       "4510  3124355.0   25.0    0.0   25.0    00:02:38    00:00:06    00:00:22\n",
       "4511  3124356.0   27.0    0.0   27.0    00:03:14    00:00:07    00:00:16\n",
       "4512  3124357.0   16.0    0.0   16.0    00:01:18    00:00:04    00:00:12\n",
       "4513  3124358.0   24.0    0.0   24.0    00:03:06    00:00:07    00:00:18\n",
       "4514  3124359.0   23.0    0.0   23.0    00:02:22    00:00:06    00:00:14\n",
       "4515  3124370.0   21.0    0.0   21.0    00:02:20    00:00:06    00:00:20\n",
       "4516  3124371.0   20.0    0.0   20.0    00:02:36    00:00:07    00:00:20\n",
       "4517  3124372.0   27.0    0.0   27.0    00:03:36    00:00:08    00:00:26\n",
       "4518  3124373.0   22.0    0.0   22.0    00:02:30    00:00:06    00:00:20\n",
       "4519  3124374.0   29.0    0.0   29.0    00:03:38    00:00:07    00:00:20\n",
       "4520  3124375.0   20.0    0.0   20.0    00:02:16    00:00:06    00:00:26\n",
       "4521  3166532.0    1.0    0.0    1.0    00:56:20    00:56:20    00:56:20\n",
       "4522  3166534.0    1.0    0.0    1.0    00:37:42    00:37:42    00:37:42\n",
       "4523  3166535.0    1.0    0.0    1.0    00:39:12    00:39:12    00:39:12\n",
       "4524  3166543.0    1.0    0.0    1.0    00:00:02    00:00:02    00:00:02\n",
       "4525  3166544.0    3.0    0.0    3.0    00:03:24    00:01:08    00:03:16\n",
       "4526  3166546.0    1.0    0.0    1.0    00:36:32    00:36:32    00:36:32\n",
       "4527  3166548.0    2.0    0.0    2.0    00:39:46    00:19:53    00:39:44\n",
       "4528  3166552.0    2.0    0.0    2.0    00:42:50    00:21:25    00:42:48\n",
       "4529  3166554.0    1.0    0.0    1.0    00:39:32    00:39:32    00:39:32\n",
       "4530  3166556.0    1.0    0.0    1.0    00:00:08    00:00:08    00:00:08\n",
       "4531  3166598.0    1.0    0.0    1.0    00:54:22    00:54:22    00:54:22\n",
       "4532  3167802.0    0.0    2.0    2.0    00:00:12    00:00:06    00:00:06\n",
       "4533  3167878.0    1.0    0.0    1.0    00:02:08    00:02:08    00:02:08\n",
       "4534  3168654.0    0.0    1.0    1.0    00:00:02    00:00:02    00:00:02\n",
       "\n",
       "[4534 rows x 7 columns]"
      ]
     },
     "execution_count": 6,
     "metadata": {},
     "output_type": "execute_result"
    }
   ],
   "source": [
    "df"
   ]
  },
  {
   "cell_type": "code",
   "execution_count": 7,
   "metadata": {
    "collapsed": false
   },
   "outputs": [],
   "source": [
    "p = Histogram(df[df['Total'] < 500]['Total'], title='Histogram of number of total calls')"
   ]
  },
  {
   "cell_type": "code",
   "execution_count": 8,
   "metadata": {
    "collapsed": false
   },
   "outputs": [
    {
     "data": {
      "text/html": [
       "\n",
       "\n",
       "    <div class=\"bk-root\">\n",
       "        <div class=\"plotdiv\" id=\"b621bb84-91e0-4476-9637-74093b0b9336\"></div>\n",
       "    </div>\n",
       "<script type=\"text/javascript\">\n",
       "  \n",
       "  (function(global) {\n",
       "    function now() {\n",
       "      return new Date();\n",
       "    }\n",
       "  \n",
       "    var force = \"\";\n",
       "  \n",
       "    if (typeof (window._bokeh_onload_callbacks) === \"undefined\" || force !== \"\") {\n",
       "      window._bokeh_onload_callbacks = [];\n",
       "      window._bokeh_is_loading = undefined;\n",
       "    }\n",
       "  \n",
       "  \n",
       "    \n",
       "    if (typeof (window._bokeh_timeout) === \"undefined\" || force !== \"\") {\n",
       "      window._bokeh_timeout = Date.now() + 0;\n",
       "      window._bokeh_failed_load = false;\n",
       "    }\n",
       "  \n",
       "    var NB_LOAD_WARNING = {'data': {'text/html':\n",
       "       \"<div style='background-color: #fdd'>\\n\"+\n",
       "       \"<p>\\n\"+\n",
       "       \"BokehJS does not appear to have successfully loaded. If loading BokehJS from CDN, this \\n\"+\n",
       "       \"may be due to a slow or bad network connection. Possible fixes:\\n\"+\n",
       "       \"</p>\\n\"+\n",
       "       \"<ul>\\n\"+\n",
       "       \"<li>re-rerun `output_notebook()` to attempt to load from CDN again, or</li>\\n\"+\n",
       "       \"<li>use INLINE resources instead, as so:</li>\\n\"+\n",
       "       \"</ul>\\n\"+\n",
       "       \"<code>\\n\"+\n",
       "       \"from bokeh.resources import INLINE\\n\"+\n",
       "       \"output_notebook(resources=INLINE)\\n\"+\n",
       "       \"</code>\\n\"+\n",
       "       \"</div>\"}};\n",
       "  \n",
       "    function display_loaded() {\n",
       "      if (window.Bokeh !== undefined) {\n",
       "        Bokeh.$(\"#b621bb84-91e0-4476-9637-74093b0b9336\").text(\"BokehJS successfully loaded.\");\n",
       "      } else if (Date.now() < window._bokeh_timeout) {\n",
       "        setTimeout(display_loaded, 100)\n",
       "      }\n",
       "    }\n",
       "  \n",
       "    function run_callbacks() {\n",
       "      window._bokeh_onload_callbacks.forEach(function(callback) { callback() });\n",
       "      delete window._bokeh_onload_callbacks\n",
       "      console.info(\"Bokeh: all callbacks have finished\");\n",
       "    }\n",
       "  \n",
       "    function load_libs(js_urls, callback) {\n",
       "      window._bokeh_onload_callbacks.push(callback);\n",
       "      if (window._bokeh_is_loading > 0) {\n",
       "        console.log(\"Bokeh: BokehJS is being loaded, scheduling callback at\", now());\n",
       "        return null;\n",
       "      }\n",
       "      if (js_urls == null || js_urls.length === 0) {\n",
       "        run_callbacks();\n",
       "        return null;\n",
       "      }\n",
       "      console.log(\"Bokeh: BokehJS not loaded, scheduling load and callback at\", now());\n",
       "      window._bokeh_is_loading = js_urls.length;\n",
       "      for (var i = 0; i < js_urls.length; i++) {\n",
       "        var url = js_urls[i];\n",
       "        var s = document.createElement('script');\n",
       "        s.src = url;\n",
       "        s.async = false;\n",
       "        s.onreadystatechange = s.onload = function() {\n",
       "          window._bokeh_is_loading--;\n",
       "          if (window._bokeh_is_loading === 0) {\n",
       "            console.log(\"Bokeh: all BokehJS libraries loaded\");\n",
       "            run_callbacks()\n",
       "          }\n",
       "        };\n",
       "        s.onerror = function() {\n",
       "          console.warn(\"failed to load library \" + url);\n",
       "        };\n",
       "        console.log(\"Bokeh: injecting script tag for BokehJS library: \", url);\n",
       "        document.getElementsByTagName(\"head\")[0].appendChild(s);\n",
       "      }\n",
       "    };var element = document.getElementById(\"b621bb84-91e0-4476-9637-74093b0b9336\");\n",
       "    if (element == null) {\n",
       "      console.log(\"Bokeh: ERROR: autoload.js configured with elementid 'b621bb84-91e0-4476-9637-74093b0b9336' but no matching script tag was found. \")\n",
       "      return false;\n",
       "    }\n",
       "  \n",
       "    var js_urls = [];\n",
       "  \n",
       "    var inline_js = [\n",
       "      function(Bokeh) {\n",
       "        Bokeh.$(function() {\n",
       "            var docs_json = {\"2439e355-23d6-4e9b-898f-ad669df1fe24\":{\"roots\":{\"references\":[{\"attributes\":{\"data_source\":{\"id\":\"33c858ca-0da9-48d3-85af-834517b1871a\",\"type\":\"ColumnDataSource\"},\"glyph\":{\"id\":\"a3a0f3fe-8eef-4d7c-bb48-24833853a5db\",\"type\":\"Rect\"},\"hover_glyph\":null,\"nonselection_glyph\":null,\"selection_glyph\":null},\"id\":\"99a15506-7e68-49b0-a281-fa0c578cabb3\",\"type\":\"GlyphRenderer\"},{\"attributes\":{\"callback\":null,\"column_names\":[\"line_color\",\"color\",\"x\",\"label\",\"fill_alpha\",\"width\",\"line_alpha\",\"height\",\"y\"],\"data\":{\"chart_index\":[\"(171.4, 179.9]\"],\"color\":[\"#f22c40\"],\"fill_alpha\":[0.8],\"height\":[23.0],\"label\":[\"(171.4, 179.9]\"],\"line_alpha\":[1.0],\"line_color\":[\"black\"],\"width\":[8.517857142857167],\"x\":[\"175.65\"],\"y\":[11.5]}},\"id\":\"6d3e224e-3626-4583-8714-9672cd30a2fc\",\"type\":\"ColumnDataSource\"},{\"attributes\":{\"callback\":null,\"column_names\":[\"line_color\",\"color\",\"x\",\"label\",\"fill_alpha\",\"width\",\"line_alpha\",\"height\",\"y\"],\"data\":{\"chart_index\":[\"(358.8, 367.3]\"],\"color\":[\"#f22c40\"],\"fill_alpha\":[0.8],\"height\":[7.0],\"label\":[\"(358.8, 367.3]\"],\"line_alpha\":[1.0],\"line_color\":[\"black\"],\"width\":[8.51785714285711],\"x\":[\"363.05\"],\"y\":[3.5]}},\"id\":\"44b3f8ff-ffa0-4eab-ab05-61fbd1dcec22\",\"type\":\"ColumnDataSource\"},{\"attributes\":{\"callback\":null,\"column_names\":[\"line_color\",\"color\",\"x\",\"label\",\"fill_alpha\",\"width\",\"line_alpha\",\"height\",\"y\"],\"data\":{\"chart_index\":[\"(384.3, 392.8]\"],\"color\":[\"#f22c40\"],\"fill_alpha\":[0.8],\"height\":[3.0],\"label\":[\"(384.3, 392.8]\"],\"line_alpha\":[1.0],\"line_color\":[\"black\"],\"width\":[8.517857142857167],\"x\":[\"388.55\"],\"y\":[1.5]}},\"id\":\"28c5e7ec-55fe-43aa-bb54-b1adf8ee1b06\",\"type\":\"ColumnDataSource\"},{\"attributes\":{\"fill_alpha\":{\"field\":\"fill_alpha\"},\"fill_color\":{\"field\":\"color\"},\"height\":{\"field\":\"height\",\"units\":\"data\"},\"line_color\":{\"field\":\"line_color\"},\"width\":{\"field\":\"width\",\"units\":\"data\"},\"x\":{\"field\":\"x\"},\"y\":{\"field\":\"y\"}},\"id\":\"d5b9ac8b-3b94-487e-841f-aefedc3942e0\",\"type\":\"Rect\"},{\"attributes\":{\"data_source\":{\"id\":\"fe1a62c8-6918-4216-887f-967787742f95\",\"type\":\"ColumnDataSource\"},\"glyph\":{\"id\":\"d96521ab-56d5-499d-8dfc-58e1c9352be2\",\"type\":\"Rect\"},\"hover_glyph\":null,\"nonselection_glyph\":null,\"selection_glyph\":null},\"id\":\"de7d0996-59e7-4d26-8647-51f44849d00b\",\"type\":\"GlyphRenderer\"},{\"attributes\":{\"data_source\":{\"id\":\"95ba9a3d-9e5d-41cd-92c1-de84076789c0\",\"type\":\"ColumnDataSource\"},\"glyph\":{\"id\":\"69d44551-e009-497d-9ec3-77fdc9b3f1c0\",\"type\":\"Rect\"},\"hover_glyph\":null,\"nonselection_glyph\":null,\"selection_glyph\":null},\"id\":\"74726789-8391-4ab5-9929-cdb0d6d4ab9b\",\"type\":\"GlyphRenderer\"},{\"attributes\":{\"callback\":null,\"column_names\":[\"line_color\",\"color\",\"x\",\"label\",\"fill_alpha\",\"width\",\"line_alpha\",\"height\",\"y\"],\"data\":{\"chart_index\":[\"(43.6, 52.1]\"],\"color\":[\"#f22c40\"],\"fill_alpha\":[0.8],\"height\":[220.0],\"label\":[\"(43.6, 52.1]\"],\"line_alpha\":[1.0],\"line_color\":[\"black\"],\"width\":[8.517857142857146],\"x\":[\"47.85\"],\"y\":[110.0]}},\"id\":\"b11dbf1d-a3e6-4661-bf6b-6c0a24d23e5a\",\"type\":\"ColumnDataSource\"},{\"attributes\":{\"fill_alpha\":{\"field\":\"fill_alpha\"},\"fill_color\":{\"field\":\"color\"},\"height\":{\"field\":\"height\",\"units\":\"data\"},\"line_color\":{\"field\":\"line_color\"},\"width\":{\"field\":\"width\",\"units\":\"data\"},\"x\":{\"field\":\"x\"},\"y\":{\"field\":\"y\"}},\"id\":\"a3a0f3fe-8eef-4d7c-bb48-24833853a5db\",\"type\":\"Rect\"},{\"attributes\":{\"data_source\":{\"id\":\"6d3e224e-3626-4583-8714-9672cd30a2fc\",\"type\":\"ColumnDataSource\"},\"glyph\":{\"id\":\"c22cd1e6-adf2-46aa-9af4-abcc73d235e2\",\"type\":\"Rect\"},\"hover_glyph\":null,\"nonselection_glyph\":null,\"selection_glyph\":null},\"id\":\"b319db39-f507-4f3b-b324-e36738390049\",\"type\":\"GlyphRenderer\"},{\"attributes\":{\"data_source\":{\"id\":\"b11dbf1d-a3e6-4661-bf6b-6c0a24d23e5a\",\"type\":\"ColumnDataSource\"},\"glyph\":{\"id\":\"875e6478-72b6-4de6-b297-012ee7db2ef2\",\"type\":\"Rect\"},\"hover_glyph\":null,\"nonselection_glyph\":null,\"selection_glyph\":null},\"id\":\"033507bc-a066-4d18-925b-5e036b798065\",\"type\":\"GlyphRenderer\"},{\"attributes\":{\"fill_alpha\":{\"field\":\"fill_alpha\"},\"fill_color\":{\"field\":\"color\"},\"height\":{\"field\":\"height\",\"units\":\"data\"},\"line_color\":{\"field\":\"line_color\"},\"width\":{\"field\":\"width\",\"units\":\"data\"},\"x\":{\"field\":\"x\"},\"y\":{\"field\":\"y\"}},\"id\":\"9beb0053-b4f3-467c-b938-83704740b631\",\"type\":\"Rect\"},{\"attributes\":{\"fill_alpha\":{\"field\":\"fill_alpha\"},\"fill_color\":{\"field\":\"color\"},\"height\":{\"field\":\"height\",\"units\":\"data\"},\"line_color\":{\"field\":\"line_color\"},\"width\":{\"field\":\"width\",\"units\":\"data\"},\"x\":{\"field\":\"x\"},\"y\":{\"field\":\"y\"}},\"id\":\"0411604b-3ea1-41bc-8f59-086f4011f03e\",\"type\":\"Rect\"},{\"attributes\":{\"callback\":null,\"column_names\":[\"line_color\",\"color\",\"x\",\"label\",\"fill_alpha\",\"width\",\"line_alpha\",\"height\",\"y\"],\"data\":{\"chart_index\":[\"(9.5, 18.0]\"],\"color\":[\"#f22c40\"],\"fill_alpha\":[0.8],\"height\":[493.0],\"label\":[\"(9.5, 18.0]\"],\"line_alpha\":[1.0],\"line_color\":[\"black\"],\"width\":[8.517857142857142],\"x\":[\"13.75\"],\"y\":[246.5]}},\"id\":\"3309867a-f0fb-495b-b758-dfa80a427544\",\"type\":\"ColumnDataSource\"},{\"attributes\":{\"callback\":null,\"column_names\":[\"line_color\",\"color\",\"x\",\"label\",\"fill_alpha\",\"width\",\"line_alpha\",\"height\",\"y\"],\"data\":{\"chart_index\":[\"(409.9, 418.4]\"],\"color\":[\"#f22c40\"],\"fill_alpha\":[0.8],\"height\":[3.0],\"label\":[\"(409.9, 418.4]\"],\"line_alpha\":[1.0],\"line_color\":[\"black\"],\"width\":[8.517857142857167],\"x\":[\"414.15\"],\"y\":[1.5]}},\"id\":\"219a59a9-50bb-457a-a57a-942b178e87d3\",\"type\":\"ColumnDataSource\"},{\"attributes\":{\"data_source\":{\"id\":\"607ae7b7-c9a3-4600-b369-f5f0f44c824f\",\"type\":\"ColumnDataSource\"},\"glyph\":{\"id\":\"5168c8d7-0c2b-4d89-a00e-910e9e5b1e17\",\"type\":\"Rect\"},\"hover_glyph\":null,\"nonselection_glyph\":null,\"selection_glyph\":null},\"id\":\"465d36aa-1945-48b8-88a7-77c1623807b3\",\"type\":\"GlyphRenderer\"},{\"attributes\":{\"data_source\":{\"id\":\"de1bdea8-5cfe-4806-aee4-10dc92324046\",\"type\":\"ColumnDataSource\"},\"glyph\":{\"id\":\"58028659-1770-4d4c-939f-e765ed5f0edb\",\"type\":\"Rect\"},\"hover_glyph\":null,\"nonselection_glyph\":null,\"selection_glyph\":null},\"id\":\"ae9276b1-17b5-4e6f-aafe-2c6521bf1834\",\"type\":\"GlyphRenderer\"},{\"attributes\":{\"callback\":null,\"column_names\":[\"line_color\",\"color\",\"x\",\"label\",\"fill_alpha\",\"width\",\"line_alpha\",\"height\",\"y\"],\"data\":{\"chart_index\":[\"(265.1, 273.6]\"],\"color\":[\"#f22c40\"],\"fill_alpha\":[0.8],\"height\":[10.0],\"label\":[\"(265.1, 273.6]\"],\"line_alpha\":[1.0],\"line_color\":[\"black\"],\"width\":[8.517857142857167],\"x\":[\"269.35\"],\"y\":[5.0]}},\"id\":\"6f3de6fb-ee83-4ed1-9b01-aef39b710d40\",\"type\":\"ColumnDataSource\"},{\"attributes\":{\"fill_alpha\":{\"field\":\"fill_alpha\"},\"fill_color\":{\"field\":\"color\"},\"height\":{\"field\":\"height\",\"units\":\"data\"},\"line_color\":{\"field\":\"line_color\"},\"width\":{\"field\":\"width\",\"units\":\"data\"},\"x\":{\"field\":\"x\"},\"y\":{\"field\":\"y\"}},\"id\":\"c9e47bcd-43ef-42b7-af0a-fceb376e9d43\",\"type\":\"Rect\"},{\"attributes\":{\"data_source\":{\"id\":\"52354ab2-b2b3-463b-a7a6-26a313a78e7b\",\"type\":\"ColumnDataSource\"},\"glyph\":{\"id\":\"0ea067c0-3dd3-40bb-94a1-d78c1be3f6a4\",\"type\":\"Rect\"},\"hover_glyph\":null,\"nonselection_glyph\":null,\"selection_glyph\":null},\"id\":\"6fa93cb6-1c31-43d6-8bf2-a913e76e8103\",\"type\":\"GlyphRenderer\"},{\"attributes\":{\"location\":\"top_left\",\"plot\":{\"id\":\"0b0bf77b-35b6-429f-aede-1ae9376fa57d\",\"subtype\":\"Chart\",\"type\":\"Plot\"}},\"id\":\"cdf19333-673c-44d4-9741-a64a64754cb5\",\"type\":\"Legend\"},{\"attributes\":{\"data_source\":{\"id\":\"44b3f8ff-ffa0-4eab-ab05-61fbd1dcec22\",\"type\":\"ColumnDataSource\"},\"glyph\":{\"id\":\"26e9c1a8-0b66-4be3-b3f8-8b3ea6ebf194\",\"type\":\"Rect\"},\"hover_glyph\":null,\"nonselection_glyph\":null,\"selection_glyph\":null},\"id\":\"a0662fb9-fbd7-4b82-aea3-75b515d396e5\",\"type\":\"GlyphRenderer\"},{\"attributes\":{},\"id\":\"73d430e0-8880-402a-952b-372aad9c9183\",\"type\":\"BasicTicker\"},{\"attributes\":{\"fill_alpha\":{\"field\":\"fill_alpha\"},\"fill_color\":{\"field\":\"color\"},\"height\":{\"field\":\"height\",\"units\":\"data\"},\"line_color\":{\"field\":\"line_color\"},\"width\":{\"field\":\"width\",\"units\":\"data\"},\"x\":{\"field\":\"x\"},\"y\":{\"field\":\"y\"}},\"id\":\"84ffbdbc-b6ae-4fe0-96e4-335366cb427c\",\"type\":\"Rect\"},{\"attributes\":{\"callback\":null,\"column_names\":[\"line_color\",\"color\",\"x\",\"label\",\"fill_alpha\",\"width\",\"line_alpha\",\"height\",\"y\"],\"data\":{\"chart_index\":[\"[1.0, 9.5]\"],\"color\":[\"#f22c40\"],\"fill_alpha\":[0.8],\"height\":[1112.0],\"label\":[\"[1.0, 9.5]\"],\"line_alpha\":[1.0],\"line_color\":[\"black\"],\"width\":[8.517857142857142],\"x\":[\"5.25\"],\"y\":[556.0]}},\"id\":\"905640de-8585-49ec-9ecd-d4488dcca6fb\",\"type\":\"ColumnDataSource\"},{\"attributes\":{\"data_source\":{\"id\":\"535240d8-a514-4f8b-aad4-fe5791dd2718\",\"type\":\"ColumnDataSource\"},\"glyph\":{\"id\":\"f64fc801-6b1a-4166-834c-45db0ec7db20\",\"type\":\"Rect\"},\"hover_glyph\":null,\"nonselection_glyph\":null,\"selection_glyph\":null},\"id\":\"96681e44-71c7-4094-81e9-adb25eb42b91\",\"type\":\"GlyphRenderer\"},{\"attributes\":{\"data_source\":{\"id\":\"8e4f40cc-e355-4c36-b829-6ec2b8346351\",\"type\":\"ColumnDataSource\"},\"glyph\":{\"id\":\"5e122dcd-778c-4035-aaab-99f5466aa261\",\"type\":\"Rect\"},\"hover_glyph\":null,\"nonselection_glyph\":null,\"selection_glyph\":null},\"id\":\"07d2fb08-0100-4b17-8c68-f3266195e1c1\",\"type\":\"GlyphRenderer\"},{\"attributes\":{\"data_source\":{\"id\":\"1269afb6-abac-4ca8-9f4c-25a10f20919a\",\"type\":\"ColumnDataSource\"},\"glyph\":{\"id\":\"d456f797-cab4-4ca7-9994-75a51222e150\",\"type\":\"Rect\"},\"hover_glyph\":null,\"nonselection_glyph\":null,\"selection_glyph\":null},\"id\":\"de5d6ccd-c828-4dea-b3d3-8893cd64f86c\",\"type\":\"GlyphRenderer\"},{\"attributes\":{\"data_source\":{\"id\":\"c3a09032-705c-4108-b97a-4da94862eb19\",\"type\":\"ColumnDataSource\"},\"glyph\":{\"id\":\"bbfaab4c-2c05-496f-b8c8-6018107c7674\",\"type\":\"Rect\"},\"hover_glyph\":null,\"nonselection_glyph\":null,\"selection_glyph\":null},\"id\":\"8b793d1d-d3f5-4cc5-930a-2c9d89a9b1de\",\"type\":\"GlyphRenderer\"},{\"attributes\":{\"fill_alpha\":{\"field\":\"fill_alpha\"},\"fill_color\":{\"field\":\"color\"},\"height\":{\"field\":\"height\",\"units\":\"data\"},\"line_color\":{\"field\":\"line_color\"},\"width\":{\"field\":\"width\",\"units\":\"data\"},\"x\":{\"field\":\"x\"},\"y\":{\"field\":\"y\"}},\"id\":\"9c0ead12-f137-4ed4-90bc-11bb862dda5a\",\"type\":\"Rect\"},{\"attributes\":{\"data_source\":{\"id\":\"13aa155c-502e-4a52-a282-2b243cc01ec7\",\"type\":\"ColumnDataSource\"},\"glyph\":{\"id\":\"0411604b-3ea1-41bc-8f59-086f4011f03e\",\"type\":\"Rect\"},\"hover_glyph\":null,\"nonselection_glyph\":null,\"selection_glyph\":null},\"id\":\"86ef096b-9c77-45b0-bfab-8990091628ed\",\"type\":\"GlyphRenderer\"},{\"attributes\":{\"data_source\":{\"id\":\"20f35f8f-6a7c-4f7b-b51b-4c58684cd36d\",\"type\":\"ColumnDataSource\"},\"glyph\":{\"id\":\"94ffe494-c3a9-41ed-b1ef-1b5cc9e38f37\",\"type\":\"Rect\"},\"hover_glyph\":null,\"nonselection_glyph\":null,\"selection_glyph\":null},\"id\":\"c50046ef-ddbd-4b73-984f-69b69ee45987\",\"type\":\"GlyphRenderer\"},{\"attributes\":{\"callback\":null,\"column_names\":[\"line_color\",\"color\",\"x\",\"label\",\"fill_alpha\",\"width\",\"line_alpha\",\"height\",\"y\"],\"data\":{\"chart_index\":[\"(128.8, 137.3]\"],\"color\":[\"#f22c40\"],\"fill_alpha\":[0.8],\"height\":[49.0],\"label\":[\"(128.8, 137.3]\"],\"line_alpha\":[1.0],\"line_color\":[\"black\"],\"width\":[8.517857142857139],\"x\":[\"133.05\"],\"y\":[24.5]}},\"id\":\"2969a8d6-dc9b-4a40-a31a-a0e0ca51f1ff\",\"type\":\"ColumnDataSource\"},{\"attributes\":{\"fill_alpha\":{\"field\":\"fill_alpha\"},\"fill_color\":{\"field\":\"color\"},\"height\":{\"field\":\"height\",\"units\":\"data\"},\"line_color\":{\"field\":\"line_color\"},\"width\":{\"field\":\"width\",\"units\":\"data\"},\"x\":{\"field\":\"x\"},\"y\":{\"field\":\"y\"}},\"id\":\"25f3b08c-ff0f-470d-88e6-8150d2df8032\",\"type\":\"Rect\"},{\"attributes\":{\"data_source\":{\"id\":\"ca3abe30-4c1e-4a36-a1ae-2b96d35f7358\",\"type\":\"ColumnDataSource\"},\"glyph\":{\"id\":\"dc001e2b-e992-4752-b033-a76af5c1b0a6\",\"type\":\"Rect\"},\"hover_glyph\":null,\"nonselection_glyph\":null,\"selection_glyph\":null},\"id\":\"3ed3409d-ac01-4b5c-8fcb-401fd5351526\",\"type\":\"GlyphRenderer\"},{\"attributes\":{\"fill_alpha\":{\"field\":\"fill_alpha\"},\"fill_color\":{\"field\":\"color\"},\"height\":{\"field\":\"height\",\"units\":\"data\"},\"line_color\":{\"field\":\"line_color\"},\"width\":{\"field\":\"width\",\"units\":\"data\"},\"x\":{\"field\":\"x\"},\"y\":{\"field\":\"y\"}},\"id\":\"769af311-2b57-48be-bccc-d757ba492b4e\",\"type\":\"Rect\"},{\"attributes\":{\"plot\":{\"id\":\"0b0bf77b-35b6-429f-aede-1ae9376fa57d\",\"subtype\":\"Chart\",\"type\":\"Plot\"}},\"id\":\"15da27fe-57f5-460f-aa75-d81b4b84af75\",\"type\":\"PanTool\"},{\"attributes\":{\"fill_alpha\":{\"field\":\"fill_alpha\"},\"fill_color\":{\"field\":\"color\"},\"height\":{\"field\":\"height\",\"units\":\"data\"},\"line_color\":{\"field\":\"line_color\"},\"width\":{\"field\":\"width\",\"units\":\"data\"},\"x\":{\"field\":\"x\"},\"y\":{\"field\":\"y\"}},\"id\":\"4e96d3da-c10d-4da6-afb9-8bbdc33cd4ee\",\"type\":\"Rect\"},{\"attributes\":{\"callback\":null,\"column_names\":[\"line_color\",\"color\",\"x\",\"label\",\"fill_alpha\",\"width\",\"line_alpha\",\"height\",\"y\"],\"data\":{\"chart_index\":[\"(435.4, 443.9]\"],\"color\":[\"#f22c40\"],\"fill_alpha\":[0.8],\"height\":[5.0],\"label\":[\"(435.4, 443.9]\"],\"line_alpha\":[1.0],\"line_color\":[\"black\"],\"width\":[8.51785714285711],\"x\":[\"439.65\"],\"y\":[2.5]}},\"id\":\"b70dd5b7-070c-427c-ac6a-2f59fe0f3d34\",\"type\":\"ColumnDataSource\"},{\"attributes\":{\"callback\":null,\"column_names\":[\"line_color\",\"color\",\"x\",\"label\",\"fill_alpha\",\"width\",\"line_alpha\",\"height\",\"y\"],\"data\":{\"chart_index\":[\"(316.2, 324.7]\"],\"color\":[\"#f22c40\"],\"fill_alpha\":[0.8],\"height\":[13.0],\"label\":[\"(316.2, 324.7]\"],\"line_alpha\":[1.0],\"line_color\":[\"black\"],\"width\":[8.51785714285711],\"x\":[\"320.45\"],\"y\":[6.5]}},\"id\":\"221b0424-50f9-4033-a4f4-437abe38f115\",\"type\":\"ColumnDataSource\"},{\"attributes\":{\"data_source\":{\"id\":\"96f2eae6-478e-4850-b8f0-1c2cade160cd\",\"type\":\"ColumnDataSource\"},\"glyph\":{\"id\":\"9cbdc179-355c-477a-9dd7-def4c2cace92\",\"type\":\"Rect\"},\"hover_glyph\":null,\"nonselection_glyph\":null,\"selection_glyph\":null},\"id\":\"a329534a-36bf-44a2-8b4b-bb0ce568c7e8\",\"type\":\"GlyphRenderer\"},{\"attributes\":{\"fill_alpha\":{\"field\":\"fill_alpha\"},\"fill_color\":{\"field\":\"color\"},\"height\":{\"field\":\"height\",\"units\":\"data\"},\"line_color\":{\"field\":\"line_color\"},\"width\":{\"field\":\"width\",\"units\":\"data\"},\"x\":{\"field\":\"x\"},\"y\":{\"field\":\"y\"}},\"id\":\"3c3d88c9-18b9-4d69-9037-3edea3e2fac7\",\"type\":\"Rect\"},{\"attributes\":{\"fill_alpha\":{\"field\":\"fill_alpha\"},\"fill_color\":{\"field\":\"color\"},\"height\":{\"field\":\"height\",\"units\":\"data\"},\"line_color\":{\"field\":\"line_color\"},\"width\":{\"field\":\"width\",\"units\":\"data\"},\"x\":{\"field\":\"x\"},\"y\":{\"field\":\"y\"}},\"id\":\"f64fc801-6b1a-4166-834c-45db0ec7db20\",\"type\":\"Rect\"},{\"attributes\":{\"callback\":null,\"column_names\":[\"line_color\",\"color\",\"x\",\"label\",\"fill_alpha\",\"width\",\"line_alpha\",\"height\",\"y\"],\"data\":{\"chart_index\":[\"(213.9, 222.5]\"],\"color\":[\"#f22c40\"],\"fill_alpha\":[0.8],\"height\":[19.0],\"label\":[\"(213.9, 222.5]\"],\"line_alpha\":[1.0],\"line_color\":[\"black\"],\"width\":[8.517857142857139],\"x\":[\"218.2\"],\"y\":[9.5]}},\"id\":\"ff41c5af-646d-4c40-97f3-bbea11bd6d10\",\"type\":\"ColumnDataSource\"},{\"attributes\":{\"overlay\":{\"id\":\"76c8c42f-1038-429a-96c2-6e08e80d0fd0\",\"type\":\"BoxAnnotation\"},\"plot\":{\"id\":\"0b0bf77b-35b6-429f-aede-1ae9376fa57d\",\"subtype\":\"Chart\",\"type\":\"Plot\"}},\"id\":\"b50de9d3-b599-45cb-b3e5-c3047389442c\",\"type\":\"BoxZoomTool\"},{\"attributes\":{\"below\":[{\"id\":\"fbe8d2fd-409a-4b20-b65f-464a9995eef1\",\"type\":\"LinearAxis\"}],\"left\":[{\"id\":\"7fe9715f-a34b-4231-9f37-ec1809304cd2\",\"type\":\"LinearAxis\"}],\"renderers\":[{\"id\":\"76c8c42f-1038-429a-96c2-6e08e80d0fd0\",\"type\":\"BoxAnnotation\"},{\"id\":\"237d14e3-c950-4716-86d2-d22a72ffea15\",\"type\":\"GlyphRenderer\"},{\"id\":\"eb6c009b-13b5-468f-848a-28fd50447c77\",\"type\":\"GlyphRenderer\"},{\"id\":\"96681e44-71c7-4094-81e9-adb25eb42b91\",\"type\":\"GlyphRenderer\"},{\"id\":\"0d665cbb-8501-4e94-afb6-6de10eb0fe25\",\"type\":\"GlyphRenderer\"},{\"id\":\"6917ea17-303b-4b9b-954d-ff1cf86e712a\",\"type\":\"GlyphRenderer\"},{\"id\":\"033507bc-a066-4d18-925b-5e036b798065\",\"type\":\"GlyphRenderer\"},{\"id\":\"86ef096b-9c77-45b0-bfab-8990091628ed\",\"type\":\"GlyphRenderer\"},{\"id\":\"863f92ce-b4a1-49bf-9696-5ceb2149c1e1\",\"type\":\"GlyphRenderer\"},{\"id\":\"ce5ddded-16ef-4f54-8193-38913a8dd431\",\"type\":\"GlyphRenderer\"},{\"id\":\"44866eab-d559-4411-8303-c386c92b914a\",\"type\":\"GlyphRenderer\"},{\"id\":\"fbd521b5-31ea-49dd-9bec-1fbc1cf1cc1b\",\"type\":\"GlyphRenderer\"},{\"id\":\"99a15506-7e68-49b0-a281-fa0c578cabb3\",\"type\":\"GlyphRenderer\"},{\"id\":\"f8c10675-1242-4108-9266-b7a97f9ef43a\",\"type\":\"GlyphRenderer\"},{\"id\":\"6fa93cb6-1c31-43d6-8bf2-a913e76e8103\",\"type\":\"GlyphRenderer\"},{\"id\":\"74f4c362-fe51-46d1-a0d3-083b946aedfb\",\"type\":\"GlyphRenderer\"},{\"id\":\"05997d67-9cdd-43e7-a141-0bf8658c7122\",\"type\":\"GlyphRenderer\"},{\"id\":\"de7d0996-59e7-4d26-8647-51f44849d00b\",\"type\":\"GlyphRenderer\"},{\"id\":\"b2723b59-0373-43c7-b5bf-99b3062d3b4f\",\"type\":\"GlyphRenderer\"},{\"id\":\"de5d6ccd-c828-4dea-b3d3-8893cd64f86c\",\"type\":\"GlyphRenderer\"},{\"id\":\"573ad349-224b-45a5-90ac-9942b2b95045\",\"type\":\"GlyphRenderer\"},{\"id\":\"b319db39-f507-4f3b-b324-e36738390049\",\"type\":\"GlyphRenderer\"},{\"id\":\"8a9847c0-e795-4ae7-9287-7eecdf878bf8\",\"type\":\"GlyphRenderer\"},{\"id\":\"4e2d6ac2-9eaa-4064-a927-3cf8372f1874\",\"type\":\"GlyphRenderer\"},{\"id\":\"c50046ef-ddbd-4b73-984f-69b69ee45987\",\"type\":\"GlyphRenderer\"},{\"id\":\"ec7a4fd5-82fa-4a58-83b6-6fc3e4144954\",\"type\":\"GlyphRenderer\"},{\"id\":\"dd50af4b-b313-413b-9bf7-a505ef841e06\",\"type\":\"GlyphRenderer\"},{\"id\":\"3ed3409d-ac01-4b5c-8fcb-401fd5351526\",\"type\":\"GlyphRenderer\"},{\"id\":\"74726789-8391-4ab5-9929-cdb0d6d4ab9b\",\"type\":\"GlyphRenderer\"},{\"id\":\"bc90ef72-3997-42c5-8f04-46cf562b9be2\",\"type\":\"GlyphRenderer\"},{\"id\":\"9851336e-20f9-4aba-9b18-c90cf6aa6a33\",\"type\":\"GlyphRenderer\"},{\"id\":\"a329534a-36bf-44a2-8b4b-bb0ce568c7e8\",\"type\":\"GlyphRenderer\"},{\"id\":\"0ed93228-882e-48f0-882f-13b50254c9a9\",\"type\":\"GlyphRenderer\"},{\"id\":\"6318fe29-ce72-4f34-ab42-b62ec3a348f1\",\"type\":\"GlyphRenderer\"},{\"id\":\"73277891-ffe8-4dd2-956d-b2ffb2354797\",\"type\":\"GlyphRenderer\"},{\"id\":\"6d3fb4d2-1640-440f-9dec-4672e948222b\",\"type\":\"GlyphRenderer\"},{\"id\":\"58a9f593-7a95-4ca8-b755-a6dddbe9daf2\",\"type\":\"GlyphRenderer\"},{\"id\":\"4f935b85-1d38-4efc-8e2d-542a3fbbe735\",\"type\":\"GlyphRenderer\"},{\"id\":\"8829a599-b5d8-41f4-a23f-dff14b8c58f2\",\"type\":\"GlyphRenderer\"},{\"id\":\"a019e4d6-80ac-4fcc-8598-610c6d1ea7d1\",\"type\":\"GlyphRenderer\"},{\"id\":\"9f6b40eb-d353-4f54-aaf3-2e736cdf62f6\",\"type\":\"GlyphRenderer\"},{\"id\":\"91ff0f7a-c00e-4fe2-a708-f89aa7864028\",\"type\":\"GlyphRenderer\"},{\"id\":\"12926cd3-68a5-4d80-b82a-a7e24c65c009\",\"type\":\"GlyphRenderer\"},{\"id\":\"a0662fb9-fbd7-4b82-aea3-75b515d396e5\",\"type\":\"GlyphRenderer\"},{\"id\":\"8b0344cc-1074-41fa-8daa-980c12d927e6\",\"type\":\"GlyphRenderer\"},{\"id\":\"ae9276b1-17b5-4e6f-aafe-2c6521bf1834\",\"type\":\"GlyphRenderer\"},{\"id\":\"19ba2590-f089-4726-8fcd-d810804f5af7\",\"type\":\"GlyphRenderer\"},{\"id\":\"b67dc9cd-d918-44fa-b452-ea7c4e4aaed5\",\"type\":\"GlyphRenderer\"},{\"id\":\"8b793d1d-d3f5-4cc5-930a-2c9d89a9b1de\",\"type\":\"GlyphRenderer\"},{\"id\":\"35c2ebd3-b9c2-484d-aa49-8a6f49ffd998\",\"type\":\"GlyphRenderer\"},{\"id\":\"28b8c89d-4672-4527-b026-5adcffb40936\",\"type\":\"GlyphRenderer\"},{\"id\":\"07d2fb08-0100-4b17-8c68-f3266195e1c1\",\"type\":\"GlyphRenderer\"},{\"id\":\"164f6266-ca2d-4ff7-8434-f2d9b6bf70f0\",\"type\":\"GlyphRenderer\"},{\"id\":\"7b5c6355-f751-4c21-ad58-bd13b15c5b76\",\"type\":\"GlyphRenderer\"},{\"id\":\"465d36aa-1945-48b8-88a7-77c1623807b3\",\"type\":\"GlyphRenderer\"},{\"id\":\"4d0ba4df-03c8-4dab-a4e0-d320f6df64e7\",\"type\":\"GlyphRenderer\"},{\"id\":\"ba5552de-8385-4ecd-be9f-1f804d1a0c50\",\"type\":\"GlyphRenderer\"},{\"id\":\"cdf19333-673c-44d4-9741-a64a64754cb5\",\"type\":\"Legend\"},{\"id\":\"fbe8d2fd-409a-4b20-b65f-464a9995eef1\",\"type\":\"LinearAxis\"},{\"id\":\"7fe9715f-a34b-4231-9f37-ec1809304cd2\",\"type\":\"LinearAxis\"},{\"id\":\"d937e1a3-ec96-406c-9bd7-5ed657a0c091\",\"type\":\"Grid\"}],\"title\":{\"id\":\"fb43bb80-d7e4-42a5-b020-b7e1ff6a681a\",\"type\":\"Title\"},\"tool_events\":{\"id\":\"65b760b4-335e-4a51-8711-83c7b670a94a\",\"type\":\"ToolEvents\"},\"toolbar\":{\"id\":\"876d7380-445a-414a-83a1-a162cf5db969\",\"type\":\"Toolbar\"},\"x_mapper_type\":\"auto\",\"x_range\":{\"id\":\"19e53229-2b8c-4767-909d-22548656e6b4\",\"type\":\"Range1d\"},\"y_mapper_type\":\"auto\",\"y_range\":{\"id\":\"ee8dd75b-1da7-4894-a0d7-dd02e35aee09\",\"type\":\"Range1d\"}},\"id\":\"0b0bf77b-35b6-429f-aede-1ae9376fa57d\",\"subtype\":\"Chart\",\"type\":\"Plot\"},{\"attributes\":{\"callback\":null,\"column_names\":[\"line_color\",\"color\",\"x\",\"label\",\"fill_alpha\",\"width\",\"line_alpha\",\"height\",\"y\"],\"data\":{\"chart_index\":[\"(324.7, 333.2]\"],\"color\":[\"#f22c40\"],\"fill_alpha\":[0.8],\"height\":[8.0],\"label\":[\"(324.7, 333.2]\"],\"line_alpha\":[1.0],\"line_color\":[\"black\"],\"width\":[8.517857142857167],\"x\":[\"328.95\"],\"y\":[4.0]}},\"id\":\"a80f8a56-c6bf-4278-8827-d576459152e8\",\"type\":\"ColumnDataSource\"},{\"attributes\":{\"fill_alpha\":{\"field\":\"fill_alpha\"},\"fill_color\":{\"field\":\"color\"},\"height\":{\"field\":\"height\",\"units\":\"data\"},\"line_color\":{\"field\":\"line_color\"},\"width\":{\"field\":\"width\",\"units\":\"data\"},\"x\":{\"field\":\"x\"},\"y\":{\"field\":\"y\"}},\"id\":\"d456f797-cab4-4ca7-9994-75a51222e150\",\"type\":\"Rect\"},{\"attributes\":{\"callback\":null,\"column_names\":[\"line_color\",\"color\",\"x\",\"label\",\"fill_alpha\",\"width\",\"line_alpha\",\"height\",\"y\"],\"data\":{\"chart_index\":[\"(307.6, 316.2]\"],\"color\":[\"#f22c40\"],\"fill_alpha\":[0.8],\"height\":[6.0],\"label\":[\"(307.6, 316.2]\"],\"line_alpha\":[1.0],\"line_color\":[\"black\"],\"width\":[8.517857142857167],\"x\":[\"311.9\"],\"y\":[3.0]}},\"id\":\"af1d5922-2c6b-4d7c-82a9-e98cfac3a982\",\"type\":\"ColumnDataSource\"},{\"attributes\":{\"data_source\":{\"id\":\"28c5e7ec-55fe-43aa-bb54-b1adf8ee1b06\",\"type\":\"ColumnDataSource\"},\"glyph\":{\"id\":\"6c5b65f5-428a-45f7-abab-cc2bdbc24ef2\",\"type\":\"Rect\"},\"hover_glyph\":null,\"nonselection_glyph\":null,\"selection_glyph\":null},\"id\":\"19ba2590-f089-4726-8fcd-d810804f5af7\",\"type\":\"GlyphRenderer\"},{\"attributes\":{\"callback\":null,\"column_names\":[\"line_color\",\"color\",\"x\",\"label\",\"fill_alpha\",\"width\",\"line_alpha\",\"height\",\"y\"],\"data\":{\"chart_index\":[\"(273.6, 282.1]\"],\"color\":[\"#f22c40\"],\"fill_alpha\":[0.8],\"height\":[13.0],\"label\":[\"(273.6, 282.1]\"],\"line_alpha\":[1.0],\"line_color\":[\"black\"],\"width\":[8.517857142857167],\"x\":[\"277.85\"],\"y\":[6.5]}},\"id\":\"77d42a30-cbe7-45b5-9688-78626813a594\",\"type\":\"ColumnDataSource\"},{\"attributes\":{\"data_source\":{\"id\":\"73ae3b1e-6199-4529-af2c-1840a204ba4c\",\"type\":\"ColumnDataSource\"},\"glyph\":{\"id\":\"9beb0053-b4f3-467c-b938-83704740b631\",\"type\":\"Rect\"},\"hover_glyph\":null,\"nonselection_glyph\":null,\"selection_glyph\":null},\"id\":\"b67dc9cd-d918-44fa-b452-ea7c4e4aaed5\",\"type\":\"GlyphRenderer\"},{\"attributes\":{\"plot\":null,\"text\":\"Histogram of number of total calls\"},\"id\":\"fb43bb80-d7e4-42a5-b020-b7e1ff6a681a\",\"type\":\"Title\"},{\"attributes\":{\"data_source\":{\"id\":\"ff41c5af-646d-4c40-97f3-bbea11bd6d10\",\"type\":\"ColumnDataSource\"},\"glyph\":{\"id\":\"6ee6373a-c382-4d30-9425-01c5c4a05b7c\",\"type\":\"Rect\"},\"hover_glyph\":null,\"nonselection_glyph\":null,\"selection_glyph\":null},\"id\":\"dd50af4b-b313-413b-9bf7-a505ef841e06\",\"type\":\"GlyphRenderer\"},{\"attributes\":{\"fill_alpha\":{\"field\":\"fill_alpha\"},\"fill_color\":{\"field\":\"color\"},\"height\":{\"field\":\"height\",\"units\":\"data\"},\"line_color\":{\"field\":\"line_color\"},\"width\":{\"field\":\"width\",\"units\":\"data\"},\"x\":{\"field\":\"x\"},\"y\":{\"field\":\"y\"}},\"id\":\"0e9de4c4-226d-4585-99eb-9b69a1bee794\",\"type\":\"Rect\"},{\"attributes\":{\"data_source\":{\"id\":\"d4a8d76c-921a-4a28-bdd4-4ca70afa6483\",\"type\":\"ColumnDataSource\"},\"glyph\":{\"id\":\"f643976f-ec7a-461a-b530-09e36b31764a\",\"type\":\"Rect\"},\"hover_glyph\":null,\"nonselection_glyph\":null,\"selection_glyph\":null},\"id\":\"44866eab-d559-4411-8303-c386c92b914a\",\"type\":\"GlyphRenderer\"},{\"attributes\":{\"data_source\":{\"id\":\"c8959f47-8c28-4718-83af-fb7cb5609251\",\"type\":\"ColumnDataSource\"},\"glyph\":{\"id\":\"619bf7de-f42f-4e87-97fc-13cda0704c75\",\"type\":\"Rect\"},\"hover_glyph\":null,\"nonselection_glyph\":null,\"selection_glyph\":null},\"id\":\"0d665cbb-8501-4e94-afb6-6de10eb0fe25\",\"type\":\"GlyphRenderer\"},{\"attributes\":{\"data_source\":{\"id\":\"9e530394-821e-481d-a557-c6954aa8a91a\",\"type\":\"ColumnDataSource\"},\"glyph\":{\"id\":\"7f801eb1-2b91-4fef-a92d-bc766a04a4a4\",\"type\":\"Rect\"},\"hover_glyph\":null,\"nonselection_glyph\":null,\"selection_glyph\":null},\"id\":\"6d3fb4d2-1640-440f-9dec-4672e948222b\",\"type\":\"GlyphRenderer\"},{\"attributes\":{\"data_source\":{\"id\":\"b135bb29-c018-4f45-a685-c9b52349e03b\",\"type\":\"ColumnDataSource\"},\"glyph\":{\"id\":\"c9dddbe6-c7a8-450a-b057-093ea2079e50\",\"type\":\"Rect\"},\"hover_glyph\":null,\"nonselection_glyph\":null,\"selection_glyph\":null},\"id\":\"8b0344cc-1074-41fa-8daa-980c12d927e6\",\"type\":\"GlyphRenderer\"},{\"attributes\":{\"data_source\":{\"id\":\"9e232c4c-7e91-44a3-ada1-8aec1ab8d4f1\",\"type\":\"ColumnDataSource\"},\"glyph\":{\"id\":\"84ffbdbc-b6ae-4fe0-96e4-335366cb427c\",\"type\":\"Rect\"},\"hover_glyph\":null,\"nonselection_glyph\":null,\"selection_glyph\":null},\"id\":\"b2723b59-0373-43c7-b5bf-99b3062d3b4f\",\"type\":\"GlyphRenderer\"},{\"attributes\":{\"fill_alpha\":{\"field\":\"fill_alpha\"},\"fill_color\":{\"field\":\"color\"},\"height\":{\"field\":\"height\",\"units\":\"data\"},\"line_color\":{\"field\":\"line_color\"},\"width\":{\"field\":\"width\",\"units\":\"data\"},\"x\":{\"field\":\"x\"},\"y\":{\"field\":\"y\"}},\"id\":\"2b771bca-1cde-4219-b368-3d7faf582c85\",\"type\":\"Rect\"},{\"attributes\":{\"callback\":null,\"column_names\":[\"line_color\",\"color\",\"x\",\"label\",\"fill_alpha\",\"width\",\"line_alpha\",\"height\",\"y\"],\"data\":{\"chart_index\":[\"(145.8, 154.3]\"],\"color\":[\"#f22c40\"],\"fill_alpha\":[0.8],\"height\":[42.0],\"label\":[\"(145.8, 154.3]\"],\"line_alpha\":[1.0],\"line_color\":[\"black\"],\"width\":[8.517857142857139],\"x\":[\"150.05\"],\"y\":[21.0]}},\"id\":\"9e232c4c-7e91-44a3-ada1-8aec1ab8d4f1\",\"type\":\"ColumnDataSource\"},{\"attributes\":{\"callback\":null,\"column_names\":[\"line_color\",\"color\",\"x\",\"label\",\"fill_alpha\",\"width\",\"line_alpha\",\"height\",\"y\"],\"data\":{\"chart_index\":[\"(35.1, 43.6]\"],\"color\":[\"#f22c40\"],\"fill_alpha\":[0.8],\"height\":[246.0],\"label\":[\"(35.1, 43.6]\"],\"line_alpha\":[1.0],\"line_color\":[\"black\"],\"width\":[8.517857142857139],\"x\":[\"39.35\"],\"y\":[123.0]}},\"id\":\"bfb8c651-0ce1-4d99-9f9b-5e12c6eb2213\",\"type\":\"ColumnDataSource\"},{\"attributes\":{\"fill_alpha\":{\"field\":\"fill_alpha\"},\"fill_color\":{\"field\":\"color\"},\"height\":{\"field\":\"height\",\"units\":\"data\"},\"line_color\":{\"field\":\"line_color\"},\"width\":{\"field\":\"width\",\"units\":\"data\"},\"x\":{\"field\":\"x\"},\"y\":{\"field\":\"y\"}},\"id\":\"bbfaab4c-2c05-496f-b8c8-6018107c7674\",\"type\":\"Rect\"},{\"attributes\":{\"callback\":null,\"column_names\":[\"line_color\",\"color\",\"x\",\"label\",\"fill_alpha\",\"width\",\"line_alpha\",\"height\",\"y\"],\"data\":{\"chart_index\":[\"(418.4, 426.9]\"],\"color\":[\"#f22c40\"],\"fill_alpha\":[0.8],\"height\":[2.0],\"label\":[\"(418.4, 426.9]\"],\"line_alpha\":[1.0],\"line_color\":[\"black\"],\"width\":[8.51785714285711],\"x\":[\"422.65\"],\"y\":[1.0]}},\"id\":\"82d6ec70-d355-436f-a5df-f26d98b0a172\",\"type\":\"ColumnDataSource\"},{\"attributes\":{\"callback\":null,\"column_names\":[\"line_color\",\"color\",\"x\",\"label\",\"fill_alpha\",\"width\",\"line_alpha\",\"height\",\"y\"],\"data\":{\"chart_index\":[\"(154.3, 162.8]\"],\"color\":[\"#f22c40\"],\"fill_alpha\":[0.8],\"height\":[38.0],\"label\":[\"(154.3, 162.8]\"],\"line_alpha\":[1.0],\"line_color\":[\"black\"],\"width\":[8.517857142857139],\"x\":[\"158.55\"],\"y\":[19.0]}},\"id\":\"1269afb6-abac-4ca8-9f4c-25a10f20919a\",\"type\":\"ColumnDataSource\"},{\"attributes\":{\"data_source\":{\"id\":\"398cf53d-be1d-4d51-b48f-9e31e6845e52\",\"type\":\"ColumnDataSource\"},\"glyph\":{\"id\":\"2ee91a7a-e05b-4e1a-ad67-bdb95566bee1\",\"type\":\"Rect\"},\"hover_glyph\":null,\"nonselection_glyph\":null,\"selection_glyph\":null},\"id\":\"12926cd3-68a5-4d80-b82a-a7e24c65c009\",\"type\":\"GlyphRenderer\"},{\"attributes\":{\"callback\":null,\"column_names\":[\"line_color\",\"color\",\"x\",\"label\",\"fill_alpha\",\"width\",\"line_alpha\",\"height\",\"y\"],\"data\":{\"chart_index\":[\"(443.9, 452.4]\"],\"color\":[\"#f22c40\"],\"fill_alpha\":[0.8],\"height\":[6.0],\"label\":[\"(443.9, 452.4]\"],\"line_alpha\":[1.0],\"line_color\":[\"black\"],\"width\":[8.517857142857167],\"x\":[\"448.15\"],\"y\":[3.0]}},\"id\":\"2f1bb064-378f-4822-9bfd-5278b1ecf01e\",\"type\":\"ColumnDataSource\"},{\"attributes\":{\"callback\":null,\"column_names\":[\"line_color\",\"color\",\"x\",\"label\",\"fill_alpha\",\"width\",\"line_alpha\",\"height\",\"y\"],\"data\":{\"chart_index\":[\"(111.7, 120.2]\"],\"color\":[\"#f22c40\"],\"fill_alpha\":[0.8],\"height\":[77.0],\"label\":[\"(111.7, 120.2]\"],\"line_alpha\":[1.0],\"line_color\":[\"black\"],\"width\":[8.517857142857153],\"x\":[\"115.95\"],\"y\":[38.5]}},\"id\":\"52354ab2-b2b3-463b-a7a6-26a313a78e7b\",\"type\":\"ColumnDataSource\"},{\"attributes\":{\"fill_alpha\":{\"field\":\"fill_alpha\"},\"fill_color\":{\"field\":\"color\"},\"height\":{\"field\":\"height\",\"units\":\"data\"},\"line_color\":{\"field\":\"line_color\"},\"width\":{\"field\":\"width\",\"units\":\"data\"},\"x\":{\"field\":\"x\"},\"y\":{\"field\":\"y\"}},\"id\":\"f64a7cb5-e4a4-4a2b-a0b3-1170bfac45d6\",\"type\":\"Rect\"},{\"attributes\":{\"fill_alpha\":{\"field\":\"fill_alpha\"},\"fill_color\":{\"field\":\"color\"},\"height\":{\"field\":\"height\",\"units\":\"data\"},\"line_color\":{\"field\":\"line_color\"},\"width\":{\"field\":\"width\",\"units\":\"data\"},\"x\":{\"field\":\"x\"},\"y\":{\"field\":\"y\"}},\"id\":\"e0f7e1d0-e3f0-4464-9575-32da81184ae9\",\"type\":\"Rect\"},{\"attributes\":{\"fill_alpha\":{\"field\":\"fill_alpha\"},\"fill_color\":{\"field\":\"color\"},\"height\":{\"field\":\"height\",\"units\":\"data\"},\"line_color\":{\"field\":\"line_color\"},\"width\":{\"field\":\"width\",\"units\":\"data\"},\"x\":{\"field\":\"x\"},\"y\":{\"field\":\"y\"}},\"id\":\"f643976f-ec7a-461a-b530-09e36b31764a\",\"type\":\"Rect\"},{\"attributes\":{\"data_source\":{\"id\":\"bfb8c651-0ce1-4d99-9f9b-5e12c6eb2213\",\"type\":\"ColumnDataSource\"},\"glyph\":{\"id\":\"04839b5a-8f9f-49a9-ab67-1fb275f41f72\",\"type\":\"Rect\"},\"hover_glyph\":null,\"nonselection_glyph\":null,\"selection_glyph\":null},\"id\":\"6917ea17-303b-4b9b-954d-ff1cf86e712a\",\"type\":\"GlyphRenderer\"},{\"attributes\":{\"data_source\":{\"id\":\"91fdbec7-7098-4cc4-9146-760079d8c86a\",\"type\":\"ColumnDataSource\"},\"glyph\":{\"id\":\"1ea67def-09f4-4730-a720-49188079291d\",\"type\":\"Rect\"},\"hover_glyph\":null,\"nonselection_glyph\":null,\"selection_glyph\":null},\"id\":\"f8c10675-1242-4108-9266-b7a97f9ef43a\",\"type\":\"GlyphRenderer\"},{\"attributes\":{},\"id\":\"95eb00e4-37e6-4423-9e7f-a329810fbc1b\",\"type\":\"BasicTickFormatter\"},{\"attributes\":{\"callback\":null,\"column_names\":[\"line_color\",\"color\",\"x\",\"label\",\"fill_alpha\",\"width\",\"line_alpha\",\"height\",\"y\"],\"data\":{\"chart_index\":[\"(196.9, 205.4]\"],\"color\":[\"#f22c40\"],\"fill_alpha\":[0.8],\"height\":[32.0],\"label\":[\"(196.9, 205.4]\"],\"line_alpha\":[1.0],\"line_color\":[\"black\"],\"width\":[8.517857142857139],\"x\":[\"201.15\"],\"y\":[16.0]}},\"id\":\"20f35f8f-6a7c-4f7b-b51b-4c58684cd36d\",\"type\":\"ColumnDataSource\"},{\"attributes\":{\"fill_alpha\":{\"field\":\"fill_alpha\"},\"fill_color\":{\"field\":\"color\"},\"height\":{\"field\":\"height\",\"units\":\"data\"},\"line_color\":{\"field\":\"line_color\"},\"width\":{\"field\":\"width\",\"units\":\"data\"},\"x\":{\"field\":\"x\"},\"y\":{\"field\":\"y\"}},\"id\":\"28d2fd42-800c-491d-bdd5-209c61886151\",\"type\":\"Rect\"},{\"attributes\":{\"fill_alpha\":{\"field\":\"fill_alpha\"},\"fill_color\":{\"field\":\"color\"},\"height\":{\"field\":\"height\",\"units\":\"data\"},\"line_color\":{\"field\":\"line_color\"},\"width\":{\"field\":\"width\",\"units\":\"data\"},\"x\":{\"field\":\"x\"},\"y\":{\"field\":\"y\"}},\"id\":\"6c5b65f5-428a-45f7-abab-cc2bdbc24ef2\",\"type\":\"Rect\"},{\"attributes\":{\"data_source\":{\"id\":\"82d6ec70-d355-436f-a5df-f26d98b0a172\",\"type\":\"ColumnDataSource\"},\"glyph\":{\"id\":\"49bbe5c2-ce8f-4d89-b98a-7d1a7e953173\",\"type\":\"Rect\"},\"hover_glyph\":null,\"nonselection_glyph\":null,\"selection_glyph\":null},\"id\":\"28b8c89d-4672-4527-b026-5adcffb40936\",\"type\":\"GlyphRenderer\"},{\"attributes\":{\"data_source\":{\"id\":\"6f3de6fb-ee83-4ed1-9b01-aef39b710d40\",\"type\":\"ColumnDataSource\"},\"glyph\":{\"id\":\"0e9de4c4-226d-4585-99eb-9b69a1bee794\",\"type\":\"Rect\"},\"hover_glyph\":null,\"nonselection_glyph\":null,\"selection_glyph\":null},\"id\":\"0ed93228-882e-48f0-882f-13b50254c9a9\",\"type\":\"GlyphRenderer\"},{\"attributes\":{\"callback\":null,\"column_names\":[\"line_color\",\"color\",\"x\",\"label\",\"fill_alpha\",\"width\",\"line_alpha\",\"height\",\"y\"],\"data\":{\"chart_index\":[\"(103.2, 111.7]\"],\"color\":[\"#f22c40\"],\"fill_alpha\":[0.8],\"height\":[82.0],\"label\":[\"(103.2, 111.7]\"],\"line_alpha\":[1.0],\"line_color\":[\"black\"],\"width\":[8.517857142857139],\"x\":[\"107.45\"],\"y\":[41.0]}},\"id\":\"91fdbec7-7098-4cc4-9146-760079d8c86a\",\"type\":\"ColumnDataSource\"},{\"attributes\":{\"plot\":{\"id\":\"0b0bf77b-35b6-429f-aede-1ae9376fa57d\",\"subtype\":\"Chart\",\"type\":\"Plot\"}},\"id\":\"937edf7a-c7ed-4220-9180-a914451e79cb\",\"type\":\"SaveTool\"},{\"attributes\":{\"active_drag\":\"auto\",\"active_scroll\":\"auto\",\"active_tap\":\"auto\",\"tools\":[{\"id\":\"15da27fe-57f5-460f-aa75-d81b4b84af75\",\"type\":\"PanTool\"},{\"id\":\"b98c6bd3-5bae-4237-8210-9346300e64dd\",\"type\":\"WheelZoomTool\"},{\"id\":\"b50de9d3-b599-45cb-b3e5-c3047389442c\",\"type\":\"BoxZoomTool\"},{\"id\":\"937edf7a-c7ed-4220-9180-a914451e79cb\",\"type\":\"SaveTool\"},{\"id\":\"226afdf2-6ba6-4ab7-8902-1b4a7f11bdaa\",\"type\":\"ResetTool\"},{\"id\":\"3a776a8f-fbcd-4cf7-82b4-86857a003e0c\",\"type\":\"HelpTool\"}]},\"id\":\"876d7380-445a-414a-83a1-a162cf5db969\",\"type\":\"Toolbar\"},{\"attributes\":{\"fill_alpha\":{\"field\":\"fill_alpha\"},\"fill_color\":{\"field\":\"color\"},\"height\":{\"field\":\"height\",\"units\":\"data\"},\"line_color\":{\"field\":\"line_color\"},\"width\":{\"field\":\"width\",\"units\":\"data\"},\"x\":{\"field\":\"x\"},\"y\":{\"field\":\"y\"}},\"id\":\"8bc11546-1069-4b90-aed3-6c81e5c11c6e\",\"type\":\"Rect\"},{\"attributes\":{\"callback\":null,\"column_names\":[\"line_color\",\"color\",\"x\",\"label\",\"fill_alpha\",\"width\",\"line_alpha\",\"height\",\"y\"],\"data\":{\"chart_index\":[\"(350.2, 358.8]\"],\"color\":[\"#f22c40\"],\"fill_alpha\":[0.8],\"height\":[1.0],\"label\":[\"(350.2, 358.8]\"],\"line_alpha\":[1.0],\"line_color\":[\"black\"],\"width\":[8.517857142857167],\"x\":[\"354.5\"],\"y\":[0.5]}},\"id\":\"398cf53d-be1d-4d51-b48f-9e31e6845e52\",\"type\":\"ColumnDataSource\"},{\"attributes\":{\"fill_alpha\":{\"field\":\"fill_alpha\"},\"fill_color\":{\"field\":\"color\"},\"height\":{\"field\":\"height\",\"units\":\"data\"},\"line_color\":{\"field\":\"line_color\"},\"width\":{\"field\":\"width\",\"units\":\"data\"},\"x\":{\"field\":\"x\"},\"y\":{\"field\":\"y\"}},\"id\":\"58028659-1770-4d4c-939f-e765ed5f0edb\",\"type\":\"Rect\"},{\"attributes\":{\"fill_alpha\":{\"field\":\"fill_alpha\"},\"fill_color\":{\"field\":\"color\"},\"height\":{\"field\":\"height\",\"units\":\"data\"},\"line_color\":{\"field\":\"line_color\"},\"width\":{\"field\":\"width\",\"units\":\"data\"},\"x\":{\"field\":\"x\"},\"y\":{\"field\":\"y\"}},\"id\":\"26e9c1a8-0b66-4be3-b3f8-8b3ea6ebf194\",\"type\":\"Rect\"},{\"attributes\":{\"callback\":null,\"end\":489.9839285714286,\"start\":-10.983928571428573},\"id\":\"19e53229-2b8c-4767-909d-22548656e6b4\",\"type\":\"Range1d\"},{\"attributes\":{\"plot\":{\"id\":\"0b0bf77b-35b6-429f-aede-1ae9376fa57d\",\"subtype\":\"Chart\",\"type\":\"Plot\"}},\"id\":\"3a776a8f-fbcd-4cf7-82b4-86857a003e0c\",\"type\":\"HelpTool\"},{\"attributes\":{\"callback\":null,\"column_names\":[\"line_color\",\"color\",\"x\",\"label\",\"fill_alpha\",\"width\",\"line_alpha\",\"height\",\"y\"],\"data\":{\"chart_index\":[\"(77.7, 86.2]\"],\"color\":[\"#f22c40\"],\"fill_alpha\":[0.8],\"height\":[126.0],\"label\":[\"(77.7, 86.2]\"],\"line_alpha\":[1.0],\"line_color\":[\"black\"],\"width\":[8.517857142857139],\"x\":[\"81.95\"],\"y\":[63.0]}},\"id\":\"d4a8d76c-921a-4a28-bdd4-4ca70afa6483\",\"type\":\"ColumnDataSource\"},{\"attributes\":{\"fill_alpha\":{\"field\":\"fill_alpha\"},\"fill_color\":{\"field\":\"color\"},\"height\":{\"field\":\"height\",\"units\":\"data\"},\"line_color\":{\"field\":\"line_color\"},\"width\":{\"field\":\"width\",\"units\":\"data\"},\"x\":{\"field\":\"x\"},\"y\":{\"field\":\"y\"}},\"id\":\"dc001e2b-e992-4752-b033-a76af5c1b0a6\",\"type\":\"Rect\"},{\"attributes\":{\"data_source\":{\"id\":\"3309867a-f0fb-495b-b758-dfa80a427544\",\"type\":\"ColumnDataSource\"},\"glyph\":{\"id\":\"3be3937f-3638-414f-8dd6-4c2cf57db9dd\",\"type\":\"Rect\"},\"hover_glyph\":null,\"nonselection_glyph\":null,\"selection_glyph\":null},\"id\":\"eb6c009b-13b5-468f-848a-28fd50447c77\",\"type\":\"GlyphRenderer\"},{\"attributes\":{\"plot\":{\"id\":\"0b0bf77b-35b6-429f-aede-1ae9376fa57d\",\"subtype\":\"Chart\",\"type\":\"Plot\"}},\"id\":\"b98c6bd3-5bae-4237-8210-9346300e64dd\",\"type\":\"WheelZoomTool\"},{\"attributes\":{\"data_source\":{\"id\":\"77d42a30-cbe7-45b5-9688-78626813a594\",\"type\":\"ColumnDataSource\"},\"glyph\":{\"id\":\"f64a7cb5-e4a4-4a2b-a0b3-1170bfac45d6\",\"type\":\"Rect\"},\"hover_glyph\":null,\"nonselection_glyph\":null,\"selection_glyph\":null},\"id\":\"6318fe29-ce72-4f34-ab42-b62ec3a348f1\",\"type\":\"GlyphRenderer\"},{\"attributes\":{\"callback\":null,\"column_names\":[\"line_color\",\"color\",\"x\",\"label\",\"fill_alpha\",\"width\",\"line_alpha\",\"height\",\"y\"],\"data\":{\"chart_index\":[\"(367.3, 375.8]\"],\"color\":[\"#f22c40\"],\"fill_alpha\":[0.8],\"height\":[2.0],\"label\":[\"(367.3, 375.8]\"],\"line_alpha\":[1.0],\"line_color\":[\"black\"],\"width\":[8.517857142857167],\"x\":[\"371.55\"],\"y\":[1.0]}},\"id\":\"b135bb29-c018-4f45-a685-c9b52349e03b\",\"type\":\"ColumnDataSource\"},{\"attributes\":{\"fill_alpha\":{\"field\":\"fill_alpha\"},\"fill_color\":{\"field\":\"color\"},\"height\":{\"field\":\"height\",\"units\":\"data\"},\"line_color\":{\"field\":\"line_color\"},\"width\":{\"field\":\"width\",\"units\":\"data\"},\"x\":{\"field\":\"x\"},\"y\":{\"field\":\"y\"}},\"id\":\"dad94626-a26c-4319-9a93-0017de9178b6\",\"type\":\"Rect\"},{\"attributes\":{\"data_source\":{\"id\":\"b70dd5b7-070c-427c-ac6a-2f59fe0f3d34\",\"type\":\"ColumnDataSource\"},\"glyph\":{\"id\":\"8bc11546-1069-4b90-aed3-6c81e5c11c6e\",\"type\":\"Rect\"},\"hover_glyph\":null,\"nonselection_glyph\":null,\"selection_glyph\":null},\"id\":\"164f6266-ca2d-4ff7-8434-f2d9b6bf70f0\",\"type\":\"GlyphRenderer\"},{\"attributes\":{\"fill_alpha\":{\"field\":\"fill_alpha\"},\"fill_color\":{\"field\":\"color\"},\"height\":{\"field\":\"height\",\"units\":\"data\"},\"line_color\":{\"field\":\"line_color\"},\"width\":{\"field\":\"width\",\"units\":\"data\"},\"x\":{\"field\":\"x\"},\"y\":{\"field\":\"y\"}},\"id\":\"a7f4c6a8-fae1-4888-9126-ee39b83bf1dd\",\"type\":\"Rect\"},{\"attributes\":{\"data_source\":{\"id\":\"219a59a9-50bb-457a-a57a-942b178e87d3\",\"type\":\"ColumnDataSource\"},\"glyph\":{\"id\":\"28d2fd42-800c-491d-bdd5-209c61886151\",\"type\":\"Rect\"},\"hover_glyph\":null,\"nonselection_glyph\":null,\"selection_glyph\":null},\"id\":\"35c2ebd3-b9c2-484d-aa49-8a6f49ffd998\",\"type\":\"GlyphRenderer\"},{\"attributes\":{\"data_source\":{\"id\":\"2969a8d6-dc9b-4a40-a31a-a0e0ca51f1ff\",\"type\":\"ColumnDataSource\"},\"glyph\":{\"id\":\"7ee2ffb6-a2d2-4278-bdbf-73bdef337dea\",\"type\":\"Rect\"},\"hover_glyph\":null,\"nonselection_glyph\":null,\"selection_glyph\":null},\"id\":\"05997d67-9cdd-43e7-a141-0bf8658c7122\",\"type\":\"GlyphRenderer\"},{\"attributes\":{\"data_source\":{\"id\":\"216bc813-44b0-4e7f-ba10-aab6c984c46b\",\"type\":\"ColumnDataSource\"},\"glyph\":{\"id\":\"e0f7e1d0-e3f0-4464-9575-32da81184ae9\",\"type\":\"Rect\"},\"hover_glyph\":null,\"nonselection_glyph\":null,\"selection_glyph\":null},\"id\":\"74f4c362-fe51-46d1-a0d3-083b946aedfb\",\"type\":\"GlyphRenderer\"},{\"attributes\":{\"data_source\":{\"id\":\"a80f8a56-c6bf-4278-8827-d576459152e8\",\"type\":\"ColumnDataSource\"},\"glyph\":{\"id\":\"0fa53505-c0a6-47d8-b328-751df92ac33f\",\"type\":\"Rect\"},\"hover_glyph\":null,\"nonselection_glyph\":null,\"selection_glyph\":null},\"id\":\"a019e4d6-80ac-4fcc-8598-610c6d1ea7d1\",\"type\":\"GlyphRenderer\"},{\"attributes\":{\"callback\":null,\"column_names\":[\"line_color\",\"color\",\"x\",\"label\",\"fill_alpha\",\"width\",\"line_alpha\",\"height\",\"y\"],\"data\":{\"chart_index\":[\"(162.8, 171.4]\"],\"color\":[\"#f22c40\"],\"fill_alpha\":[0.8],\"height\":[43.0],\"label\":[\"(162.8, 171.4]\"],\"line_alpha\":[1.0],\"line_color\":[\"black\"],\"width\":[8.517857142857139],\"x\":[\"167.10000000000002\"],\"y\":[21.5]}},\"id\":\"a2633174-a495-4fd0-9a18-35a30a052d69\",\"type\":\"ColumnDataSource\"},{\"attributes\":{\"fill_alpha\":{\"field\":\"fill_alpha\"},\"fill_color\":{\"field\":\"color\"},\"height\":{\"field\":\"height\",\"units\":\"data\"},\"line_color\":{\"field\":\"line_color\"},\"width\":{\"field\":\"width\",\"units\":\"data\"},\"x\":{\"field\":\"x\"},\"y\":{\"field\":\"y\"}},\"id\":\"0ea067c0-3dd3-40bb-94a1-d78c1be3f6a4\",\"type\":\"Rect\"},{\"attributes\":{\"fill_alpha\":{\"field\":\"fill_alpha\"},\"fill_color\":{\"field\":\"color\"},\"height\":{\"field\":\"height\",\"units\":\"data\"},\"line_color\":{\"field\":\"line_color\"},\"width\":{\"field\":\"width\",\"units\":\"data\"},\"x\":{\"field\":\"x\"},\"y\":{\"field\":\"y\"}},\"id\":\"5b450c7e-4ce3-4ee0-a922-1788c8599f6f\",\"type\":\"Rect\"},{\"attributes\":{\"fill_alpha\":{\"field\":\"fill_alpha\"},\"fill_color\":{\"field\":\"color\"},\"height\":{\"field\":\"height\",\"units\":\"data\"},\"line_color\":{\"field\":\"line_color\"},\"width\":{\"field\":\"width\",\"units\":\"data\"},\"x\":{\"field\":\"x\"},\"y\":{\"field\":\"y\"}},\"id\":\"d96521ab-56d5-499d-8dfc-58e1c9352be2\",\"type\":\"Rect\"},{\"attributes\":{\"callback\":null,\"column_names\":[\"line_color\",\"color\",\"x\",\"label\",\"fill_alpha\",\"width\",\"line_alpha\",\"height\",\"y\"],\"data\":{\"chart_index\":[\"(69.1, 77.7]\"],\"color\":[\"#f22c40\"],\"fill_alpha\":[0.8],\"height\":[128.0],\"label\":[\"(69.1, 77.7]\"],\"line_alpha\":[1.0],\"line_color\":[\"black\"],\"width\":[8.517857142857139],\"x\":[\"73.4\"],\"y\":[64.0]}},\"id\":\"c89e5438-4a71-47ec-a2c3-363a93f7c37f\",\"type\":\"ColumnDataSource\"},{\"attributes\":{\"fill_alpha\":{\"field\":\"fill_alpha\"},\"fill_color\":{\"field\":\"color\"},\"height\":{\"field\":\"height\",\"units\":\"data\"},\"line_color\":{\"field\":\"line_color\"},\"width\":{\"field\":\"width\",\"units\":\"data\"},\"x\":{\"field\":\"x\"},\"y\":{\"field\":\"y\"}},\"id\":\"7f801eb1-2b91-4fef-a92d-bc766a04a4a4\",\"type\":\"Rect\"},{\"attributes\":{\"fill_alpha\":{\"field\":\"fill_alpha\"},\"fill_color\":{\"field\":\"color\"},\"height\":{\"field\":\"height\",\"units\":\"data\"},\"line_color\":{\"field\":\"line_color\"},\"width\":{\"field\":\"width\",\"units\":\"data\"},\"x\":{\"field\":\"x\"},\"y\":{\"field\":\"y\"}},\"id\":\"5168c8d7-0c2b-4d89-a00e-910e9e5b1e17\",\"type\":\"Rect\"},{\"attributes\":{\"callback\":null,\"column_names\":[\"line_color\",\"color\",\"x\",\"label\",\"fill_alpha\",\"width\",\"line_alpha\",\"height\",\"y\"],\"data\":{\"chart_index\":[\"(94.7, 103.2]\"],\"color\":[\"#f22c40\"],\"fill_alpha\":[0.8],\"height\":[101.0],\"label\":[\"(94.7, 103.2]\"],\"line_alpha\":[1.0],\"line_color\":[\"black\"],\"width\":[8.517857142857139],\"x\":[\"98.95\"],\"y\":[50.5]}},\"id\":\"33c858ca-0da9-48d3-85af-834517b1871a\",\"type\":\"ColumnDataSource\"},{\"attributes\":{\"fill_alpha\":{\"field\":\"fill_alpha\"},\"fill_color\":{\"field\":\"color\"},\"height\":{\"field\":\"height\",\"units\":\"data\"},\"line_color\":{\"field\":\"line_color\"},\"width\":{\"field\":\"width\",\"units\":\"data\"},\"x\":{\"field\":\"x\"},\"y\":{\"field\":\"y\"}},\"id\":\"1ea67def-09f4-4730-a720-49188079291d\",\"type\":\"Rect\"},{\"attributes\":{\"fill_alpha\":{\"field\":\"fill_alpha\"},\"fill_color\":{\"field\":\"color\"},\"height\":{\"field\":\"height\",\"units\":\"data\"},\"line_color\":{\"field\":\"line_color\"},\"width\":{\"field\":\"width\",\"units\":\"data\"},\"x\":{\"field\":\"x\"},\"y\":{\"field\":\"y\"}},\"id\":\"0fa53505-c0a6-47d8-b328-751df92ac33f\",\"type\":\"Rect\"},{\"attributes\":{},\"id\":\"dd7f20df-2161-4680-84be-b811392bc436\",\"type\":\"BasicTickFormatter\"},{\"attributes\":{\"fill_alpha\":{\"field\":\"fill_alpha\"},\"fill_color\":{\"field\":\"color\"},\"height\":{\"field\":\"height\",\"units\":\"data\"},\"line_color\":{\"field\":\"line_color\"},\"width\":{\"field\":\"width\",\"units\":\"data\"},\"x\":{\"field\":\"x\"},\"y\":{\"field\":\"y\"}},\"id\":\"875e6478-72b6-4de6-b297-012ee7db2ef2\",\"type\":\"Rect\"},{\"attributes\":{\"axis_label\":\"Total\",\"formatter\":{\"id\":\"95eb00e4-37e6-4423-9e7f-a329810fbc1b\",\"type\":\"BasicTickFormatter\"},\"plot\":{\"id\":\"0b0bf77b-35b6-429f-aede-1ae9376fa57d\",\"subtype\":\"Chart\",\"type\":\"Plot\"},\"ticker\":{\"id\":\"0685f0a4-dbbd-4b67-804b-91e963494728\",\"type\":\"BasicTicker\"}},\"id\":\"fbe8d2fd-409a-4b20-b65f-464a9995eef1\",\"type\":\"LinearAxis\"},{\"attributes\":{\"fill_alpha\":{\"field\":\"fill_alpha\"},\"fill_color\":{\"field\":\"color\"},\"height\":{\"field\":\"height\",\"units\":\"data\"},\"line_color\":{\"field\":\"line_color\"},\"width\":{\"field\":\"width\",\"units\":\"data\"},\"x\":{\"field\":\"x\"},\"y\":{\"field\":\"y\"}},\"id\":\"c22cd1e6-adf2-46aa-9af4-abcc73d235e2\",\"type\":\"Rect\"},{\"attributes\":{\"data_source\":{\"id\":\"20a5a3f4-822d-433b-9cee-bc256a59a86e\",\"type\":\"ColumnDataSource\"},\"glyph\":{\"id\":\"d5b9ac8b-3b94-487e-841f-aefedc3942e0\",\"type\":\"Rect\"},\"hover_glyph\":null,\"nonselection_glyph\":null,\"selection_glyph\":null},\"id\":\"9851336e-20f9-4aba-9b18-c90cf6aa6a33\",\"type\":\"GlyphRenderer\"},{\"attributes\":{\"callback\":null,\"column_names\":[\"line_color\",\"color\",\"x\",\"label\",\"fill_alpha\",\"width\",\"line_alpha\",\"height\",\"y\"],\"data\":{\"chart_index\":[\"(341.7, 350.2]\"],\"color\":[\"#f22c40\"],\"fill_alpha\":[0.8],\"height\":[7.0],\"label\":[\"(341.7, 350.2]\"],\"line_alpha\":[1.0],\"line_color\":[\"black\"],\"width\":[8.517857142857167],\"x\":[\"345.95\"],\"y\":[3.5]}},\"id\":\"7e45f85a-1360-4d0d-936d-ef0c22747598\",\"type\":\"ColumnDataSource\"},{\"attributes\":{\"callback\":null,\"column_names\":[\"line_color\",\"color\",\"x\",\"label\",\"fill_alpha\",\"width\",\"line_alpha\",\"height\",\"y\"],\"data\":{\"chart_index\":[\"(426.9, 435.4]\"],\"color\":[\"#f22c40\"],\"fill_alpha\":[0.8],\"height\":[3.0],\"label\":[\"(426.9, 435.4]\"],\"line_alpha\":[1.0],\"line_color\":[\"black\"],\"width\":[8.517857142857167],\"x\":[\"431.15\"],\"y\":[1.5]}},\"id\":\"8e4f40cc-e355-4c36-b829-6ec2b8346351\",\"type\":\"ColumnDataSource\"},{\"attributes\":{\"fill_alpha\":{\"field\":\"fill_alpha\"},\"fill_color\":{\"field\":\"color\"},\"height\":{\"field\":\"height\",\"units\":\"data\"},\"line_color\":{\"field\":\"line_color\"},\"width\":{\"field\":\"width\",\"units\":\"data\"},\"x\":{\"field\":\"x\"},\"y\":{\"field\":\"y\"}},\"id\":\"7ee2ffb6-a2d2-4278-bdbf-73bdef337dea\",\"type\":\"Rect\"},{\"attributes\":{\"data_source\":{\"id\":\"227c4e3b-e0d6-4879-96d6-355c4f2e3252\",\"type\":\"ColumnDataSource\"},\"glyph\":{\"id\":\"462bf9f8-c7c5-458a-9f57-d85d8318e54b\",\"type\":\"Rect\"},\"hover_glyph\":null,\"nonselection_glyph\":null,\"selection_glyph\":null},\"id\":\"ba5552de-8385-4ecd-be9f-1f804d1a0c50\",\"type\":\"GlyphRenderer\"},{\"attributes\":{\"data_source\":{\"id\":\"d037910f-7e8d-4862-b809-75a107354a59\",\"type\":\"ColumnDataSource\"},\"glyph\":{\"id\":\"4e96d3da-c10d-4da6-afb9-8bbdc33cd4ee\",\"type\":\"Rect\"},\"hover_glyph\":null,\"nonselection_glyph\":null,\"selection_glyph\":null},\"id\":\"bc90ef72-3997-42c5-8f04-46cf562b9be2\",\"type\":\"GlyphRenderer\"},{\"attributes\":{\"callback\":null,\"column_names\":[\"line_color\",\"color\",\"x\",\"label\",\"fill_alpha\",\"width\",\"line_alpha\",\"height\",\"y\"],\"data\":{\"chart_index\":[\"(26.6, 35.1]\"],\"color\":[\"#f22c40\"],\"fill_alpha\":[0.8],\"height\":[335.0],\"label\":[\"(26.6, 35.1]\"],\"line_alpha\":[1.0],\"line_color\":[\"black\"],\"width\":[8.517857142857142],\"x\":[\"30.85\"],\"y\":[167.5]}},\"id\":\"c8959f47-8c28-4718-83af-fb7cb5609251\",\"type\":\"ColumnDataSource\"},{\"attributes\":{\"data_source\":{\"id\":\"221b0424-50f9-4033-a4f4-437abe38f115\",\"type\":\"ColumnDataSource\"},\"glyph\":{\"id\":\"a7f4c6a8-fae1-4888-9126-ee39b83bf1dd\",\"type\":\"Rect\"},\"hover_glyph\":null,\"nonselection_glyph\":null,\"selection_glyph\":null},\"id\":\"8829a599-b5d8-41f4-a23f-dff14b8c58f2\",\"type\":\"GlyphRenderer\"},{\"attributes\":{\"fill_alpha\":{\"field\":\"fill_alpha\"},\"fill_color\":{\"field\":\"color\"},\"height\":{\"field\":\"height\",\"units\":\"data\"},\"line_color\":{\"field\":\"line_color\"},\"width\":{\"field\":\"width\",\"units\":\"data\"},\"x\":{\"field\":\"x\"},\"y\":{\"field\":\"y\"}},\"id\":\"04839b5a-8f9f-49a9-ab67-1fb275f41f72\",\"type\":\"Rect\"},{\"attributes\":{\"fill_alpha\":{\"field\":\"fill_alpha\"},\"fill_color\":{\"field\":\"color\"},\"height\":{\"field\":\"height\",\"units\":\"data\"},\"line_color\":{\"field\":\"line_color\"},\"width\":{\"field\":\"width\",\"units\":\"data\"},\"x\":{\"field\":\"x\"},\"y\":{\"field\":\"y\"}},\"id\":\"2ee91a7a-e05b-4e1a-ad67-bdb95566bee1\",\"type\":\"Rect\"},{\"attributes\":{\"callback\":null,\"column_names\":[\"line_color\",\"color\",\"x\",\"label\",\"fill_alpha\",\"width\",\"line_alpha\",\"height\",\"y\"],\"data\":{\"chart_index\":[\"(239.5, 248.0]\"],\"color\":[\"#f22c40\"],\"fill_alpha\":[0.8],\"height\":[17.0],\"label\":[\"(239.5, 248.0]\"],\"line_alpha\":[1.0],\"line_color\":[\"black\"],\"width\":[8.517857142857139],\"x\":[\"243.75\"],\"y\":[8.5]}},\"id\":\"d037910f-7e8d-4862-b809-75a107354a59\",\"type\":\"ColumnDataSource\"},{\"attributes\":{\"fill_alpha\":{\"field\":\"fill_alpha\"},\"fill_color\":{\"field\":\"color\"},\"height\":{\"field\":\"height\",\"units\":\"data\"},\"line_color\":{\"field\":\"line_color\"},\"width\":{\"field\":\"width\",\"units\":\"data\"},\"x\":{\"field\":\"x\"},\"y\":{\"field\":\"y\"}},\"id\":\"6ee6373a-c382-4d30-9425-01c5c4a05b7c\",\"type\":\"Rect\"},{\"attributes\":{\"callback\":null,\"column_names\":[\"line_color\",\"color\",\"x\",\"label\",\"fill_alpha\",\"width\",\"line_alpha\",\"height\",\"y\"],\"data\":{\"chart_index\":[\"(179.9, 188.4]\"],\"color\":[\"#f22c40\"],\"fill_alpha\":[0.8],\"height\":[34.0],\"label\":[\"(179.9, 188.4]\"],\"line_alpha\":[1.0],\"line_color\":[\"black\"],\"width\":[8.517857142857139],\"x\":[\"184.15\"],\"y\":[17.0]}},\"id\":\"d391a571-956d-41aa-9267-27fa4bd3117c\",\"type\":\"ColumnDataSource\"},{\"attributes\":{\"plot\":{\"id\":\"0b0bf77b-35b6-429f-aede-1ae9376fa57d\",\"subtype\":\"Chart\",\"type\":\"Plot\"}},\"id\":\"226afdf2-6ba6-4ab7-8902-1b4a7f11bdaa\",\"type\":\"ResetTool\"},{\"attributes\":{\"fill_alpha\":{\"field\":\"fill_alpha\"},\"fill_color\":{\"field\":\"color\"},\"height\":{\"field\":\"height\",\"units\":\"data\"},\"line_color\":{\"field\":\"line_color\"},\"width\":{\"field\":\"width\",\"units\":\"data\"},\"x\":{\"field\":\"x\"},\"y\":{\"field\":\"y\"}},\"id\":\"a8aba983-b32c-4c09-b677-363f6279cfef\",\"type\":\"Rect\"},{\"attributes\":{},\"id\":\"0685f0a4-dbbd-4b67-804b-91e963494728\",\"type\":\"BasicTicker\"},{\"attributes\":{\"callback\":null,\"column_names\":[\"line_color\",\"color\",\"x\",\"label\",\"fill_alpha\",\"width\",\"line_alpha\",\"height\",\"y\"],\"data\":{\"chart_index\":[\"(60.6, 69.1]\"],\"color\":[\"#f22c40\"],\"fill_alpha\":[0.8],\"height\":[175.0],\"label\":[\"(60.6, 69.1]\"],\"line_alpha\":[1.0],\"line_color\":[\"black\"],\"width\":[8.517857142857139],\"x\":[\"64.85\"],\"y\":[87.5]}},\"id\":\"14c69ce7-0055-4d3a-8b38-2b000e6c9ab1\",\"type\":\"ColumnDataSource\"},{\"attributes\":{\"callback\":null,\"column_names\":[\"line_color\",\"color\",\"x\",\"label\",\"fill_alpha\",\"width\",\"line_alpha\",\"height\",\"y\"],\"data\":{\"chart_index\":[\"(222.5, 231.0]\"],\"color\":[\"#f22c40\"],\"fill_alpha\":[0.8],\"height\":[14.0],\"label\":[\"(222.5, 231.0]\"],\"line_alpha\":[1.0],\"line_color\":[\"black\"],\"width\":[8.517857142857139],\"x\":[\"226.75\"],\"y\":[7.0]}},\"id\":\"ca3abe30-4c1e-4a36-a1ae-2b96d35f7358\",\"type\":\"ColumnDataSource\"},{\"attributes\":{\"callback\":null,\"column_names\":[\"line_color\",\"color\",\"x\",\"label\",\"fill_alpha\",\"width\",\"line_alpha\",\"height\",\"y\"],\"data\":{\"chart_index\":[\"(392.8, 401.3]\"],\"color\":[\"#f22c40\"],\"fill_alpha\":[0.8],\"height\":[2.0],\"label\":[\"(392.8, 401.3]\"],\"line_alpha\":[1.0],\"line_color\":[\"black\"],\"width\":[8.51785714285711],\"x\":[\"397.05\"],\"y\":[1.0]}},\"id\":\"73ae3b1e-6199-4529-af2c-1840a204ba4c\",\"type\":\"ColumnDataSource\"},{\"attributes\":{\"fill_alpha\":{\"field\":\"fill_alpha\"},\"fill_color\":{\"field\":\"color\"},\"height\":{\"field\":\"height\",\"units\":\"data\"},\"line_color\":{\"field\":\"line_color\"},\"width\":{\"field\":\"width\",\"units\":\"data\"},\"x\":{\"field\":\"x\"},\"y\":{\"field\":\"y\"}},\"id\":\"3be3937f-3638-414f-8dd6-4c2cf57db9dd\",\"type\":\"Rect\"},{\"attributes\":{\"fill_alpha\":{\"field\":\"fill_alpha\"},\"fill_color\":{\"field\":\"color\"},\"height\":{\"field\":\"height\",\"units\":\"data\"},\"line_color\":{\"field\":\"line_color\"},\"width\":{\"field\":\"width\",\"units\":\"data\"},\"x\":{\"field\":\"x\"},\"y\":{\"field\":\"y\"}},\"id\":\"cd0bd4f6-983d-4a17-97ef-40a22d7cada1\",\"type\":\"Rect\"},{\"attributes\":{\"data_source\":{\"id\":\"d391a571-956d-41aa-9267-27fa4bd3117c\",\"type\":\"ColumnDataSource\"},\"glyph\":{\"id\":\"a8aba983-b32c-4c09-b677-363f6279cfef\",\"type\":\"Rect\"},\"hover_glyph\":null,\"nonselection_glyph\":null,\"selection_glyph\":null},\"id\":\"8a9847c0-e795-4ae7-9287-7eecdf878bf8\",\"type\":\"GlyphRenderer\"},{\"attributes\":{\"fill_alpha\":{\"field\":\"fill_alpha\"},\"fill_color\":{\"field\":\"color\"},\"height\":{\"field\":\"height\",\"units\":\"data\"},\"line_color\":{\"field\":\"line_color\"},\"width\":{\"field\":\"width\",\"units\":\"data\"},\"x\":{\"field\":\"x\"},\"y\":{\"field\":\"y\"}},\"id\":\"aebd0d40-20e4-42f5-b2b5-2b16864e9343\",\"type\":\"Rect\"},{\"attributes\":{\"callback\":null,\"column_names\":[\"line_color\",\"color\",\"x\",\"label\",\"fill_alpha\",\"width\",\"line_alpha\",\"height\",\"y\"],\"data\":{\"chart_index\":[\"(205.4, 213.9]\"],\"color\":[\"#f22c40\"],\"fill_alpha\":[0.8],\"height\":[34.0],\"label\":[\"(205.4, 213.9]\"],\"line_alpha\":[1.0],\"line_color\":[\"black\"],\"width\":[8.517857142857139],\"x\":[\"209.65\"],\"y\":[17.0]}},\"id\":\"53deb46b-9dae-4b4d-b627-169b880089c6\",\"type\":\"ColumnDataSource\"},{\"attributes\":{\"data_source\":{\"id\":\"7e45f85a-1360-4d0d-936d-ef0c22747598\",\"type\":\"ColumnDataSource\"},\"glyph\":{\"id\":\"3c3d88c9-18b9-4d69-9037-3edea3e2fac7\",\"type\":\"Rect\"},\"hover_glyph\":null,\"nonselection_glyph\":null,\"selection_glyph\":null},\"id\":\"91ff0f7a-c00e-4fe2-a708-f89aa7864028\",\"type\":\"GlyphRenderer\"},{\"attributes\":{\"callback\":null,\"column_names\":[\"line_color\",\"color\",\"x\",\"label\",\"fill_alpha\",\"width\",\"line_alpha\",\"height\",\"y\"],\"data\":{\"chart_index\":[\"(120.2, 128.8]\"],\"color\":[\"#f22c40\"],\"fill_alpha\":[0.8],\"height\":[71.0],\"label\":[\"(120.2, 128.8]\"],\"line_alpha\":[1.0],\"line_color\":[\"black\"],\"width\":[8.517857142857139],\"x\":[\"124.5\"],\"y\":[35.5]}},\"id\":\"216bc813-44b0-4e7f-ba10-aab6c984c46b\",\"type\":\"ColumnDataSource\"},{\"attributes\":{\"data_source\":{\"id\":\"315fc27b-7142-4445-b81c-77bff8f798fb\",\"type\":\"ColumnDataSource\"},\"glyph\":{\"id\":\"2b771bca-1cde-4219-b368-3d7faf582c85\",\"type\":\"Rect\"},\"hover_glyph\":null,\"nonselection_glyph\":null,\"selection_glyph\":null},\"id\":\"9f6b40eb-d353-4f54-aaf3-2e736cdf62f6\",\"type\":\"GlyphRenderer\"},{\"attributes\":{\"data_source\":{\"id\":\"12dbbf20-84d5-4113-983b-e8c813efc3d2\",\"type\":\"ColumnDataSource\"},\"glyph\":{\"id\":\"cd0bd4f6-983d-4a17-97ef-40a22d7cada1\",\"type\":\"Rect\"},\"hover_glyph\":null,\"nonselection_glyph\":null,\"selection_glyph\":null},\"id\":\"73277891-ffe8-4dd2-956d-b2ffb2354797\",\"type\":\"GlyphRenderer\"},{\"attributes\":{\"data_source\":{\"id\":\"298020be-09bf-4dff-bc2f-e41176fb9ac9\",\"type\":\"ColumnDataSource\"},\"glyph\":{\"id\":\"5b450c7e-4ce3-4ee0-a922-1788c8599f6f\",\"type\":\"Rect\"},\"hover_glyph\":null,\"nonselection_glyph\":null,\"selection_glyph\":null},\"id\":\"fbd521b5-31ea-49dd-9bec-1fbc1cf1cc1b\",\"type\":\"GlyphRenderer\"},{\"attributes\":{\"fill_alpha\":{\"field\":\"fill_alpha\"},\"fill_color\":{\"field\":\"color\"},\"height\":{\"field\":\"height\",\"units\":\"data\"},\"line_color\":{\"field\":\"line_color\"},\"width\":{\"field\":\"width\",\"units\":\"data\"},\"x\":{\"field\":\"x\"},\"y\":{\"field\":\"y\"}},\"id\":\"94ffe494-c3a9-41ed-b1ef-1b5cc9e38f37\",\"type\":\"Rect\"},{\"attributes\":{\"callback\":null,\"column_names\":[\"line_color\",\"color\",\"x\",\"label\",\"fill_alpha\",\"width\",\"line_alpha\",\"height\",\"y\"],\"data\":{\"chart_index\":[\"(188.4, 196.9]\"],\"color\":[\"#f22c40\"],\"fill_alpha\":[0.8],\"height\":[23.0],\"label\":[\"(188.4, 196.9]\"],\"line_alpha\":[1.0],\"line_color\":[\"black\"],\"width\":[8.517857142857139],\"x\":[\"192.65\"],\"y\":[11.5]}},\"id\":\"8aeb1594-c360-41ae-b1ce-e4eda34198bf\",\"type\":\"ColumnDataSource\"},{\"attributes\":{\"axis_label\":\"Count( Total )\",\"formatter\":{\"id\":\"dd7f20df-2161-4680-84be-b811392bc436\",\"type\":\"BasicTickFormatter\"},\"plot\":{\"id\":\"0b0bf77b-35b6-429f-aede-1ae9376fa57d\",\"subtype\":\"Chart\",\"type\":\"Plot\"},\"ticker\":{\"id\":\"73d430e0-8880-402a-952b-372aad9c9183\",\"type\":\"BasicTicker\"}},\"id\":\"7fe9715f-a34b-4231-9f37-ec1809304cd2\",\"type\":\"LinearAxis\"},{\"attributes\":{\"callback\":null,\"column_names\":[\"line_color\",\"color\",\"x\",\"label\",\"fill_alpha\",\"width\",\"line_alpha\",\"height\",\"y\"],\"data\":{\"chart_index\":[\"(452.4, 461.0]\"],\"color\":[\"#f22c40\"],\"fill_alpha\":[0.8],\"height\":[2.0],\"label\":[\"(452.4, 461.0]\"],\"line_alpha\":[1.0],\"line_color\":[\"black\"],\"width\":[8.51785714285711],\"x\":[\"456.7\"],\"y\":[1.0]}},\"id\":\"607ae7b7-c9a3-4600-b369-f5f0f44c824f\",\"type\":\"ColumnDataSource\"},{\"attributes\":{\"dimension\":1,\"plot\":{\"id\":\"0b0bf77b-35b6-429f-aede-1ae9376fa57d\",\"subtype\":\"Chart\",\"type\":\"Plot\"},\"ticker\":{\"id\":\"73d430e0-8880-402a-952b-372aad9c9183\",\"type\":\"BasicTicker\"}},\"id\":\"d937e1a3-ec96-406c-9bd7-5ed657a0c091\",\"type\":\"Grid\"},{\"attributes\":{\"fill_alpha\":{\"field\":\"fill_alpha\"},\"fill_color\":{\"field\":\"color\"},\"height\":{\"field\":\"height\",\"units\":\"data\"},\"line_color\":{\"field\":\"line_color\"},\"width\":{\"field\":\"width\",\"units\":\"data\"},\"x\":{\"field\":\"x\"},\"y\":{\"field\":\"y\"}},\"id\":\"9cbdc179-355c-477a-9dd7-def4c2cace92\",\"type\":\"Rect\"},{\"attributes\":{\"callback\":null,\"column_names\":[\"line_color\",\"color\",\"x\",\"label\",\"fill_alpha\",\"width\",\"line_alpha\",\"height\",\"y\"],\"data\":{\"chart_index\":[\"(282.1, 290.6]\"],\"color\":[\"#f22c40\"],\"fill_alpha\":[0.8],\"height\":[9.0],\"label\":[\"(282.1, 290.6]\"],\"line_alpha\":[1.0],\"line_color\":[\"black\"],\"width\":[8.51785714285711],\"x\":[\"286.35\"],\"y\":[4.5]}},\"id\":\"12dbbf20-84d5-4113-983b-e8c813efc3d2\",\"type\":\"ColumnDataSource\"},{\"attributes\":{\"callback\":null,\"column_names\":[\"line_color\",\"color\",\"x\",\"label\",\"fill_alpha\",\"width\",\"line_alpha\",\"height\",\"y\"],\"data\":{\"chart_index\":[\"(461.0, 469.5]\"],\"color\":[\"#f22c40\"],\"fill_alpha\":[0.8],\"height\":[1.0],\"label\":[\"(461.0, 469.5]\"],\"line_alpha\":[1.0],\"line_color\":[\"black\"],\"width\":[8.517857142857167],\"x\":[\"465.25\"],\"y\":[0.5]}},\"id\":\"fea1b572-079c-4a00-94c4-1b41f111d97f\",\"type\":\"ColumnDataSource\"},{\"attributes\":{},\"id\":\"65b760b4-335e-4a51-8711-83c7b670a94a\",\"type\":\"ToolEvents\"},{\"attributes\":{\"fill_alpha\":{\"field\":\"fill_alpha\"},\"fill_color\":{\"field\":\"color\"},\"height\":{\"field\":\"height\",\"units\":\"data\"},\"line_color\":{\"field\":\"line_color\"},\"width\":{\"field\":\"width\",\"units\":\"data\"},\"x\":{\"field\":\"x\"},\"y\":{\"field\":\"y\"}},\"id\":\"c9dddbe6-c7a8-450a-b057-093ea2079e50\",\"type\":\"Rect\"},{\"attributes\":{\"fill_alpha\":{\"field\":\"fill_alpha\"},\"fill_color\":{\"field\":\"color\"},\"height\":{\"field\":\"height\",\"units\":\"data\"},\"line_color\":{\"field\":\"line_color\"},\"width\":{\"field\":\"width\",\"units\":\"data\"},\"x\":{\"field\":\"x\"},\"y\":{\"field\":\"y\"}},\"id\":\"be566d49-22e7-4bd0-b82c-1a6293a6cfab\",\"type\":\"Rect\"},{\"attributes\":{\"callback\":null,\"column_names\":[\"line_color\",\"color\",\"x\",\"label\",\"fill_alpha\",\"width\",\"line_alpha\",\"height\",\"y\"],\"data\":{\"chart_index\":[\"(299.1, 307.6]\"],\"color\":[\"#f22c40\"],\"fill_alpha\":[0.8],\"height\":[11.0],\"label\":[\"(299.1, 307.6]\"],\"line_alpha\":[1.0],\"line_color\":[\"black\"],\"width\":[8.51785714285711],\"x\":[\"303.35\"],\"y\":[5.5]}},\"id\":\"f1ddbcd7-62a1-49bc-a14e-02061a5f28f2\",\"type\":\"ColumnDataSource\"},{\"attributes\":{\"fill_alpha\":{\"field\":\"fill_alpha\"},\"fill_color\":{\"field\":\"color\"},\"height\":{\"field\":\"height\",\"units\":\"data\"},\"line_color\":{\"field\":\"line_color\"},\"width\":{\"field\":\"width\",\"units\":\"data\"},\"x\":{\"field\":\"x\"},\"y\":{\"field\":\"y\"}},\"id\":\"619bf7de-f42f-4e87-97fc-13cda0704c75\",\"type\":\"Rect\"},{\"attributes\":{\"callback\":null,\"end\":1223.2},\"id\":\"ee8dd75b-1da7-4894-a0d7-dd02e35aee09\",\"type\":\"Range1d\"},{\"attributes\":{\"data_source\":{\"id\":\"af1d5922-2c6b-4d7c-82a9-e98cfac3a982\",\"type\":\"ColumnDataSource\"},\"glyph\":{\"id\":\"9c0ead12-f137-4ed4-90bc-11bb862dda5a\",\"type\":\"Rect\"},\"hover_glyph\":null,\"nonselection_glyph\":null,\"selection_glyph\":null},\"id\":\"4f935b85-1d38-4efc-8e2d-542a3fbbe735\",\"type\":\"GlyphRenderer\"},{\"attributes\":{\"fill_alpha\":{\"field\":\"fill_alpha\"},\"fill_color\":{\"field\":\"color\"},\"height\":{\"field\":\"height\",\"units\":\"data\"},\"line_color\":{\"field\":\"line_color\"},\"width\":{\"field\":\"width\",\"units\":\"data\"},\"x\":{\"field\":\"x\"},\"y\":{\"field\":\"y\"}},\"id\":\"49bbe5c2-ce8f-4d89-b98a-7d1a7e953173\",\"type\":\"Rect\"},{\"attributes\":{\"callback\":null,\"column_names\":[\"line_color\",\"color\",\"x\",\"label\",\"fill_alpha\",\"width\",\"line_alpha\",\"height\",\"y\"],\"data\":{\"chart_index\":[\"(256.5, 265.1]\"],\"color\":[\"#f22c40\"],\"fill_alpha\":[0.8],\"height\":[19.0],\"label\":[\"(256.5, 265.1]\"],\"line_alpha\":[1.0],\"line_color\":[\"black\"],\"width\":[8.51785714285711],\"x\":[\"260.8\"],\"y\":[9.5]}},\"id\":\"96f2eae6-478e-4850-b8f0-1c2cade160cd\",\"type\":\"ColumnDataSource\"},{\"attributes\":{\"fill_alpha\":{\"field\":\"fill_alpha\"},\"fill_color\":{\"field\":\"color\"},\"height\":{\"field\":\"height\",\"units\":\"data\"},\"line_color\":{\"field\":\"line_color\"},\"width\":{\"field\":\"width\",\"units\":\"data\"},\"x\":{\"field\":\"x\"},\"y\":{\"field\":\"y\"}},\"id\":\"35448272-f089-4e3e-bf8e-70d7292519c9\",\"type\":\"Rect\"},{\"attributes\":{\"data_source\":{\"id\":\"2f1bb064-378f-4822-9bfd-5278b1ecf01e\",\"type\":\"ColumnDataSource\"},\"glyph\":{\"id\":\"0109b402-69bb-4f2f-b17f-8d05e72f361e\",\"type\":\"Rect\"},\"hover_glyph\":null,\"nonselection_glyph\":null,\"selection_glyph\":null},\"id\":\"7b5c6355-f751-4c21-ad58-bd13b15c5b76\",\"type\":\"GlyphRenderer\"},{\"attributes\":{\"callback\":null,\"column_names\":[\"line_color\",\"color\",\"x\",\"label\",\"fill_alpha\",\"width\",\"line_alpha\",\"height\",\"y\"],\"data\":{\"chart_index\":[\"(52.1, 60.6]\"],\"color\":[\"#f22c40\"],\"fill_alpha\":[0.8],\"height\":[202.0],\"label\":[\"(52.1, 60.6]\"],\"line_alpha\":[1.0],\"line_color\":[\"black\"],\"width\":[8.517857142857146],\"x\":[\"56.35\"],\"y\":[101.0]}},\"id\":\"13aa155c-502e-4a52-a282-2b243cc01ec7\",\"type\":\"ColumnDataSource\"},{\"attributes\":{\"callback\":null,\"column_names\":[\"line_color\",\"color\",\"x\",\"label\",\"fill_alpha\",\"width\",\"line_alpha\",\"height\",\"y\"],\"data\":{\"chart_index\":[\"(469.5, 478.0]\"],\"color\":[\"#f22c40\"],\"fill_alpha\":[0.8],\"height\":[4.0],\"label\":[\"(469.5, 478.0]\"],\"line_alpha\":[1.0],\"line_color\":[\"black\"],\"width\":[8.517857142857167],\"x\":[\"473.75\"],\"y\":[2.0]}},\"id\":\"227c4e3b-e0d6-4879-96d6-355c4f2e3252\",\"type\":\"ColumnDataSource\"},{\"attributes\":{\"callback\":null,\"column_names\":[\"line_color\",\"color\",\"x\",\"label\",\"fill_alpha\",\"width\",\"line_alpha\",\"height\",\"y\"],\"data\":{\"chart_index\":[\"(401.3, 409.9]\"],\"color\":[\"#f22c40\"],\"fill_alpha\":[0.8],\"height\":[2.0],\"label\":[\"(401.3, 409.9]\"],\"line_alpha\":[1.0],\"line_color\":[\"black\"],\"width\":[8.517857142857167],\"x\":[\"405.6\"],\"y\":[1.0]}},\"id\":\"c3a09032-705c-4108-b97a-4da94862eb19\",\"type\":\"ColumnDataSource\"},{\"attributes\":{\"data_source\":{\"id\":\"53deb46b-9dae-4b4d-b627-169b880089c6\",\"type\":\"ColumnDataSource\"},\"glyph\":{\"id\":\"35448272-f089-4e3e-bf8e-70d7292519c9\",\"type\":\"Rect\"},\"hover_glyph\":null,\"nonselection_glyph\":null,\"selection_glyph\":null},\"id\":\"ec7a4fd5-82fa-4a58-83b6-6fc3e4144954\",\"type\":\"GlyphRenderer\"},{\"attributes\":{\"callback\":null,\"column_names\":[\"line_color\",\"color\",\"x\",\"label\",\"fill_alpha\",\"width\",\"line_alpha\",\"height\",\"y\"],\"data\":{\"chart_index\":[\"(375.8, 384.3]\"],\"color\":[\"#f22c40\"],\"fill_alpha\":[0.8],\"height\":[6.0],\"label\":[\"(375.8, 384.3]\"],\"line_alpha\":[1.0],\"line_color\":[\"black\"],\"width\":[8.51785714285711],\"x\":[\"380.05\"],\"y\":[3.0]}},\"id\":\"de1bdea8-5cfe-4806-aee4-10dc92324046\",\"type\":\"ColumnDataSource\"},{\"attributes\":{\"bottom_units\":\"screen\",\"fill_alpha\":{\"value\":0.5},\"fill_color\":{\"value\":\"lightgrey\"},\"left_units\":\"screen\",\"level\":\"overlay\",\"line_alpha\":{\"value\":1.0},\"line_color\":{\"value\":\"black\"},\"line_dash\":[4,4],\"line_width\":{\"value\":2},\"plot\":null,\"render_mode\":\"css\",\"right_units\":\"screen\",\"top_units\":\"screen\"},\"id\":\"76c8c42f-1038-429a-96c2-6e08e80d0fd0\",\"type\":\"BoxAnnotation\"},{\"attributes\":{\"callback\":null,\"column_names\":[\"line_color\",\"color\",\"x\",\"label\",\"fill_alpha\",\"width\",\"line_alpha\",\"height\",\"y\"],\"data\":{\"chart_index\":[\"(231.0, 239.5]\"],\"color\":[\"#f22c40\"],\"fill_alpha\":[0.8],\"height\":[12.0],\"label\":[\"(231.0, 239.5]\"],\"line_alpha\":[1.0],\"line_color\":[\"black\"],\"width\":[8.517857142857167],\"x\":[\"235.25\"],\"y\":[6.0]}},\"id\":\"95ba9a3d-9e5d-41cd-92c1-de84076789c0\",\"type\":\"ColumnDataSource\"},{\"attributes\":{\"callback\":null,\"column_names\":[\"line_color\",\"color\",\"x\",\"label\",\"fill_alpha\",\"width\",\"line_alpha\",\"height\",\"y\"],\"data\":{\"chart_index\":[\"(333.2, 341.7]\"],\"color\":[\"#f22c40\"],\"fill_alpha\":[0.8],\"height\":[5.0],\"label\":[\"(333.2, 341.7]\"],\"line_alpha\":[1.0],\"line_color\":[\"black\"],\"width\":[8.51785714285711],\"x\":[\"337.45\"],\"y\":[2.5]}},\"id\":\"315fc27b-7142-4445-b81c-77bff8f798fb\",\"type\":\"ColumnDataSource\"},{\"attributes\":{\"data_source\":{\"id\":\"fea1b572-079c-4a00-94c4-1b41f111d97f\",\"type\":\"ColumnDataSource\"},\"glyph\":{\"id\":\"769af311-2b57-48be-bccc-d757ba492b4e\",\"type\":\"Rect\"},\"hover_glyph\":null,\"nonselection_glyph\":null,\"selection_glyph\":null},\"id\":\"4d0ba4df-03c8-4dab-a4e0-d320f6df64e7\",\"type\":\"GlyphRenderer\"},{\"attributes\":{\"callback\":null,\"column_names\":[\"line_color\",\"color\",\"x\",\"label\",\"fill_alpha\",\"width\",\"line_alpha\",\"height\",\"y\"],\"data\":{\"chart_index\":[\"(86.2, 94.7]\"],\"color\":[\"#f22c40\"],\"fill_alpha\":[0.8],\"height\":[96.0],\"label\":[\"(86.2, 94.7]\"],\"line_alpha\":[1.0],\"line_color\":[\"black\"],\"width\":[8.517857142857153],\"x\":[\"90.45\"],\"y\":[48.0]}},\"id\":\"298020be-09bf-4dff-bc2f-e41176fb9ac9\",\"type\":\"ColumnDataSource\"},{\"attributes\":{\"callback\":null,\"column_names\":[\"line_color\",\"color\",\"x\",\"label\",\"fill_alpha\",\"width\",\"line_alpha\",\"height\",\"y\"],\"data\":{\"chart_index\":[\"(137.3, 145.8]\"],\"color\":[\"#f22c40\"],\"fill_alpha\":[0.8],\"height\":[42.0],\"label\":[\"(137.3, 145.8]\"],\"line_alpha\":[1.0],\"line_color\":[\"black\"],\"width\":[8.517857142857139],\"x\":[\"141.55\"],\"y\":[21.0]}},\"id\":\"fe1a62c8-6918-4216-887f-967787742f95\",\"type\":\"ColumnDataSource\"},{\"attributes\":{\"callback\":null,\"column_names\":[\"line_color\",\"color\",\"x\",\"label\",\"fill_alpha\",\"width\",\"line_alpha\",\"height\",\"y\"],\"data\":{\"chart_index\":[\"(290.6, 299.1]\"],\"color\":[\"#f22c40\"],\"fill_alpha\":[0.8],\"height\":[6.0],\"label\":[\"(290.6, 299.1]\"],\"line_alpha\":[1.0],\"line_color\":[\"black\"],\"width\":[8.517857142857167],\"x\":[\"294.85\"],\"y\":[3.0]}},\"id\":\"9e530394-821e-481d-a557-c6954aa8a91a\",\"type\":\"ColumnDataSource\"},{\"attributes\":{\"fill_alpha\":{\"field\":\"fill_alpha\"},\"fill_color\":{\"field\":\"color\"},\"height\":{\"field\":\"height\",\"units\":\"data\"},\"line_color\":{\"field\":\"line_color\"},\"width\":{\"field\":\"width\",\"units\":\"data\"},\"x\":{\"field\":\"x\"},\"y\":{\"field\":\"y\"}},\"id\":\"5e122dcd-778c-4035-aaab-99f5466aa261\",\"type\":\"Rect\"},{\"attributes\":{\"fill_alpha\":{\"field\":\"fill_alpha\"},\"fill_color\":{\"field\":\"color\"},\"height\":{\"field\":\"height\",\"units\":\"data\"},\"line_color\":{\"field\":\"line_color\"},\"width\":{\"field\":\"width\",\"units\":\"data\"},\"x\":{\"field\":\"x\"},\"y\":{\"field\":\"y\"}},\"id\":\"69d44551-e009-497d-9ec3-77fdc9b3f1c0\",\"type\":\"Rect\"},{\"attributes\":{\"data_source\":{\"id\":\"14c69ce7-0055-4d3a-8b38-2b000e6c9ab1\",\"type\":\"ColumnDataSource\"},\"glyph\":{\"id\":\"c9e47bcd-43ef-42b7-af0a-fceb376e9d43\",\"type\":\"Rect\"},\"hover_glyph\":null,\"nonselection_glyph\":null,\"selection_glyph\":null},\"id\":\"863f92ce-b4a1-49bf-9696-5ceb2149c1e1\",\"type\":\"GlyphRenderer\"},{\"attributes\":{\"data_source\":{\"id\":\"8aeb1594-c360-41ae-b1ce-e4eda34198bf\",\"type\":\"ColumnDataSource\"},\"glyph\":{\"id\":\"aebd0d40-20e4-42f5-b2b5-2b16864e9343\",\"type\":\"Rect\"},\"hover_glyph\":null,\"nonselection_glyph\":null,\"selection_glyph\":null},\"id\":\"4e2d6ac2-9eaa-4064-a927-3cf8372f1874\",\"type\":\"GlyphRenderer\"},{\"attributes\":{\"data_source\":{\"id\":\"f1ddbcd7-62a1-49bc-a14e-02061a5f28f2\",\"type\":\"ColumnDataSource\"},\"glyph\":{\"id\":\"be566d49-22e7-4bd0-b82c-1a6293a6cfab\",\"type\":\"Rect\"},\"hover_glyph\":null,\"nonselection_glyph\":null,\"selection_glyph\":null},\"id\":\"58a9f593-7a95-4ca8-b755-a6dddbe9daf2\",\"type\":\"GlyphRenderer\"},{\"attributes\":{\"callback\":null,\"column_names\":[\"line_color\",\"color\",\"x\",\"label\",\"fill_alpha\",\"width\",\"line_alpha\",\"height\",\"y\"],\"data\":{\"chart_index\":[\"(248.0, 256.5]\"],\"color\":[\"#f22c40\"],\"fill_alpha\":[0.8],\"height\":[9.0],\"label\":[\"(248.0, 256.5]\"],\"line_alpha\":[1.0],\"line_color\":[\"black\"],\"width\":[8.517857142857139],\"x\":[\"252.25\"],\"y\":[4.5]}},\"id\":\"20a5a3f4-822d-433b-9cee-bc256a59a86e\",\"type\":\"ColumnDataSource\"},{\"attributes\":{\"callback\":null,\"column_names\":[\"line_color\",\"color\",\"x\",\"label\",\"fill_alpha\",\"width\",\"line_alpha\",\"height\",\"y\"],\"data\":{\"chart_index\":[\"(18.0, 26.6]\"],\"color\":[\"#f22c40\"],\"fill_alpha\":[0.8],\"height\":[350.0],\"label\":[\"(18.0, 26.6]\"],\"line_alpha\":[1.0],\"line_color\":[\"black\"],\"width\":[8.517857142857142],\"x\":[\"22.3\"],\"y\":[175.0]}},\"id\":\"535240d8-a514-4f8b-aad4-fe5791dd2718\",\"type\":\"ColumnDataSource\"},{\"attributes\":{\"data_source\":{\"id\":\"905640de-8585-49ec-9ecd-d4488dcca6fb\",\"type\":\"ColumnDataSource\"},\"glyph\":{\"id\":\"2b3fd864-7bff-4142-af6d-e43f3fddecba\",\"type\":\"Rect\"},\"hover_glyph\":null,\"nonselection_glyph\":null,\"selection_glyph\":null},\"id\":\"237d14e3-c950-4716-86d2-d22a72ffea15\",\"type\":\"GlyphRenderer\"},{\"attributes\":{\"fill_alpha\":{\"field\":\"fill_alpha\"},\"fill_color\":{\"field\":\"color\"},\"height\":{\"field\":\"height\",\"units\":\"data\"},\"line_color\":{\"field\":\"line_color\"},\"width\":{\"field\":\"width\",\"units\":\"data\"},\"x\":{\"field\":\"x\"},\"y\":{\"field\":\"y\"}},\"id\":\"0109b402-69bb-4f2f-b17f-8d05e72f361e\",\"type\":\"Rect\"},{\"attributes\":{\"data_source\":{\"id\":\"c89e5438-4a71-47ec-a2c3-363a93f7c37f\",\"type\":\"ColumnDataSource\"},\"glyph\":{\"id\":\"25f3b08c-ff0f-470d-88e6-8150d2df8032\",\"type\":\"Rect\"},\"hover_glyph\":null,\"nonselection_glyph\":null,\"selection_glyph\":null},\"id\":\"ce5ddded-16ef-4f54-8193-38913a8dd431\",\"type\":\"GlyphRenderer\"},{\"attributes\":{\"fill_alpha\":{\"field\":\"fill_alpha\"},\"fill_color\":{\"field\":\"color\"},\"height\":{\"field\":\"height\",\"units\":\"data\"},\"line_color\":{\"field\":\"line_color\"},\"width\":{\"field\":\"width\",\"units\":\"data\"},\"x\":{\"field\":\"x\"},\"y\":{\"field\":\"y\"}},\"id\":\"2b3fd864-7bff-4142-af6d-e43f3fddecba\",\"type\":\"Rect\"},{\"attributes\":{\"data_source\":{\"id\":\"a2633174-a495-4fd0-9a18-35a30a052d69\",\"type\":\"ColumnDataSource\"},\"glyph\":{\"id\":\"dad94626-a26c-4319-9a93-0017de9178b6\",\"type\":\"Rect\"},\"hover_glyph\":null,\"nonselection_glyph\":null,\"selection_glyph\":null},\"id\":\"573ad349-224b-45a5-90ac-9942b2b95045\",\"type\":\"GlyphRenderer\"},{\"attributes\":{\"fill_alpha\":{\"field\":\"fill_alpha\"},\"fill_color\":{\"field\":\"color\"},\"height\":{\"field\":\"height\",\"units\":\"data\"},\"line_color\":{\"field\":\"line_color\"},\"width\":{\"field\":\"width\",\"units\":\"data\"},\"x\":{\"field\":\"x\"},\"y\":{\"field\":\"y\"}},\"id\":\"462bf9f8-c7c5-458a-9f57-d85d8318e54b\",\"type\":\"Rect\"}],\"root_ids\":[\"0b0bf77b-35b6-429f-aede-1ae9376fa57d\"]},\"title\":\"Bokeh Application\",\"version\":\"0.12.2\"}};\n",
       "            var render_items = [{\"docid\":\"2439e355-23d6-4e9b-898f-ad669df1fe24\",\"elementid\":\"b621bb84-91e0-4476-9637-74093b0b9336\",\"modelid\":\"0b0bf77b-35b6-429f-aede-1ae9376fa57d\"}];\n",
       "            \n",
       "            Bokeh.embed.embed_items(docs_json, render_items);\n",
       "        });\n",
       "      },\n",
       "      function(Bokeh) {\n",
       "      }\n",
       "    ];\n",
       "  \n",
       "    function run_inline_js() {\n",
       "      \n",
       "      if ((window.Bokeh !== undefined) || (force === \"1\")) {\n",
       "        for (var i = 0; i < inline_js.length; i++) {\n",
       "          inline_js[i](window.Bokeh);\n",
       "        }if (force === \"1\") {\n",
       "          display_loaded();\n",
       "        }} else if (Date.now() < window._bokeh_timeout) {\n",
       "        setTimeout(run_inline_js, 100);\n",
       "      } else if (!window._bokeh_failed_load) {\n",
       "        console.log(\"Bokeh: BokehJS failed to load within specified timeout.\");\n",
       "        window._bokeh_failed_load = true;\n",
       "      } else if (!force) {\n",
       "        var cell = $(\"#b621bb84-91e0-4476-9637-74093b0b9336\").parents('.cell').data().cell;\n",
       "        cell.output_area.append_execute_result(NB_LOAD_WARNING)\n",
       "      }\n",
       "  \n",
       "    }\n",
       "  \n",
       "    if (window._bokeh_is_loading === 0) {\n",
       "      console.log(\"Bokeh: BokehJS loaded, going straight to plotting\");\n",
       "      run_inline_js();\n",
       "    } else {\n",
       "      load_libs(js_urls, function() {\n",
       "        console.log(\"Bokeh: BokehJS plotting callback run at\", now());\n",
       "        run_inline_js();\n",
       "      });\n",
       "    }\n",
       "  }(this));\n",
       "</script>"
      ]
     },
     "metadata": {},
     "output_type": "display_data"
    }
   ],
   "source": [
    "show(p)"
   ]
  },
  {
   "cell_type": "code",
   "execution_count": null,
   "metadata": {
    "collapsed": false
   },
   "outputs": [],
   "source": []
  },
  {
   "cell_type": "code",
   "execution_count": 9,
   "metadata": {
    "collapsed": false
   },
   "outputs": [],
   "source": [
    "df.sort_values('Total', ascending=False).to_csv('num_calls.csv', header=True)"
   ]
  },
  {
   "cell_type": "markdown",
   "metadata": {
    "collapsed": true
   },
   "source": [
    "## Load all the data"
   ]
  },
  {
   "cell_type": "code",
   "execution_count": 2,
   "metadata": {
    "collapsed": false
   },
   "outputs": [],
   "source": [
    "def is_five_digit_num(row):\n",
    "    \"\"\"\n",
    "    Is row num = 5 digits\n",
    "    \"\"\"\n",
    "    try: \n",
    "        num = int(row.Number)\n",
    "    except ValueError:\n",
    "        return False\n",
    "    if num > 9999 and num <= 99999:\n",
    "        return True\n",
    "    else:\n",
    "        return False"
   ]
  },
  {
   "cell_type": "code",
   "execution_count": 41,
   "metadata": {
    "collapsed": false
   },
   "outputs": [],
   "source": [
    "def load_data(filename):\n",
    "    \"\"\"\n",
    "    Takes a filename, returns df \n",
    "    \"\"\"\n",
    "    df = None\n",
    "    if filename == 'CHE March 2017.xls':\n",
    "        df = pd.read_excel('./data/CHE March 2017.xls',skiprows=range(0,12),skip_footer=12)\n",
    "        df['Number'] = df['Unnamed: 0']\n",
    "        df.drop(['Name'], axis=1, inplace=True)\n",
    "        df.drop(['Unnamed: 1', 'Unnamed: 2', 'Int', 'Tdm', 'Cost', 'Taxes',\n",
    "           'Eq. Cost', 'Total Cost', 'Unnamed: 15', 'Unnamed: 0'], axis=1, inplace=True)\n",
    "    else:\n",
    "        df = pd.read_excel('./data/' + filename, \n",
    "                  skiprows=range(0,12),\n",
    "                  skip_footer=1)\n",
    "        df.drop([0], inplace=True)\n",
    "        df.drop(['Unnamed: 1', 'Unnamed: 2', 'Int', 'Tdm', 'Cost', 'Taxes',\n",
    "               'Eq. Cost', 'Total Cost'], axis=1, inplace=True)\n",
    "    # Drop nan rows\n",
    "    df.dropna(inplace=True)\n",
    "    # drop rows where calls > 1000\n",
    "    df = df[df['Total'] < 1000]\n",
    "    df['Include'] = df.apply(is_five_digit_num, axis=1)\n",
    "    df = df[df['Include'] == True]\n",
    "    del df['Include']\n",
    "    return df"
   ]
  },
  {
   "cell_type": "code",
   "execution_count": 42,
   "metadata": {
    "collapsed": false
   },
   "outputs": [],
   "source": [
    "files = os.listdir('data')\n",
    "data = [load_data(file) for file in files]"
   ]
  },
  {
   "cell_type": "code",
   "execution_count": 43,
   "metadata": {
    "collapsed": false
   },
   "outputs": [],
   "source": [
    "grouped = pd.concat(data).groupby('Number')"
   ]
  },
  {
   "cell_type": "code",
   "execution_count": 44,
   "metadata": {
    "collapsed": false
   },
   "outputs": [
    {
     "name": "stdout",
     "output_type": "stream",
     "text": [
      "5700\n"
     ]
    }
   ],
   "source": [
    "annual_totals = grouped.sum()\n",
    "print(len(annual_totals))"
   ]
  },
  {
   "cell_type": "markdown",
   "metadata": {
    "collapsed": true
   },
   "source": [
    "## CityFone Data"
   ]
  },
  {
   "cell_type": "code",
   "execution_count": 45,
   "metadata": {
    "collapsed": false
   },
   "outputs": [
    {
     "name": "stdout",
     "output_type": "stream",
     "text": [
      "30134\n"
     ]
    }
   ],
   "source": [
    "cityfone_df = pd.read_excel('./extract_cityfone.xlsx')\n",
    "print(len(cityfone_df))"
   ]
  },
  {
   "cell_type": "code",
   "execution_count": 46,
   "metadata": {
    "collapsed": false
   },
   "outputs": [
    {
     "data": {
      "text/plain": [
       "Index(['WRK_TEL_NBR', 'WRK_TEL_NBR2', 'EMP_LST_NM', 'EMP_FRST_NM',\n",
       "       'EXT_DEPT_ID', 'DEPT_NAME', 'STR_ADDR_TXT', 'LOC_UNIT_NBR',\n",
       "       'LOC_UNIT_LBL_TXT', 'Number'],\n",
       "      dtype='object')"
      ]
     },
     "execution_count": 46,
     "metadata": {},
     "output_type": "execute_result"
    }
   ],
   "source": [
    "cityfone_df['Number'] = cityfone_df.WRK_TEL_NBR.apply(lambda x: str(x)[-7:])\n",
    "cityfone_df['Number'].replace('       ', np.nan, inplace=True)\n",
    "cityfone_df['Number'].dropna(inplace=True)\n",
    "cityfone_df.columns"
   ]
  },
  {
   "cell_type": "markdown",
   "metadata": {},
   "source": [
    "## Catagorization"
   ]
  },
  {
   "cell_type": "code",
   "execution_count": 47,
   "metadata": {
    "collapsed": true
   },
   "outputs": [],
   "source": [
    "def catagorize(row): \n",
    "    \"\"\"\n",
    "    Return High, Medium, Low catagory \n",
    "    \"\"\"\n",
    "    if row['Total'] >= len(data) * 201:\n",
    "        return 'High'\n",
    "    elif row['Total'] >= len(data) * 41:\n",
    "        return 'Medium'\n",
    "    else:\n",
    "        return 'Low'"
   ]
  },
  {
   "cell_type": "code",
   "execution_count": 48,
   "metadata": {
    "collapsed": true
   },
   "outputs": [],
   "source": [
    "annual_totals['catagory'] = annual_totals.apply(catagorize, axis=1)"
   ]
  },
  {
   "cell_type": "code",
   "execution_count": 49,
   "metadata": {
    "collapsed": false
   },
   "outputs": [
    {
     "name": "stderr",
     "output_type": "stream",
     "text": [
      "/Users/hunterowens/anaconda3/lib/python3.5/site-packages/matplotlib/figure.py:1744: UserWarning: This figure includes Axes that are not compatible with tight_layout, so its results might be incorrect.\n",
      "  warnings.warn(\"This figure includes Axes that are not \"\n"
     ]
    },
    {
     "data": {
      "image/png": "[encoded data removed]",
      "text/plain": [
       "<matplotlib.figure.Figure at 0x119135630>"
      ]
     },
     "metadata": {},
     "output_type": "display_data"
    }
   ],
   "source": [
    "ax = annual_totals.catagory.value_counts().plot(kind='bar', title='All CHE PBX Lines, April-Febuary Dataset')\n",
    "ax.set_xlabel('Number of Calls/Month Low <=40, Med 41-200, High >200')\n",
    "ax.set_ylabel('Number of Phone Lines')\n",
    "fig = ax.get_figure()\n",
    "fig.savefig('all_che.png')"
   ]
  },
  {
   "cell_type": "code",
   "execution_count": 50,
   "metadata": {
    "collapsed": false
   },
   "outputs": [],
   "source": [
    "p1 = Bar(annual_totals.catagory.value_counts(), title='System Number of Users, by Type',\n",
    "                                                palette=['red', 'green', 'blue'],\n",
    "                                                )"
   ]
  },
  {
   "cell_type": "markdown",
   "metadata": {},
   "source": [
    "## Merge all the data"
   ]
  },
  {
   "cell_type": "code",
   "execution_count": 51,
   "metadata": {
    "collapsed": false
   },
   "outputs": [],
   "source": [
    "def make_seven_digit(number):\n",
    "    \"\"\"\n",
    "    makes a seven digit number from the PBX data. \n",
    "    \"\"\"\n",
    "    first_digit = str(number)[0]\n",
    "    if first_digit == '3':\n",
    "        retval = '47' + str(number)\n",
    "    elif first_digit == '2':\n",
    "        retval = '92' + str(number)\n",
    "    elif first_digit == '8':\n",
    "        if str(number)[:3] == '895':\n",
    "            retval = '92' + str(number)\n",
    "        else:\n",
    "            retval = '97' + str(number)\n",
    "    return float(retval)"
   ]
  },
  {
   "cell_type": "code",
   "execution_count": 52,
   "metadata": {
    "collapsed": false
   },
   "outputs": [],
   "source": [
    "annual_totals.index = annual_totals.index.map(make_seven_digit)"
   ]
  },
  {
   "cell_type": "code",
   "execution_count": 53,
   "metadata": {
    "collapsed": false
   },
   "outputs": [],
   "source": [
    "def number_of_cityfone_matches(row):\n",
    "    \"\"\"\n",
    "    Find the number of Cityfone matches\n",
    "    \"\"\"\n",
    "    number_totals = row.name\n",
    "    cityfone_df['Number'] = pd.to_numeric(cityfone_df.Number)\n",
    "    df = cityfone_df[cityfone_df['Number'] == number_totals]\n",
    "    return len(df)"
   ]
  },
  {
   "cell_type": "code",
   "execution_count": 54,
   "metadata": {
    "collapsed": false
   },
   "outputs": [],
   "source": [
    "#annual_totals['number_of_cityfone_matches'] = annual_totals.apply(number_of_cityfone_matches, axis =1)\n",
    "#annual_totals.apply(number_of_cityfone_matches, axis =1)"
   ]
  },
  {
   "cell_type": "code",
   "execution_count": 55,
   "metadata": {
    "collapsed": false
   },
   "outputs": [
    {
     "data": {
      "text/plain": [
       "Index(['In', 'Out', 'Total', 'catagory'], dtype='object')"
      ]
     },
     "execution_count": 55,
     "metadata": {},
     "output_type": "execute_result"
    }
   ],
   "source": [
    "annual_totals.columns"
   ]
  },
  {
   "cell_type": "code",
   "execution_count": 56,
   "metadata": {
    "collapsed": false
   },
   "outputs": [],
   "source": [
    "annual_totals.to_csv('pbx_data_with_cityfone_matches.csv')"
   ]
  },
  {
   "cell_type": "markdown",
   "metadata": {
    "collapsed": true
   },
   "source": [
    "### Cityfone Perf Matching "
   ]
  },
  {
   "cell_type": "code",
   "execution_count": 57,
   "metadata": {
    "collapsed": false
   },
   "outputs": [],
   "source": [
    "def cityfone_matcher(row, *args):\n",
    "    \"\"\"\n",
    "    Match to CityFone when perfect match  \n",
    "    \"\"\"\n",
    "    number_totals = row.name\n",
    "    cityfone_df['Number'] = pd.to_numeric(cityfone_df.Number)\n",
    "    df = cityfone_df[cityfone_df['Number'] == number_totals]\n",
    "    try:\n",
    "        val = df[args[0]].iloc[0]\n",
    "    except IndexError: \n",
    "        return np.NaN\n",
    "    return val"
   ]
  },
  {
   "cell_type": "code",
   "execution_count": 58,
   "metadata": {
    "collapsed": false,
    "scrolled": true
   },
   "outputs": [],
   "source": [
    "annual_totals['Last_Name'] = annual_totals.apply(cityfone_matcher, axis=1, args=('EMP_LST_NM',))\n",
    "annual_totals['First_Name'] = annual_totals.apply(cityfone_matcher, axis=1, args=('EMP_FRST_NM',))\n",
    "annual_totals['Dept'] = annual_totals.apply(cityfone_matcher, axis=1, args=('DEPT_NAME',))\n",
    "annual_totals['address'] = annual_totals.apply(cityfone_matcher, axis=1, args=('STR_ADDR_TXT',))\n",
    "annual_totals['LOC_UNIT_NBR'] = annual_totals.apply(cityfone_matcher, axis=1, args=('LOC_UNIT_NBR',))\n",
    "annual_totals['LOC_UNIT_LBL_TXT'] = annual_totals.apply(cityfone_matcher, axis=1, args=('LOC_UNIT_LBL_TXT',))"
   ]
  },
  {
   "cell_type": "code",
   "execution_count": 59,
   "metadata": {
    "collapsed": false
   },
   "outputs": [],
   "source": [
    "ita = annual_totals[annual_totals['Dept'] == 'Information Technology Agency']"
   ]
  },
  {
   "cell_type": "code",
   "execution_count": 60,
   "metadata": {
    "collapsed": false
   },
   "outputs": [
    {
     "name": "stderr",
     "output_type": "stream",
     "text": [
      "/Users/hunterowens/anaconda3/lib/python3.5/site-packages/matplotlib/figure.py:1744: UserWarning: This figure includes Axes that are not compatible with tight_layout, so its results might be incorrect.\n",
      "  warnings.warn(\"This figure includes Axes that are not \"\n"
     ]
    },
    {
     "data": {
      "image/png": "[encoded data removed]",
      "text/plain": [
       "<matplotlib.figure.Figure at 0x11913a470>"
      ]
     },
     "metadata": {},
     "output_type": "display_data"
    }
   ],
   "source": [
    "ax = ita.catagory.value_counts().plot(kind='bar', title='ITA CHE PBX Lines, April-Febuary Dataset')\n",
    "ax.set_xlabel('Number of Calls/Month Low <=40, Med 41-200, High >200')\n",
    "ax.set_ylabel('Number of Phone Lines')\n",
    "fig = ax.get_figure()\n",
    "fig.savefig('all_ita.png')"
   ]
  },
  {
   "cell_type": "code",
   "execution_count": 61,
   "metadata": {
    "collapsed": false
   },
   "outputs": [
    {
     "data": {
      "text/plain": [
       "260"
      ]
     },
     "execution_count": 61,
     "metadata": {},
     "output_type": "execute_result"
    }
   ],
   "source": [
    "len(ita)"
   ]
  },
  {
   "cell_type": "code",
   "execution_count": 62,
   "metadata": {
    "collapsed": true
   },
   "outputs": [],
   "source": [
    "annual_totals.to_csv('annual_totals_with_location.csv')"
   ]
  },
  {
   "cell_type": "code",
   "execution_count": 63,
   "metadata": {
    "collapsed": false
   },
   "outputs": [
    {
     "data": {
      "text/plain": [
       "Low       150\n",
       "Medium    100\n",
       "High       10\n",
       "Name: catagory, dtype: int64"
      ]
     },
     "execution_count": 63,
     "metadata": {},
     "output_type": "execute_result"
    }
   ],
   "source": [
    "ita.catagory.value_counts()"
   ]
  },
  {
   "cell_type": "markdown",
   "metadata": {
    "collapsed": true
   },
   "source": [
    "## Match with Averages, rather than Sum "
   ]
  },
  {
   "cell_type": "code",
   "execution_count": 64,
   "metadata": {
    "collapsed": true
   },
   "outputs": [],
   "source": [
    "annual_avg = grouped.mean()"
   ]
  },
  {
   "cell_type": "code",
   "execution_count": 65,
   "metadata": {
    "collapsed": false
   },
   "outputs": [],
   "source": [
    "annual_avg.index = annual_avg.index.map(make_seven_digit)"
   ]
  },
  {
   "cell_type": "code",
   "execution_count": 66,
   "metadata": {
    "collapsed": false
   },
   "outputs": [],
   "source": [
    "annual_avg.rename(columns={'In': 'In_avg', 'Out': 'Out_avg', 'Total':'Total_avg'}, inplace=True)"
   ]
  },
  {
   "cell_type": "code",
   "execution_count": 67,
   "metadata": {
    "collapsed": false
   },
   "outputs": [],
   "source": [
    "joined_again = annual_avg.join(annual_totals)"
   ]
  },
  {
   "cell_type": "code",
   "execution_count": 68,
   "metadata": {
    "collapsed": false
   },
   "outputs": [
    {
     "data": {
      "text/plain": [
       "Index(['In_avg', 'Out_avg', 'Total_avg', 'In', 'Out', 'Total', 'catagory',\n",
       "       'Last_Name', 'First_Name', 'Dept', 'address', 'LOC_UNIT_NBR',\n",
       "       'LOC_UNIT_LBL_TXT'],\n",
       "      dtype='object')"
      ]
     },
     "execution_count": 68,
     "metadata": {},
     "output_type": "execute_result"
    }
   ],
   "source": [
    "joined_again.columns"
   ]
  },
  {
   "cell_type": "code",
   "execution_count": 69,
   "metadata": {
    "collapsed": true
   },
   "outputs": [],
   "source": [
    "joined_again['phone_number'] = joined_again.index.values"
   ]
  },
  {
   "cell_type": "markdown",
   "metadata": {
    "collapsed": false
   },
   "source": [
    "Ordering \n",
    "    * Department\n",
    "    * Phone #\n",
    "    * First Name\n",
    "    * Last Name\n",
    "    * Address\n",
    "    * Loc Unit Lbl Txt\n",
    "    * Loc Unit Nbr\n",
    "    * Category\n",
    "    * Avg Monthly Calls In\n",
    "    * Avg Monthly Calls Out\n",
    "    * Avg Monthly Calls Total\n"
   ]
  },
  {
   "cell_type": "code",
   "execution_count": 70,
   "metadata": {
    "collapsed": false
   },
   "outputs": [],
   "source": [
    "joined_again.to_csv(\"ordered_avg_draft.csv\", sep=',', encoding='utf-8', header=True, index=True,\n",
    "          columns=[\"Dept\",\"phone_numer\",\"First_Name\",\"Last_Name\",\"address\", \"LOC_UNIT_LBL_TXT\", \"LOC_UNIT_NBR\",\n",
    "                  \"catagory\",\"In_avg\",\"Out_avg\",\"Total_avg\"])"
   ]
  }
 ],
 "metadata": {
  "kernelspec": {
   "display_name": "Python 3",
   "language": "python",
   "name": "python3"
  },
  "language_info": {
   "codemirror_mode": {
    "name": "ipython",
    "version": 3
   },
   "file_extension": ".py",
   "mimetype": "text/x-python",
   "name": "python",
   "nbconvert_exporter": "python",
   "pygments_lexer": "ipython3",
   "version": "3.5.2"
  }
 },
 "nbformat": 4,
 "nbformat_minor": 0
}
