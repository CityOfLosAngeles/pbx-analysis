{
 "cells": [
  {
   "cell_type": "code",
   "execution_count": 76,
   "metadata": {
    "collapsed": false
   },
   "outputs": [
    {
     "data": {
      "text/html": [
       "\n",
       "    <div class=\"bk-root\">\n",
       "        <a href=\"http://bokeh.pydata.org\" target=\"_blank\" class=\"bk-logo bk-logo-small bk-logo-notebook\"></a>\n",
       "        <span id=\"a66d3c1d-c783-4940-9d99-09ad68bf3a49\">Loading BokehJS ...</span>\n",
       "    </div>"
      ]
     },
     "metadata": {},
     "output_type": "display_data"
    },
    {
     "data": {
      "application/javascript": [
       "\n",
       "(function(global) {\n",
       "  function now() {\n",
       "    return new Date();\n",
       "  }\n",
       "\n",
       "  var force = \"1\";\n",
       "\n",
       "  if (typeof (window._bokeh_onload_callbacks) === \"undefined\" || force !== \"\") {\n",
       "    window._bokeh_onload_callbacks = [];\n",
       "    window._bokeh_is_loading = undefined;\n",
       "  }\n",
       "\n",
       "\n",
       "  \n",
       "  if (typeof (window._bokeh_timeout) === \"undefined\" || force !== \"\") {\n",
       "    window._bokeh_timeout = Date.now() + 5000;\n",
       "    window._bokeh_failed_load = false;\n",
       "  }\n",
       "\n",
       "  var NB_LOAD_WARNING = {'data': {'text/html':\n",
       "     \"<div style='background-color: #fdd'>\\n\"+\n",
       "     \"<p>\\n\"+\n",
       "     \"BokehJS does not appear to have successfully loaded. If loading BokehJS from CDN, this \\n\"+\n",
       "     \"may be due to a slow or bad network connection. Possible fixes:\\n\"+\n",
       "     \"</p>\\n\"+\n",
       "     \"<ul>\\n\"+\n",
       "     \"<li>re-rerun `output_notebook()` to attempt to load from CDN again, or</li>\\n\"+\n",
       "     \"<li>use INLINE resources instead, as so:</li>\\n\"+\n",
       "     \"</ul>\\n\"+\n",
       "     \"<code>\\n\"+\n",
       "     \"from bokeh.resources import INLINE\\n\"+\n",
       "     \"output_notebook(resources=INLINE)\\n\"+\n",
       "     \"</code>\\n\"+\n",
       "     \"</div>\"}};\n",
       "\n",
       "  function display_loaded() {\n",
       "    if (window.Bokeh !== undefined) {\n",
       "      Bokeh.$(\"#a66d3c1d-c783-4940-9d99-09ad68bf3a49\").text(\"BokehJS successfully loaded.\");\n",
       "    } else if (Date.now() < window._bokeh_timeout) {\n",
       "      setTimeout(display_loaded, 100)\n",
       "    }\n",
       "  }\n",
       "\n",
       "  function run_callbacks() {\n",
       "    window._bokeh_onload_callbacks.forEach(function(callback) { callback() });\n",
       "    delete window._bokeh_onload_callbacks\n",
       "    console.info(\"Bokeh: all callbacks have finished\");\n",
       "  }\n",
       "\n",
       "  function load_libs(js_urls, callback) {\n",
       "    window._bokeh_onload_callbacks.push(callback);\n",
       "    if (window._bokeh_is_loading > 0) {\n",
       "      console.log(\"Bokeh: BokehJS is being loaded, scheduling callback at\", now());\n",
       "      return null;\n",
       "    }\n",
       "    if (js_urls == null || js_urls.length === 0) {\n",
       "      run_callbacks();\n",
       "      return null;\n",
       "    }\n",
       "    console.log(\"Bokeh: BokehJS not loaded, scheduling load and callback at\", now());\n",
       "    window._bokeh_is_loading = js_urls.length;\n",
       "    for (var i = 0; i < js_urls.length; i++) {\n",
       "      var url = js_urls[i];\n",
       "      var s = document.createElement('script');\n",
       "      s.src = url;\n",
       "      s.async = false;\n",
       "      s.onreadystatechange = s.onload = function() {\n",
       "        window._bokeh_is_loading--;\n",
       "        if (window._bokeh_is_loading === 0) {\n",
       "          console.log(\"Bokeh: all BokehJS libraries loaded\");\n",
       "          run_callbacks()\n",
       "        }\n",
       "      };\n",
       "      s.onerror = function() {\n",
       "        console.warn(\"failed to load library \" + url);\n",
       "      };\n",
       "      console.log(\"Bokeh: injecting script tag for BokehJS library: \", url);\n",
       "      document.getElementsByTagName(\"head\")[0].appendChild(s);\n",
       "    }\n",
       "  };var element = document.getElementById(\"a66d3c1d-c783-4940-9d99-09ad68bf3a49\");\n",
       "  if (element == null) {\n",
       "    console.log(\"Bokeh: ERROR: autoload.js configured with elementid 'a66d3c1d-c783-4940-9d99-09ad68bf3a49' but no matching script tag was found. \")\n",
       "    return false;\n",
       "  }\n",
       "\n",
       "  var js_urls = ['https://cdn.pydata.org/bokeh/release/bokeh-0.12.2.min.js', 'https://cdn.pydata.org/bokeh/release/bokeh-widgets-0.12.2.min.js', 'https://cdn.pydata.org/bokeh/release/bokeh-compiler-0.12.2.min.js'];\n",
       "\n",
       "  var inline_js = [\n",
       "    function(Bokeh) {\n",
       "      Bokeh.set_log_level(\"info\");\n",
       "    },\n",
       "    \n",
       "    function(Bokeh) {\n",
       "      \n",
       "      Bokeh.$(\"#a66d3c1d-c783-4940-9d99-09ad68bf3a49\").text(\"BokehJS is loading...\");\n",
       "    },\n",
       "    function(Bokeh) {\n",
       "      console.log(\"Bokeh: injecting CSS: https://cdn.pydata.org/bokeh/release/bokeh-0.12.2.min.css\");\n",
       "      Bokeh.embed.inject_css(\"https://cdn.pydata.org/bokeh/release/bokeh-0.12.2.min.css\");\n",
       "      console.log(\"Bokeh: injecting CSS: https://cdn.pydata.org/bokeh/release/bokeh-widgets-0.12.2.min.css\");\n",
       "      Bokeh.embed.inject_css(\"https://cdn.pydata.org/bokeh/release/bokeh-widgets-0.12.2.min.css\");\n",
       "    }\n",
       "  ];\n",
       "\n",
       "  function run_inline_js() {\n",
       "    \n",
       "    if ((window.Bokeh !== undefined) || (force === \"1\")) {\n",
       "      for (var i = 0; i < inline_js.length; i++) {\n",
       "        inline_js[i](window.Bokeh);\n",
       "      }if (force === \"1\") {\n",
       "        display_loaded();\n",
       "      }} else if (Date.now() < window._bokeh_timeout) {\n",
       "      setTimeout(run_inline_js, 100);\n",
       "    } else if (!window._bokeh_failed_load) {\n",
       "      console.log(\"Bokeh: BokehJS failed to load within specified timeout.\");\n",
       "      window._bokeh_failed_load = true;\n",
       "    } else if (!force) {\n",
       "      var cell = $(\"#a66d3c1d-c783-4940-9d99-09ad68bf3a49\").parents('.cell').data().cell;\n",
       "      cell.output_area.append_execute_result(NB_LOAD_WARNING)\n",
       "    }\n",
       "\n",
       "  }\n",
       "\n",
       "  if (window._bokeh_is_loading === 0) {\n",
       "    console.log(\"Bokeh: BokehJS loaded, going straight to plotting\");\n",
       "    run_inline_js();\n",
       "  } else {\n",
       "    load_libs(js_urls, function() {\n",
       "      console.log(\"Bokeh: BokehJS plotting callback run at\", now());\n",
       "      run_inline_js();\n",
       "    });\n",
       "  }\n",
       "}(this));"
      ]
     },
     "metadata": {},
     "output_type": "display_data"
    }
   ],
   "source": [
    "import pandas as pd\n",
    "import numpy as np\n",
    "%matplotlib inline\n",
    "from bokeh.io import output_notebook\n",
    "from bokeh.charts import Histogram, Bar, show\n",
    "import os\n",
    "output_notebook()\n",
    "from matplotlib import rcParams\n",
    "rcParams.update({'figure.autolayout': True})\n"
   ]
  },
  {
   "cell_type": "code",
   "execution_count": 77,
   "metadata": {
    "collapsed": false
   },
   "outputs": [],
   "source": [
    "df = pd.read_excel('./data/CHE Feb 2017.xls', \n",
    "              skiprows=range(0,12),\n",
    "              skip_footer=1, \n",
    "              )"
   ]
  },
  {
   "cell_type": "code",
   "execution_count": 78,
   "metadata": {
    "collapsed": false
   },
   "outputs": [],
   "source": [
    "df = df.drop([0])"
   ]
  },
  {
   "cell_type": "code",
   "execution_count": 79,
   "metadata": {
    "collapsed": false
   },
   "outputs": [],
   "source": [
    "df = df.drop(['Unnamed: 1', 'Unnamed: 2', 'Int', 'Tdm', 'Cost', 'Taxes',\n",
    "           'Eq. Cost', 'Total Cost'], axis=1)"
   ]
  },
  {
   "cell_type": "code",
   "execution_count": 80,
   "metadata": {
    "collapsed": false
   },
   "outputs": [
    {
     "data": {
      "text/plain": [
       "count     4534.000000\n",
       "mean        88.087120\n",
       "std        340.872229\n",
       "min          1.000000\n",
       "25%         10.000000\n",
       "50%         35.000000\n",
       "75%         88.000000\n",
       "max      19002.000000\n",
       "Name: Total, dtype: float64"
      ]
     },
     "execution_count": 80,
     "metadata": {},
     "output_type": "execute_result"
    }
   ],
   "source": [
    "df.Total.describe()"
   ]
  },
  {
   "cell_type": "code",
   "execution_count": 81,
   "metadata": {
    "collapsed": false
   },
   "outputs": [
    {
     "data": {
      "text/html": [
       "<div>\n",
       "<table border=\"1\" class=\"dataframe\">\n",
       "  <thead>\n",
       "    <tr style=\"text-align: right;\">\n",
       "      <th></th>\n",
       "      <th>Number</th>\n",
       "      <th>In</th>\n",
       "      <th>Out</th>\n",
       "      <th>Total</th>\n",
       "      <th>Duration</th>\n",
       "      <th>Avg. Dur.</th>\n",
       "      <th>Long. Dur.</th>\n",
       "    </tr>\n",
       "  </thead>\n",
       "  <tbody>\n",
       "    <tr>\n",
       "      <th>1</th>\n",
       "      <td>20100.0</td>\n",
       "      <td>1.0</td>\n",
       "      <td>2.0</td>\n",
       "      <td>3.0</td>\n",
       "      <td>00:01:52</td>\n",
       "      <td>00:00:37</td>\n",
       "      <td>00:00:56</td>\n",
       "    </tr>\n",
       "    <tr>\n",
       "      <th>2</th>\n",
       "      <td>27701.0</td>\n",
       "      <td>4.0</td>\n",
       "      <td>3.0</td>\n",
       "      <td>7.0</td>\n",
       "      <td>00:04:20</td>\n",
       "      <td>00:00:37</td>\n",
       "      <td>00:01:04</td>\n",
       "    </tr>\n",
       "    <tr>\n",
       "      <th>3</th>\n",
       "      <td>27702.0</td>\n",
       "      <td>75.0</td>\n",
       "      <td>38.0</td>\n",
       "      <td>113.0</td>\n",
       "      <td>05:25:50</td>\n",
       "      <td>00:02:53</td>\n",
       "      <td>00:30:16</td>\n",
       "    </tr>\n",
       "    <tr>\n",
       "      <th>4</th>\n",
       "      <td>27703.0</td>\n",
       "      <td>9.0</td>\n",
       "      <td>19.0</td>\n",
       "      <td>28.0</td>\n",
       "      <td>00:45:00</td>\n",
       "      <td>00:01:36</td>\n",
       "      <td>00:10:08</td>\n",
       "    </tr>\n",
       "    <tr>\n",
       "      <th>5</th>\n",
       "      <td>27704.0</td>\n",
       "      <td>12.0</td>\n",
       "      <td>4.0</td>\n",
       "      <td>16.0</td>\n",
       "      <td>01:20:14</td>\n",
       "      <td>00:05:00</td>\n",
       "      <td>00:21:32</td>\n",
       "    </tr>\n",
       "    <tr>\n",
       "      <th>6</th>\n",
       "      <td>27705.0</td>\n",
       "      <td>16.0</td>\n",
       "      <td>2.0</td>\n",
       "      <td>18.0</td>\n",
       "      <td>00:19:48</td>\n",
       "      <td>00:01:06</td>\n",
       "      <td>00:04:38</td>\n",
       "    </tr>\n",
       "    <tr>\n",
       "      <th>7</th>\n",
       "      <td>27706.0</td>\n",
       "      <td>30.0</td>\n",
       "      <td>6.0</td>\n",
       "      <td>36.0</td>\n",
       "      <td>01:54:20</td>\n",
       "      <td>00:03:10</td>\n",
       "      <td>00:19:10</td>\n",
       "    </tr>\n",
       "    <tr>\n",
       "      <th>8</th>\n",
       "      <td>27708.0</td>\n",
       "      <td>11.0</td>\n",
       "      <td>3.0</td>\n",
       "      <td>14.0</td>\n",
       "      <td>00:20:58</td>\n",
       "      <td>00:01:29</td>\n",
       "      <td>00:04:22</td>\n",
       "    </tr>\n",
       "    <tr>\n",
       "      <th>9</th>\n",
       "      <td>27709.0</td>\n",
       "      <td>20.0</td>\n",
       "      <td>10.0</td>\n",
       "      <td>30.0</td>\n",
       "      <td>00:29:12</td>\n",
       "      <td>00:00:58</td>\n",
       "      <td>00:11:28</td>\n",
       "    </tr>\n",
       "    <tr>\n",
       "      <th>10</th>\n",
       "      <td>27712.0</td>\n",
       "      <td>0.0</td>\n",
       "      <td>18.0</td>\n",
       "      <td>18.0</td>\n",
       "      <td>00:49:22</td>\n",
       "      <td>00:02:44</td>\n",
       "      <td>00:09:34</td>\n",
       "    </tr>\n",
       "    <tr>\n",
       "      <th>11</th>\n",
       "      <td>27713.0</td>\n",
       "      <td>0.0</td>\n",
       "      <td>6.0</td>\n",
       "      <td>6.0</td>\n",
       "      <td>01:20:02</td>\n",
       "      <td>00:13:20</td>\n",
       "      <td>00:27:28</td>\n",
       "    </tr>\n",
       "    <tr>\n",
       "      <th>12</th>\n",
       "      <td>27714.0</td>\n",
       "      <td>54.0</td>\n",
       "      <td>34.0</td>\n",
       "      <td>88.0</td>\n",
       "      <td>02:58:46</td>\n",
       "      <td>00:02:01</td>\n",
       "      <td>00:35:48</td>\n",
       "    </tr>\n",
       "    <tr>\n",
       "      <th>13</th>\n",
       "      <td>27717.0</td>\n",
       "      <td>1.0</td>\n",
       "      <td>2.0</td>\n",
       "      <td>3.0</td>\n",
       "      <td>00:03:48</td>\n",
       "      <td>00:01:16</td>\n",
       "      <td>00:02:10</td>\n",
       "    </tr>\n",
       "    <tr>\n",
       "      <th>14</th>\n",
       "      <td>27720.0</td>\n",
       "      <td>23.0</td>\n",
       "      <td>11.0</td>\n",
       "      <td>34.0</td>\n",
       "      <td>02:23:06</td>\n",
       "      <td>00:04:12</td>\n",
       "      <td>00:37:22</td>\n",
       "    </tr>\n",
       "    <tr>\n",
       "      <th>15</th>\n",
       "      <td>27725.0</td>\n",
       "      <td>21.0</td>\n",
       "      <td>8.0</td>\n",
       "      <td>29.0</td>\n",
       "      <td>02:23:16</td>\n",
       "      <td>00:04:56</td>\n",
       "      <td>00:31:28</td>\n",
       "    </tr>\n",
       "    <tr>\n",
       "      <th>16</th>\n",
       "      <td>27728.0</td>\n",
       "      <td>10.0</td>\n",
       "      <td>17.0</td>\n",
       "      <td>27.0</td>\n",
       "      <td>03:59:14</td>\n",
       "      <td>00:08:51</td>\n",
       "      <td>00:47:30</td>\n",
       "    </tr>\n",
       "    <tr>\n",
       "      <th>17</th>\n",
       "      <td>27731.0</td>\n",
       "      <td>1.0</td>\n",
       "      <td>0.0</td>\n",
       "      <td>1.0</td>\n",
       "      <td>00:00:04</td>\n",
       "      <td>00:00:04</td>\n",
       "      <td>00:00:04</td>\n",
       "    </tr>\n",
       "    <tr>\n",
       "      <th>18</th>\n",
       "      <td>27732.0</td>\n",
       "      <td>5.0</td>\n",
       "      <td>18.0</td>\n",
       "      <td>23.0</td>\n",
       "      <td>04:55:54</td>\n",
       "      <td>00:12:51</td>\n",
       "      <td>00:56:36</td>\n",
       "    </tr>\n",
       "    <tr>\n",
       "      <th>19</th>\n",
       "      <td>27733.0</td>\n",
       "      <td>1.0</td>\n",
       "      <td>0.0</td>\n",
       "      <td>1.0</td>\n",
       "      <td>00:00:06</td>\n",
       "      <td>00:00:06</td>\n",
       "      <td>00:00:06</td>\n",
       "    </tr>\n",
       "    <tr>\n",
       "      <th>20</th>\n",
       "      <td>27734.0</td>\n",
       "      <td>8.0</td>\n",
       "      <td>8.0</td>\n",
       "      <td>16.0</td>\n",
       "      <td>00:16:28</td>\n",
       "      <td>00:01:01</td>\n",
       "      <td>00:08:56</td>\n",
       "    </tr>\n",
       "    <tr>\n",
       "      <th>21</th>\n",
       "      <td>27735.0</td>\n",
       "      <td>17.0</td>\n",
       "      <td>9.0</td>\n",
       "      <td>26.0</td>\n",
       "      <td>02:06:58</td>\n",
       "      <td>00:04:53</td>\n",
       "      <td>00:59:44</td>\n",
       "    </tr>\n",
       "    <tr>\n",
       "      <th>22</th>\n",
       "      <td>27737.0</td>\n",
       "      <td>55.0</td>\n",
       "      <td>23.0</td>\n",
       "      <td>78.0</td>\n",
       "      <td>01:57:44</td>\n",
       "      <td>00:01:30</td>\n",
       "      <td>00:10:18</td>\n",
       "    </tr>\n",
       "    <tr>\n",
       "      <th>23</th>\n",
       "      <td>27738.0</td>\n",
       "      <td>46.0</td>\n",
       "      <td>28.0</td>\n",
       "      <td>74.0</td>\n",
       "      <td>01:40:06</td>\n",
       "      <td>00:01:21</td>\n",
       "      <td>00:16:20</td>\n",
       "    </tr>\n",
       "    <tr>\n",
       "      <th>24</th>\n",
       "      <td>27739.0</td>\n",
       "      <td>75.0</td>\n",
       "      <td>36.0</td>\n",
       "      <td>111.0</td>\n",
       "      <td>06:38:00</td>\n",
       "      <td>00:03:35</td>\n",
       "      <td>01:04:58</td>\n",
       "    </tr>\n",
       "    <tr>\n",
       "      <th>25</th>\n",
       "      <td>27740.0</td>\n",
       "      <td>3.0</td>\n",
       "      <td>0.0</td>\n",
       "      <td>3.0</td>\n",
       "      <td>00:01:50</td>\n",
       "      <td>00:00:36</td>\n",
       "      <td>00:01:02</td>\n",
       "    </tr>\n",
       "    <tr>\n",
       "      <th>26</th>\n",
       "      <td>27741.0</td>\n",
       "      <td>0.0</td>\n",
       "      <td>2.0</td>\n",
       "      <td>2.0</td>\n",
       "      <td>00:01:24</td>\n",
       "      <td>00:00:42</td>\n",
       "      <td>00:01:18</td>\n",
       "    </tr>\n",
       "    <tr>\n",
       "      <th>27</th>\n",
       "      <td>27742.0</td>\n",
       "      <td>8.0</td>\n",
       "      <td>7.0</td>\n",
       "      <td>15.0</td>\n",
       "      <td>04:02:26</td>\n",
       "      <td>00:16:09</td>\n",
       "      <td>00:45:06</td>\n",
       "    </tr>\n",
       "    <tr>\n",
       "      <th>28</th>\n",
       "      <td>27744.0</td>\n",
       "      <td>11.0</td>\n",
       "      <td>0.0</td>\n",
       "      <td>11.0</td>\n",
       "      <td>00:05:18</td>\n",
       "      <td>00:00:28</td>\n",
       "      <td>00:01:02</td>\n",
       "    </tr>\n",
       "    <tr>\n",
       "      <th>29</th>\n",
       "      <td>27745.0</td>\n",
       "      <td>1.0</td>\n",
       "      <td>0.0</td>\n",
       "      <td>1.0</td>\n",
       "      <td>00:00:06</td>\n",
       "      <td>00:00:06</td>\n",
       "      <td>00:00:06</td>\n",
       "    </tr>\n",
       "    <tr>\n",
       "      <th>30</th>\n",
       "      <td>27747.0</td>\n",
       "      <td>5.0</td>\n",
       "      <td>0.0</td>\n",
       "      <td>5.0</td>\n",
       "      <td>01:50:40</td>\n",
       "      <td>00:22:08</td>\n",
       "      <td>01:00:30</td>\n",
       "    </tr>\n",
       "    <tr>\n",
       "      <th>...</th>\n",
       "      <td>...</td>\n",
       "      <td>...</td>\n",
       "      <td>...</td>\n",
       "      <td>...</td>\n",
       "      <td>...</td>\n",
       "      <td>...</td>\n",
       "      <td>...</td>\n",
       "    </tr>\n",
       "    <tr>\n",
       "      <th>4505</th>\n",
       "      <td>3124350.0</td>\n",
       "      <td>507.0</td>\n",
       "      <td>166.0</td>\n",
       "      <td>673.0</td>\n",
       "      <td>14:02:32</td>\n",
       "      <td>00:01:15</td>\n",
       "      <td>00:22:00</td>\n",
       "    </tr>\n",
       "    <tr>\n",
       "      <th>4506</th>\n",
       "      <td>3124351.0</td>\n",
       "      <td>499.0</td>\n",
       "      <td>164.0</td>\n",
       "      <td>663.0</td>\n",
       "      <td>14:35:46</td>\n",
       "      <td>00:01:19</td>\n",
       "      <td>00:20:20</td>\n",
       "    </tr>\n",
       "    <tr>\n",
       "      <th>4507</th>\n",
       "      <td>3124352.0</td>\n",
       "      <td>28.0</td>\n",
       "      <td>0.0</td>\n",
       "      <td>28.0</td>\n",
       "      <td>00:05:20</td>\n",
       "      <td>00:00:11</td>\n",
       "      <td>00:00:26</td>\n",
       "    </tr>\n",
       "    <tr>\n",
       "      <th>4508</th>\n",
       "      <td>3124353.0</td>\n",
       "      <td>28.0</td>\n",
       "      <td>0.0</td>\n",
       "      <td>28.0</td>\n",
       "      <td>00:04:42</td>\n",
       "      <td>00:00:10</td>\n",
       "      <td>00:00:30</td>\n",
       "    </tr>\n",
       "    <tr>\n",
       "      <th>4509</th>\n",
       "      <td>3124354.0</td>\n",
       "      <td>33.0</td>\n",
       "      <td>0.0</td>\n",
       "      <td>33.0</td>\n",
       "      <td>00:03:48</td>\n",
       "      <td>00:00:06</td>\n",
       "      <td>00:00:20</td>\n",
       "    </tr>\n",
       "    <tr>\n",
       "      <th>4510</th>\n",
       "      <td>3124355.0</td>\n",
       "      <td>25.0</td>\n",
       "      <td>0.0</td>\n",
       "      <td>25.0</td>\n",
       "      <td>00:02:38</td>\n",
       "      <td>00:00:06</td>\n",
       "      <td>00:00:22</td>\n",
       "    </tr>\n",
       "    <tr>\n",
       "      <th>4511</th>\n",
       "      <td>3124356.0</td>\n",
       "      <td>27.0</td>\n",
       "      <td>0.0</td>\n",
       "      <td>27.0</td>\n",
       "      <td>00:03:14</td>\n",
       "      <td>00:00:07</td>\n",
       "      <td>00:00:16</td>\n",
       "    </tr>\n",
       "    <tr>\n",
       "      <th>4512</th>\n",
       "      <td>3124357.0</td>\n",
       "      <td>16.0</td>\n",
       "      <td>0.0</td>\n",
       "      <td>16.0</td>\n",
       "      <td>00:01:18</td>\n",
       "      <td>00:00:04</td>\n",
       "      <td>00:00:12</td>\n",
       "    </tr>\n",
       "    <tr>\n",
       "      <th>4513</th>\n",
       "      <td>3124358.0</td>\n",
       "      <td>24.0</td>\n",
       "      <td>0.0</td>\n",
       "      <td>24.0</td>\n",
       "      <td>00:03:06</td>\n",
       "      <td>00:00:07</td>\n",
       "      <td>00:00:18</td>\n",
       "    </tr>\n",
       "    <tr>\n",
       "      <th>4514</th>\n",
       "      <td>3124359.0</td>\n",
       "      <td>23.0</td>\n",
       "      <td>0.0</td>\n",
       "      <td>23.0</td>\n",
       "      <td>00:02:22</td>\n",
       "      <td>00:00:06</td>\n",
       "      <td>00:00:14</td>\n",
       "    </tr>\n",
       "    <tr>\n",
       "      <th>4515</th>\n",
       "      <td>3124370.0</td>\n",
       "      <td>21.0</td>\n",
       "      <td>0.0</td>\n",
       "      <td>21.0</td>\n",
       "      <td>00:02:20</td>\n",
       "      <td>00:00:06</td>\n",
       "      <td>00:00:20</td>\n",
       "    </tr>\n",
       "    <tr>\n",
       "      <th>4516</th>\n",
       "      <td>3124371.0</td>\n",
       "      <td>20.0</td>\n",
       "      <td>0.0</td>\n",
       "      <td>20.0</td>\n",
       "      <td>00:02:36</td>\n",
       "      <td>00:00:07</td>\n",
       "      <td>00:00:20</td>\n",
       "    </tr>\n",
       "    <tr>\n",
       "      <th>4517</th>\n",
       "      <td>3124372.0</td>\n",
       "      <td>27.0</td>\n",
       "      <td>0.0</td>\n",
       "      <td>27.0</td>\n",
       "      <td>00:03:36</td>\n",
       "      <td>00:00:08</td>\n",
       "      <td>00:00:26</td>\n",
       "    </tr>\n",
       "    <tr>\n",
       "      <th>4518</th>\n",
       "      <td>3124373.0</td>\n",
       "      <td>22.0</td>\n",
       "      <td>0.0</td>\n",
       "      <td>22.0</td>\n",
       "      <td>00:02:30</td>\n",
       "      <td>00:00:06</td>\n",
       "      <td>00:00:20</td>\n",
       "    </tr>\n",
       "    <tr>\n",
       "      <th>4519</th>\n",
       "      <td>3124374.0</td>\n",
       "      <td>29.0</td>\n",
       "      <td>0.0</td>\n",
       "      <td>29.0</td>\n",
       "      <td>00:03:38</td>\n",
       "      <td>00:00:07</td>\n",
       "      <td>00:00:20</td>\n",
       "    </tr>\n",
       "    <tr>\n",
       "      <th>4520</th>\n",
       "      <td>3124375.0</td>\n",
       "      <td>20.0</td>\n",
       "      <td>0.0</td>\n",
       "      <td>20.0</td>\n",
       "      <td>00:02:16</td>\n",
       "      <td>00:00:06</td>\n",
       "      <td>00:00:26</td>\n",
       "    </tr>\n",
       "    <tr>\n",
       "      <th>4521</th>\n",
       "      <td>3166532.0</td>\n",
       "      <td>1.0</td>\n",
       "      <td>0.0</td>\n",
       "      <td>1.0</td>\n",
       "      <td>00:56:20</td>\n",
       "      <td>00:56:20</td>\n",
       "      <td>00:56:20</td>\n",
       "    </tr>\n",
       "    <tr>\n",
       "      <th>4522</th>\n",
       "      <td>3166534.0</td>\n",
       "      <td>1.0</td>\n",
       "      <td>0.0</td>\n",
       "      <td>1.0</td>\n",
       "      <td>00:37:42</td>\n",
       "      <td>00:37:42</td>\n",
       "      <td>00:37:42</td>\n",
       "    </tr>\n",
       "    <tr>\n",
       "      <th>4523</th>\n",
       "      <td>3166535.0</td>\n",
       "      <td>1.0</td>\n",
       "      <td>0.0</td>\n",
       "      <td>1.0</td>\n",
       "      <td>00:39:12</td>\n",
       "      <td>00:39:12</td>\n",
       "      <td>00:39:12</td>\n",
       "    </tr>\n",
       "    <tr>\n",
       "      <th>4524</th>\n",
       "      <td>3166543.0</td>\n",
       "      <td>1.0</td>\n",
       "      <td>0.0</td>\n",
       "      <td>1.0</td>\n",
       "      <td>00:00:02</td>\n",
       "      <td>00:00:02</td>\n",
       "      <td>00:00:02</td>\n",
       "    </tr>\n",
       "    <tr>\n",
       "      <th>4525</th>\n",
       "      <td>3166544.0</td>\n",
       "      <td>3.0</td>\n",
       "      <td>0.0</td>\n",
       "      <td>3.0</td>\n",
       "      <td>00:03:24</td>\n",
       "      <td>00:01:08</td>\n",
       "      <td>00:03:16</td>\n",
       "    </tr>\n",
       "    <tr>\n",
       "      <th>4526</th>\n",
       "      <td>3166546.0</td>\n",
       "      <td>1.0</td>\n",
       "      <td>0.0</td>\n",
       "      <td>1.0</td>\n",
       "      <td>00:36:32</td>\n",
       "      <td>00:36:32</td>\n",
       "      <td>00:36:32</td>\n",
       "    </tr>\n",
       "    <tr>\n",
       "      <th>4527</th>\n",
       "      <td>3166548.0</td>\n",
       "      <td>2.0</td>\n",
       "      <td>0.0</td>\n",
       "      <td>2.0</td>\n",
       "      <td>00:39:46</td>\n",
       "      <td>00:19:53</td>\n",
       "      <td>00:39:44</td>\n",
       "    </tr>\n",
       "    <tr>\n",
       "      <th>4528</th>\n",
       "      <td>3166552.0</td>\n",
       "      <td>2.0</td>\n",
       "      <td>0.0</td>\n",
       "      <td>2.0</td>\n",
       "      <td>00:42:50</td>\n",
       "      <td>00:21:25</td>\n",
       "      <td>00:42:48</td>\n",
       "    </tr>\n",
       "    <tr>\n",
       "      <th>4529</th>\n",
       "      <td>3166554.0</td>\n",
       "      <td>1.0</td>\n",
       "      <td>0.0</td>\n",
       "      <td>1.0</td>\n",
       "      <td>00:39:32</td>\n",
       "      <td>00:39:32</td>\n",
       "      <td>00:39:32</td>\n",
       "    </tr>\n",
       "    <tr>\n",
       "      <th>4530</th>\n",
       "      <td>3166556.0</td>\n",
       "      <td>1.0</td>\n",
       "      <td>0.0</td>\n",
       "      <td>1.0</td>\n",
       "      <td>00:00:08</td>\n",
       "      <td>00:00:08</td>\n",
       "      <td>00:00:08</td>\n",
       "    </tr>\n",
       "    <tr>\n",
       "      <th>4531</th>\n",
       "      <td>3166598.0</td>\n",
       "      <td>1.0</td>\n",
       "      <td>0.0</td>\n",
       "      <td>1.0</td>\n",
       "      <td>00:54:22</td>\n",
       "      <td>00:54:22</td>\n",
       "      <td>00:54:22</td>\n",
       "    </tr>\n",
       "    <tr>\n",
       "      <th>4532</th>\n",
       "      <td>3167802.0</td>\n",
       "      <td>0.0</td>\n",
       "      <td>2.0</td>\n",
       "      <td>2.0</td>\n",
       "      <td>00:00:12</td>\n",
       "      <td>00:00:06</td>\n",
       "      <td>00:00:06</td>\n",
       "    </tr>\n",
       "    <tr>\n",
       "      <th>4533</th>\n",
       "      <td>3167878.0</td>\n",
       "      <td>1.0</td>\n",
       "      <td>0.0</td>\n",
       "      <td>1.0</td>\n",
       "      <td>00:02:08</td>\n",
       "      <td>00:02:08</td>\n",
       "      <td>00:02:08</td>\n",
       "    </tr>\n",
       "    <tr>\n",
       "      <th>4534</th>\n",
       "      <td>3168654.0</td>\n",
       "      <td>0.0</td>\n",
       "      <td>1.0</td>\n",
       "      <td>1.0</td>\n",
       "      <td>00:00:02</td>\n",
       "      <td>00:00:02</td>\n",
       "      <td>00:00:02</td>\n",
       "    </tr>\n",
       "  </tbody>\n",
       "</table>\n",
       "<p>4534 rows × 7 columns</p>\n",
       "</div>"
      ],
      "text/plain": [
       "         Number     In    Out  Total   Duration    Avg. Dur.  Long. Dur.\n",
       "1       20100.0    1.0    2.0    3.0    00:01:52    00:00:37    00:00:56\n",
       "2       27701.0    4.0    3.0    7.0    00:04:20    00:00:37    00:01:04\n",
       "3       27702.0   75.0   38.0  113.0    05:25:50    00:02:53    00:30:16\n",
       "4       27703.0    9.0   19.0   28.0    00:45:00    00:01:36    00:10:08\n",
       "5       27704.0   12.0    4.0   16.0    01:20:14    00:05:00    00:21:32\n",
       "6       27705.0   16.0    2.0   18.0    00:19:48    00:01:06    00:04:38\n",
       "7       27706.0   30.0    6.0   36.0    01:54:20    00:03:10    00:19:10\n",
       "8       27708.0   11.0    3.0   14.0    00:20:58    00:01:29    00:04:22\n",
       "9       27709.0   20.0   10.0   30.0    00:29:12    00:00:58    00:11:28\n",
       "10      27712.0    0.0   18.0   18.0    00:49:22    00:02:44    00:09:34\n",
       "11      27713.0    0.0    6.0    6.0    01:20:02    00:13:20    00:27:28\n",
       "12      27714.0   54.0   34.0   88.0    02:58:46    00:02:01    00:35:48\n",
       "13      27717.0    1.0    2.0    3.0    00:03:48    00:01:16    00:02:10\n",
       "14      27720.0   23.0   11.0   34.0    02:23:06    00:04:12    00:37:22\n",
       "15      27725.0   21.0    8.0   29.0    02:23:16    00:04:56    00:31:28\n",
       "16      27728.0   10.0   17.0   27.0    03:59:14    00:08:51    00:47:30\n",
       "17      27731.0    1.0    0.0    1.0    00:00:04    00:00:04    00:00:04\n",
       "18      27732.0    5.0   18.0   23.0    04:55:54    00:12:51    00:56:36\n",
       "19      27733.0    1.0    0.0    1.0    00:00:06    00:00:06    00:00:06\n",
       "20      27734.0    8.0    8.0   16.0    00:16:28    00:01:01    00:08:56\n",
       "21      27735.0   17.0    9.0   26.0    02:06:58    00:04:53    00:59:44\n",
       "22      27737.0   55.0   23.0   78.0    01:57:44    00:01:30    00:10:18\n",
       "23      27738.0   46.0   28.0   74.0    01:40:06    00:01:21    00:16:20\n",
       "24      27739.0   75.0   36.0  111.0    06:38:00    00:03:35    01:04:58\n",
       "25      27740.0    3.0    0.0    3.0    00:01:50    00:00:36    00:01:02\n",
       "26      27741.0    0.0    2.0    2.0    00:01:24    00:00:42    00:01:18\n",
       "27      27742.0    8.0    7.0   15.0    04:02:26    00:16:09    00:45:06\n",
       "28      27744.0   11.0    0.0   11.0    00:05:18    00:00:28    00:01:02\n",
       "29      27745.0    1.0    0.0    1.0    00:00:06    00:00:06    00:00:06\n",
       "30      27747.0    5.0    0.0    5.0    01:50:40    00:22:08    01:00:30\n",
       "...         ...    ...    ...    ...         ...         ...         ...\n",
       "4505  3124350.0  507.0  166.0  673.0    14:02:32    00:01:15    00:22:00\n",
       "4506  3124351.0  499.0  164.0  663.0    14:35:46    00:01:19    00:20:20\n",
       "4507  3124352.0   28.0    0.0   28.0    00:05:20    00:00:11    00:00:26\n",
       "4508  3124353.0   28.0    0.0   28.0    00:04:42    00:00:10    00:00:30\n",
       "4509  3124354.0   33.0    0.0   33.0    00:03:48    00:00:06    00:00:20\n",
       "4510  3124355.0   25.0    0.0   25.0    00:02:38    00:00:06    00:00:22\n",
       "4511  3124356.0   27.0    0.0   27.0    00:03:14    00:00:07    00:00:16\n",
       "4512  3124357.0   16.0    0.0   16.0    00:01:18    00:00:04    00:00:12\n",
       "4513  3124358.0   24.0    0.0   24.0    00:03:06    00:00:07    00:00:18\n",
       "4514  3124359.0   23.0    0.0   23.0    00:02:22    00:00:06    00:00:14\n",
       "4515  3124370.0   21.0    0.0   21.0    00:02:20    00:00:06    00:00:20\n",
       "4516  3124371.0   20.0    0.0   20.0    00:02:36    00:00:07    00:00:20\n",
       "4517  3124372.0   27.0    0.0   27.0    00:03:36    00:00:08    00:00:26\n",
       "4518  3124373.0   22.0    0.0   22.0    00:02:30    00:00:06    00:00:20\n",
       "4519  3124374.0   29.0    0.0   29.0    00:03:38    00:00:07    00:00:20\n",
       "4520  3124375.0   20.0    0.0   20.0    00:02:16    00:00:06    00:00:26\n",
       "4521  3166532.0    1.0    0.0    1.0    00:56:20    00:56:20    00:56:20\n",
       "4522  3166534.0    1.0    0.0    1.0    00:37:42    00:37:42    00:37:42\n",
       "4523  3166535.0    1.0    0.0    1.0    00:39:12    00:39:12    00:39:12\n",
       "4524  3166543.0    1.0    0.0    1.0    00:00:02    00:00:02    00:00:02\n",
       "4525  3166544.0    3.0    0.0    3.0    00:03:24    00:01:08    00:03:16\n",
       "4526  3166546.0    1.0    0.0    1.0    00:36:32    00:36:32    00:36:32\n",
       "4527  3166548.0    2.0    0.0    2.0    00:39:46    00:19:53    00:39:44\n",
       "4528  3166552.0    2.0    0.0    2.0    00:42:50    00:21:25    00:42:48\n",
       "4529  3166554.0    1.0    0.0    1.0    00:39:32    00:39:32    00:39:32\n",
       "4530  3166556.0    1.0    0.0    1.0    00:00:08    00:00:08    00:00:08\n",
       "4531  3166598.0    1.0    0.0    1.0    00:54:22    00:54:22    00:54:22\n",
       "4532  3167802.0    0.0    2.0    2.0    00:00:12    00:00:06    00:00:06\n",
       "4533  3167878.0    1.0    0.0    1.0    00:02:08    00:02:08    00:02:08\n",
       "4534  3168654.0    0.0    1.0    1.0    00:00:02    00:00:02    00:00:02\n",
       "\n",
       "[4534 rows x 7 columns]"
      ]
     },
     "execution_count": 81,
     "metadata": {},
     "output_type": "execute_result"
    }
   ],
   "source": [
    "df"
   ]
  },
  {
   "cell_type": "code",
   "execution_count": 82,
   "metadata": {
    "collapsed": false
   },
   "outputs": [],
   "source": [
    "p = Histogram(df[df['Total'] < 500]['Total'], title='Histogram of number of total calls')"
   ]
  },
  {
   "cell_type": "code",
   "execution_count": 83,
   "metadata": {
    "collapsed": false
   },
   "outputs": [
    {
     "data": {
      "text/html": [
       "\n",
       "\n",
       "    <div class=\"bk-root\">\n",
       "        <div class=\"plotdiv\" id=\"be3c712a-1489-4cbb-a518-353703884f12\"></div>\n",
       "    </div>\n",
       "<script type=\"text/javascript\">\n",
       "  \n",
       "  (function(global) {\n",
       "    function now() {\n",
       "      return new Date();\n",
       "    }\n",
       "  \n",
       "    var force = \"\";\n",
       "  \n",
       "    if (typeof (window._bokeh_onload_callbacks) === \"undefined\" || force !== \"\") {\n",
       "      window._bokeh_onload_callbacks = [];\n",
       "      window._bokeh_is_loading = undefined;\n",
       "    }\n",
       "  \n",
       "  \n",
       "    \n",
       "    if (typeof (window._bokeh_timeout) === \"undefined\" || force !== \"\") {\n",
       "      window._bokeh_timeout = Date.now() + 0;\n",
       "      window._bokeh_failed_load = false;\n",
       "    }\n",
       "  \n",
       "    var NB_LOAD_WARNING = {'data': {'text/html':\n",
       "       \"<div style='background-color: #fdd'>\\n\"+\n",
       "       \"<p>\\n\"+\n",
       "       \"BokehJS does not appear to have successfully loaded. If loading BokehJS from CDN, this \\n\"+\n",
       "       \"may be due to a slow or bad network connection. Possible fixes:\\n\"+\n",
       "       \"</p>\\n\"+\n",
       "       \"<ul>\\n\"+\n",
       "       \"<li>re-rerun `output_notebook()` to attempt to load from CDN again, or</li>\\n\"+\n",
       "       \"<li>use INLINE resources instead, as so:</li>\\n\"+\n",
       "       \"</ul>\\n\"+\n",
       "       \"<code>\\n\"+\n",
       "       \"from bokeh.resources import INLINE\\n\"+\n",
       "       \"output_notebook(resources=INLINE)\\n\"+\n",
       "       \"</code>\\n\"+\n",
       "       \"</div>\"}};\n",
       "  \n",
       "    function display_loaded() {\n",
       "      if (window.Bokeh !== undefined) {\n",
       "        Bokeh.$(\"#be3c712a-1489-4cbb-a518-353703884f12\").text(\"BokehJS successfully loaded.\");\n",
       "      } else if (Date.now() < window._bokeh_timeout) {\n",
       "        setTimeout(display_loaded, 100)\n",
       "      }\n",
       "    }\n",
       "  \n",
       "    function run_callbacks() {\n",
       "      window._bokeh_onload_callbacks.forEach(function(callback) { callback() });\n",
       "      delete window._bokeh_onload_callbacks\n",
       "      console.info(\"Bokeh: all callbacks have finished\");\n",
       "    }\n",
       "  \n",
       "    function load_libs(js_urls, callback) {\n",
       "      window._bokeh_onload_callbacks.push(callback);\n",
       "      if (window._bokeh_is_loading > 0) {\n",
       "        console.log(\"Bokeh: BokehJS is being loaded, scheduling callback at\", now());\n",
       "        return null;\n",
       "      }\n",
       "      if (js_urls == null || js_urls.length === 0) {\n",
       "        run_callbacks();\n",
       "        return null;\n",
       "      }\n",
       "      console.log(\"Bokeh: BokehJS not loaded, scheduling load and callback at\", now());\n",
       "      window._bokeh_is_loading = js_urls.length;\n",
       "      for (var i = 0; i < js_urls.length; i++) {\n",
       "        var url = js_urls[i];\n",
       "        var s = document.createElement('script');\n",
       "        s.src = url;\n",
       "        s.async = false;\n",
       "        s.onreadystatechange = s.onload = function() {\n",
       "          window._bokeh_is_loading--;\n",
       "          if (window._bokeh_is_loading === 0) {\n",
       "            console.log(\"Bokeh: all BokehJS libraries loaded\");\n",
       "            run_callbacks()\n",
       "          }\n",
       "        };\n",
       "        s.onerror = function() {\n",
       "          console.warn(\"failed to load library \" + url);\n",
       "        };\n",
       "        console.log(\"Bokeh: injecting script tag for BokehJS library: \", url);\n",
       "        document.getElementsByTagName(\"head\")[0].appendChild(s);\n",
       "      }\n",
       "    };var element = document.getElementById(\"be3c712a-1489-4cbb-a518-353703884f12\");\n",
       "    if (element == null) {\n",
       "      console.log(\"Bokeh: ERROR: autoload.js configured with elementid 'be3c712a-1489-4cbb-a518-353703884f12' but no matching script tag was found. \")\n",
       "      return false;\n",
       "    }\n",
       "  \n",
       "    var js_urls = [];\n",
       "  \n",
       "    var inline_js = [\n",
       "      function(Bokeh) {\n",
       "        Bokeh.$(function() {\n",
       "            var docs_json = {\"700e4eca-0b70-4e74-9da8-88be832455b2\":{\"roots\":{\"references\":[{\"attributes\":{\"data_source\":{\"id\":\"63d1df41-ec74-4c16-a5f2-95d58f2dd878\",\"type\":\"ColumnDataSource\"},\"glyph\":{\"id\":\"de0e3232-9035-4478-a84d-a07657b06d76\",\"type\":\"Rect\"},\"hover_glyph\":null,\"nonselection_glyph\":null,\"selection_glyph\":null},\"id\":\"39106da4-fea1-4b6c-b9fb-bdff18527679\",\"type\":\"GlyphRenderer\"},{\"attributes\":{\"location\":\"top_left\",\"plot\":{\"id\":\"6883eb95-246a-402a-a0d7-dd0024089a19\",\"subtype\":\"Chart\",\"type\":\"Plot\"}},\"id\":\"b0080e3e-9539-48aa-8658-1abd95c7133b\",\"type\":\"Legend\"},{\"attributes\":{\"plot\":{\"id\":\"6883eb95-246a-402a-a0d7-dd0024089a19\",\"subtype\":\"Chart\",\"type\":\"Plot\"}},\"id\":\"ab56363b-55f7-443d-8079-39aea0f2ba84\",\"type\":\"PanTool\"},{\"attributes\":{\"callback\":null,\"column_names\":[\"label\",\"color\",\"fill_alpha\",\"line_alpha\",\"x\",\"width\",\"height\",\"y\",\"line_color\"],\"data\":{\"chart_index\":[\"(60.6, 69.1]\"],\"color\":[\"#f22c40\"],\"fill_alpha\":[0.8],\"height\":[175.0],\"label\":[\"(60.6, 69.1]\"],\"line_alpha\":[1.0],\"line_color\":[\"black\"],\"width\":[8.517857142857139],\"x\":[\"64.85\"],\"y\":[87.5]}},\"id\":\"6ad1f52e-7a66-4ddc-9c5d-fa29da8801ca\",\"type\":\"ColumnDataSource\"},{\"attributes\":{\"data_source\":{\"id\":\"001d9cc3-3934-4b61-9a61-0166de561245\",\"type\":\"ColumnDataSource\"},\"glyph\":{\"id\":\"3afab1c8-a9a4-4dd6-bce8-29b6aecc7574\",\"type\":\"Rect\"},\"hover_glyph\":null,\"nonselection_glyph\":null,\"selection_glyph\":null},\"id\":\"64fdcdb2-d391-4216-baf7-a543b9d55d09\",\"type\":\"GlyphRenderer\"},{\"attributes\":{\"data_source\":{\"id\":\"3a40bd19-ebfb-499f-b041-3b317c4971b8\",\"type\":\"ColumnDataSource\"},\"glyph\":{\"id\":\"05466ec8-0820-4de8-bc36-b5506b153e58\",\"type\":\"Rect\"},\"hover_glyph\":null,\"nonselection_glyph\":null,\"selection_glyph\":null},\"id\":\"5f61da44-09dd-4e97-893c-e0368ea1ef69\",\"type\":\"GlyphRenderer\"},{\"attributes\":{\"callback\":null,\"column_names\":[\"label\",\"color\",\"fill_alpha\",\"line_alpha\",\"x\",\"width\",\"height\",\"y\",\"line_color\"],\"data\":{\"chart_index\":[\"(188.4, 196.9]\"],\"color\":[\"#f22c40\"],\"fill_alpha\":[0.8],\"height\":[23.0],\"label\":[\"(188.4, 196.9]\"],\"line_alpha\":[1.0],\"line_color\":[\"black\"],\"width\":[8.517857142857139],\"x\":[\"192.65\"],\"y\":[11.5]}},\"id\":\"d928b6c3-954b-40f7-bb9c-0756973bc8c1\",\"type\":\"ColumnDataSource\"},{\"attributes\":{\"data_source\":{\"id\":\"c2497431-0a11-44d9-8870-17a74a617f35\",\"type\":\"ColumnDataSource\"},\"glyph\":{\"id\":\"5125aad8-ac64-4b41-9d9a-a331931a16b6\",\"type\":\"Rect\"},\"hover_glyph\":null,\"nonselection_glyph\":null,\"selection_glyph\":null},\"id\":\"b0f5f51b-4414-4882-9d86-b94788bdda9e\",\"type\":\"GlyphRenderer\"},{\"attributes\":{\"data_source\":{\"id\":\"21bb695e-50fe-420b-a8ef-2460e1979e52\",\"type\":\"ColumnDataSource\"},\"glyph\":{\"id\":\"c5729594-dae5-423b-a316-c9eeee3c2204\",\"type\":\"Rect\"},\"hover_glyph\":null,\"nonselection_glyph\":null,\"selection_glyph\":null},\"id\":\"38569dfa-d771-48b2-ad8f-5454775b91b4\",\"type\":\"GlyphRenderer\"},{\"attributes\":{\"fill_alpha\":{\"field\":\"fill_alpha\"},\"fill_color\":{\"field\":\"color\"},\"height\":{\"field\":\"height\",\"units\":\"data\"},\"line_color\":{\"field\":\"line_color\"},\"width\":{\"field\":\"width\",\"units\":\"data\"},\"x\":{\"field\":\"x\"},\"y\":{\"field\":\"y\"}},\"id\":\"1c92e732-9e4a-4487-b7fb-4339e8f64014\",\"type\":\"Rect\"},{\"attributes\":{\"callback\":null,\"column_names\":[\"label\",\"color\",\"fill_alpha\",\"line_alpha\",\"x\",\"width\",\"height\",\"y\",\"line_color\"],\"data\":{\"chart_index\":[\"(52.1, 60.6]\"],\"color\":[\"#f22c40\"],\"fill_alpha\":[0.8],\"height\":[202.0],\"label\":[\"(52.1, 60.6]\"],\"line_alpha\":[1.0],\"line_color\":[\"black\"],\"width\":[8.517857142857146],\"x\":[\"56.35\"],\"y\":[101.0]}},\"id\":\"579f44ee-0163-4b81-86d9-accbbc09c9d0\",\"type\":\"ColumnDataSource\"},{\"attributes\":{\"callback\":null,\"column_names\":[\"label\",\"color\",\"fill_alpha\",\"line_alpha\",\"x\",\"width\",\"height\",\"y\",\"line_color\"],\"data\":{\"chart_index\":[\"(290.6, 299.1]\"],\"color\":[\"#f22c40\"],\"fill_alpha\":[0.8],\"height\":[6.0],\"label\":[\"(290.6, 299.1]\"],\"line_alpha\":[1.0],\"line_color\":[\"black\"],\"width\":[8.517857142857167],\"x\":[\"294.85\"],\"y\":[3.0]}},\"id\":\"41a6ef7f-803a-487a-abff-d274e8865486\",\"type\":\"ColumnDataSource\"},{\"attributes\":{\"fill_alpha\":{\"field\":\"fill_alpha\"},\"fill_color\":{\"field\":\"color\"},\"height\":{\"field\":\"height\",\"units\":\"data\"},\"line_color\":{\"field\":\"line_color\"},\"width\":{\"field\":\"width\",\"units\":\"data\"},\"x\":{\"field\":\"x\"},\"y\":{\"field\":\"y\"}},\"id\":\"c5729594-dae5-423b-a316-c9eeee3c2204\",\"type\":\"Rect\"},{\"attributes\":{\"data_source\":{\"id\":\"cd1c93f3-2244-4789-9441-1f301bc3987f\",\"type\":\"ColumnDataSource\"},\"glyph\":{\"id\":\"25ba6f49-432c-45df-a685-6013fcb600fa\",\"type\":\"Rect\"},\"hover_glyph\":null,\"nonselection_glyph\":null,\"selection_glyph\":null},\"id\":\"72b22afb-08f9-415f-bd27-88938b0c7c68\",\"type\":\"GlyphRenderer\"},{\"attributes\":{\"data_source\":{\"id\":\"b6472892-f516-4f42-b502-afbfbf622d3c\",\"type\":\"ColumnDataSource\"},\"glyph\":{\"id\":\"74bcf2f0-20e5-4688-a11c-28bff5a61d22\",\"type\":\"Rect\"},\"hover_glyph\":null,\"nonselection_glyph\":null,\"selection_glyph\":null},\"id\":\"b9f6a2fe-e9da-4a08-bd0d-5a7d842902f5\",\"type\":\"GlyphRenderer\"},{\"attributes\":{\"bottom_units\":\"screen\",\"fill_alpha\":{\"value\":0.5},\"fill_color\":{\"value\":\"lightgrey\"},\"left_units\":\"screen\",\"level\":\"overlay\",\"line_alpha\":{\"value\":1.0},\"line_color\":{\"value\":\"black\"},\"line_dash\":[4,4],\"line_width\":{\"value\":2},\"plot\":null,\"render_mode\":\"css\",\"right_units\":\"screen\",\"top_units\":\"screen\"},\"id\":\"5d8970fd-41bf-4208-9aa0-1384dbb20778\",\"type\":\"BoxAnnotation\"},{\"attributes\":{\"callback\":null,\"column_names\":[\"label\",\"color\",\"fill_alpha\",\"line_alpha\",\"x\",\"width\",\"height\",\"y\",\"line_color\"],\"data\":{\"chart_index\":[\"(137.3, 145.8]\"],\"color\":[\"#f22c40\"],\"fill_alpha\":[0.8],\"height\":[42.0],\"label\":[\"(137.3, 145.8]\"],\"line_alpha\":[1.0],\"line_color\":[\"black\"],\"width\":[8.517857142857139],\"x\":[\"141.55\"],\"y\":[21.0]}},\"id\":\"2bf82c72-ac65-488d-927b-d2a4c6da6fa4\",\"type\":\"ColumnDataSource\"},{\"attributes\":{\"callback\":null,\"column_names\":[\"label\",\"color\",\"fill_alpha\",\"line_alpha\",\"x\",\"width\",\"height\",\"y\",\"line_color\"],\"data\":{\"chart_index\":[\"(111.7, 120.2]\"],\"color\":[\"#f22c40\"],\"fill_alpha\":[0.8],\"height\":[77.0],\"label\":[\"(111.7, 120.2]\"],\"line_alpha\":[1.0],\"line_color\":[\"black\"],\"width\":[8.517857142857153],\"x\":[\"115.95\"],\"y\":[38.5]}},\"id\":\"cd1c93f3-2244-4789-9441-1f301bc3987f\",\"type\":\"ColumnDataSource\"},{\"attributes\":{\"data_source\":{\"id\":\"73e79469-3aee-48b7-9c32-02d9477667d4\",\"type\":\"ColumnDataSource\"},\"glyph\":{\"id\":\"ba3520cf-f41f-4739-965f-e7bfbfba7f3f\",\"type\":\"Rect\"},\"hover_glyph\":null,\"nonselection_glyph\":null,\"selection_glyph\":null},\"id\":\"689dc583-1e62-4d35-9201-db378db74bfc\",\"type\":\"GlyphRenderer\"},{\"attributes\":{\"data_source\":{\"id\":\"5b26d91c-0bf8-47f0-8610-34299013cc23\",\"type\":\"ColumnDataSource\"},\"glyph\":{\"id\":\"b4e2b13d-7026-4cb1-864f-efd48b861808\",\"type\":\"Rect\"},\"hover_glyph\":null,\"nonselection_glyph\":null,\"selection_glyph\":null},\"id\":\"cf89180e-80ac-438f-a911-b325c4b06add\",\"type\":\"GlyphRenderer\"},{\"attributes\":{},\"id\":\"df7ffc2b-6a55-44a5-aaa6-b3736ba04797\",\"type\":\"BasicTicker\"},{\"attributes\":{\"callback\":null,\"column_names\":[\"label\",\"color\",\"fill_alpha\",\"line_alpha\",\"x\",\"width\",\"height\",\"y\",\"line_color\"],\"data\":{\"chart_index\":[\"(196.9, 205.4]\"],\"color\":[\"#f22c40\"],\"fill_alpha\":[0.8],\"height\":[32.0],\"label\":[\"(196.9, 205.4]\"],\"line_alpha\":[1.0],\"line_color\":[\"black\"],\"width\":[8.517857142857139],\"x\":[\"201.15\"],\"y\":[16.0]}},\"id\":\"001d9cc3-3934-4b61-9a61-0166de561245\",\"type\":\"ColumnDataSource\"},{\"attributes\":{\"data_source\":{\"id\":\"8876a7f1-e471-4181-954c-d23dd2d387fb\",\"type\":\"ColumnDataSource\"},\"glyph\":{\"id\":\"abb06711-359b-48ab-acdc-2fc15e43d0a3\",\"type\":\"Rect\"},\"hover_glyph\":null,\"nonselection_glyph\":null,\"selection_glyph\":null},\"id\":\"56d32962-5292-4485-aa30-ca35204127b9\",\"type\":\"GlyphRenderer\"},{\"attributes\":{\"fill_alpha\":{\"field\":\"fill_alpha\"},\"fill_color\":{\"field\":\"color\"},\"height\":{\"field\":\"height\",\"units\":\"data\"},\"line_color\":{\"field\":\"line_color\"},\"width\":{\"field\":\"width\",\"units\":\"data\"},\"x\":{\"field\":\"x\"},\"y\":{\"field\":\"y\"}},\"id\":\"3afab1c8-a9a4-4dd6-bce8-29b6aecc7574\",\"type\":\"Rect\"},{\"attributes\":{\"fill_alpha\":{\"field\":\"fill_alpha\"},\"fill_color\":{\"field\":\"color\"},\"height\":{\"field\":\"height\",\"units\":\"data\"},\"line_color\":{\"field\":\"line_color\"},\"width\":{\"field\":\"width\",\"units\":\"data\"},\"x\":{\"field\":\"x\"},\"y\":{\"field\":\"y\"}},\"id\":\"81a1e2cc-8eb5-48bc-af34-2e3393f966a0\",\"type\":\"Rect\"},{\"attributes\":{\"callback\":null,\"column_names\":[\"label\",\"color\",\"fill_alpha\",\"line_alpha\",\"x\",\"width\",\"height\",\"y\",\"line_color\"],\"data\":{\"chart_index\":[\"(367.3, 375.8]\"],\"color\":[\"#f22c40\"],\"fill_alpha\":[0.8],\"height\":[2.0],\"label\":[\"(367.3, 375.8]\"],\"line_alpha\":[1.0],\"line_color\":[\"black\"],\"width\":[8.517857142857167],\"x\":[\"371.55\"],\"y\":[1.0]}},\"id\":\"1eec6347-67da-46fc-84be-dba46d585a2a\",\"type\":\"ColumnDataSource\"},{\"attributes\":{\"callback\":null,\"column_names\":[\"label\",\"color\",\"fill_alpha\",\"line_alpha\",\"x\",\"width\",\"height\",\"y\",\"line_color\"],\"data\":{\"chart_index\":[\"(452.4, 461.0]\"],\"color\":[\"#f22c40\"],\"fill_alpha\":[0.8],\"height\":[2.0],\"label\":[\"(452.4, 461.0]\"],\"line_alpha\":[1.0],\"line_color\":[\"black\"],\"width\":[8.51785714285711],\"x\":[\"456.7\"],\"y\":[1.0]}},\"id\":\"6d01fc4b-7d44-4c95-8cb1-95203ef4edcd\",\"type\":\"ColumnDataSource\"},{\"attributes\":{\"callback\":null,\"column_names\":[\"label\",\"color\",\"fill_alpha\",\"line_alpha\",\"x\",\"width\",\"height\",\"y\",\"line_color\"],\"data\":{\"chart_index\":[\"(43.6, 52.1]\"],\"color\":[\"#f22c40\"],\"fill_alpha\":[0.8],\"height\":[220.0],\"label\":[\"(43.6, 52.1]\"],\"line_alpha\":[1.0],\"line_color\":[\"black\"],\"width\":[8.517857142857146],\"x\":[\"47.85\"],\"y\":[110.0]}},\"id\":\"329c554a-d710-41a1-adf6-13d324a5a3db\",\"type\":\"ColumnDataSource\"},{\"attributes\":{\"callback\":null,\"column_names\":[\"label\",\"color\",\"fill_alpha\",\"line_alpha\",\"x\",\"width\",\"height\",\"y\",\"line_color\"],\"data\":{\"chart_index\":[\"(350.2, 358.8]\"],\"color\":[\"#f22c40\"],\"fill_alpha\":[0.8],\"height\":[1.0],\"label\":[\"(350.2, 358.8]\"],\"line_alpha\":[1.0],\"line_color\":[\"black\"],\"width\":[8.517857142857167],\"x\":[\"354.5\"],\"y\":[0.5]}},\"id\":\"4150ff8d-12b1-4dc1-9f10-0a2ae0dea1dd\",\"type\":\"ColumnDataSource\"},{\"attributes\":{\"data_source\":{\"id\":\"579f44ee-0163-4b81-86d9-accbbc09c9d0\",\"type\":\"ColumnDataSource\"},\"glyph\":{\"id\":\"c3a70b91-9a8c-4f19-b320-0bc10517a020\",\"type\":\"Rect\"},\"hover_glyph\":null,\"nonselection_glyph\":null,\"selection_glyph\":null},\"id\":\"1d5563c0-fe56-4c83-9476-0b2985b5e72d\",\"type\":\"GlyphRenderer\"},{\"attributes\":{\"data_source\":{\"id\":\"d39dbf8d-5443-41a6-ba53-49d6aaaf000c\",\"type\":\"ColumnDataSource\"},\"glyph\":{\"id\":\"bd50d580-bb2d-4a5a-97cc-902f0d922162\",\"type\":\"Rect\"},\"hover_glyph\":null,\"nonselection_glyph\":null,\"selection_glyph\":null},\"id\":\"6ef58242-8c4b-4a3f-ab04-bfb0761ddcb6\",\"type\":\"GlyphRenderer\"},{\"attributes\":{\"data_source\":{\"id\":\"a6357389-e48a-4e4c-b017-cdff566982c5\",\"type\":\"ColumnDataSource\"},\"glyph\":{\"id\":\"81a1e2cc-8eb5-48bc-af34-2e3393f966a0\",\"type\":\"Rect\"},\"hover_glyph\":null,\"nonselection_glyph\":null,\"selection_glyph\":null},\"id\":\"fba92ba8-4358-45ad-b319-eecf08324bb6\",\"type\":\"GlyphRenderer\"},{\"attributes\":{\"callback\":null,\"column_names\":[\"label\",\"color\",\"fill_alpha\",\"line_alpha\",\"x\",\"width\",\"height\",\"y\",\"line_color\"],\"data\":{\"chart_index\":[\"(384.3, 392.8]\"],\"color\":[\"#f22c40\"],\"fill_alpha\":[0.8],\"height\":[3.0],\"label\":[\"(384.3, 392.8]\"],\"line_alpha\":[1.0],\"line_color\":[\"black\"],\"width\":[8.517857142857167],\"x\":[\"388.55\"],\"y\":[1.5]}},\"id\":\"38fba19a-805a-4b45-bda0-bcd9c20e095f\",\"type\":\"ColumnDataSource\"},{\"attributes\":{\"plot\":{\"id\":\"6883eb95-246a-402a-a0d7-dd0024089a19\",\"subtype\":\"Chart\",\"type\":\"Plot\"}},\"id\":\"6d20ff93-24a3-4420-b1e3-f954780077fa\",\"type\":\"ResetTool\"},{\"attributes\":{\"data_source\":{\"id\":\"052478ec-871e-4031-b873-e411cbce4fb0\",\"type\":\"ColumnDataSource\"},\"glyph\":{\"id\":\"568c0013-c60b-47ae-98ad-e9a16e2c6f57\",\"type\":\"Rect\"},\"hover_glyph\":null,\"nonselection_glyph\":null,\"selection_glyph\":null},\"id\":\"eb7c5e81-afea-40c9-9b36-c058ed2ed7bb\",\"type\":\"GlyphRenderer\"},{\"attributes\":{\"data_source\":{\"id\":\"200ac011-433a-4a10-9b39-d54d3629f2cd\",\"type\":\"ColumnDataSource\"},\"glyph\":{\"id\":\"0fd6a579-94cf-476a-9911-3e8321fea1d6\",\"type\":\"Rect\"},\"hover_glyph\":null,\"nonselection_glyph\":null,\"selection_glyph\":null},\"id\":\"1c66f429-866d-4033-a8ff-d632b44fe26c\",\"type\":\"GlyphRenderer\"},{\"attributes\":{\"callback\":null,\"column_names\":[\"label\",\"color\",\"fill_alpha\",\"line_alpha\",\"x\",\"width\",\"height\",\"y\",\"line_color\"],\"data\":{\"chart_index\":[\"(443.9, 452.4]\"],\"color\":[\"#f22c40\"],\"fill_alpha\":[0.8],\"height\":[6.0],\"label\":[\"(443.9, 452.4]\"],\"line_alpha\":[1.0],\"line_color\":[\"black\"],\"width\":[8.517857142857167],\"x\":[\"448.15\"],\"y\":[3.0]}},\"id\":\"8ebac090-21f7-4424-b76d-b23a91b947eb\",\"type\":\"ColumnDataSource\"},{\"attributes\":{\"fill_alpha\":{\"field\":\"fill_alpha\"},\"fill_color\":{\"field\":\"color\"},\"height\":{\"field\":\"height\",\"units\":\"data\"},\"line_color\":{\"field\":\"line_color\"},\"width\":{\"field\":\"width\",\"units\":\"data\"},\"x\":{\"field\":\"x\"},\"y\":{\"field\":\"y\"}},\"id\":\"1c1d9846-9a1a-4cb2-9acf-3d597202005c\",\"type\":\"Rect\"},{\"attributes\":{\"active_drag\":\"auto\",\"active_scroll\":\"auto\",\"active_tap\":\"auto\",\"tools\":[{\"id\":\"ab56363b-55f7-443d-8079-39aea0f2ba84\",\"type\":\"PanTool\"},{\"id\":\"dcef63ad-74d4-4590-9c33-d8d10213e296\",\"type\":\"WheelZoomTool\"},{\"id\":\"8a65a37d-5954-4c19-9f1d-4ce5822bdc29\",\"type\":\"BoxZoomTool\"},{\"id\":\"1d10e332-f400-4cad-a34a-f229c2abe47a\",\"type\":\"SaveTool\"},{\"id\":\"6d20ff93-24a3-4420-b1e3-f954780077fa\",\"type\":\"ResetTool\"},{\"id\":\"d1e48520-231c-4de1-b38f-5b6ad9bac783\",\"type\":\"HelpTool\"}]},\"id\":\"85c9b9bb-85eb-4fe9-8ad3-50e82527c09c\",\"type\":\"Toolbar\"},{\"attributes\":{\"callback\":null,\"column_names\":[\"label\",\"color\",\"fill_alpha\",\"line_alpha\",\"x\",\"width\",\"height\",\"y\",\"line_color\"],\"data\":{\"chart_index\":[\"(86.2, 94.7]\"],\"color\":[\"#f22c40\"],\"fill_alpha\":[0.8],\"height\":[96.0],\"label\":[\"(86.2, 94.7]\"],\"line_alpha\":[1.0],\"line_color\":[\"black\"],\"width\":[8.517857142857153],\"x\":[\"90.45\"],\"y\":[48.0]}},\"id\":\"e889a338-bfd2-4131-b57f-29a4ff1e3ea6\",\"type\":\"ColumnDataSource\"},{\"attributes\":{\"fill_alpha\":{\"field\":\"fill_alpha\"},\"fill_color\":{\"field\":\"color\"},\"height\":{\"field\":\"height\",\"units\":\"data\"},\"line_color\":{\"field\":\"line_color\"},\"width\":{\"field\":\"width\",\"units\":\"data\"},\"x\":{\"field\":\"x\"},\"y\":{\"field\":\"y\"}},\"id\":\"1f2f7803-02b1-44b3-8ec2-ab0a3020c9d0\",\"type\":\"Rect\"},{\"attributes\":{\"fill_alpha\":{\"field\":\"fill_alpha\"},\"fill_color\":{\"field\":\"color\"},\"height\":{\"field\":\"height\",\"units\":\"data\"},\"line_color\":{\"field\":\"line_color\"},\"width\":{\"field\":\"width\",\"units\":\"data\"},\"x\":{\"field\":\"x\"},\"y\":{\"field\":\"y\"}},\"id\":\"9a31f321-7e02-43d1-98d8-85399ff726c3\",\"type\":\"Rect\"},{\"attributes\":{\"callback\":null,\"column_names\":[\"label\",\"color\",\"fill_alpha\",\"line_alpha\",\"x\",\"width\",\"height\",\"y\",\"line_color\"],\"data\":{\"chart_index\":[\"(154.3, 162.8]\"],\"color\":[\"#f22c40\"],\"fill_alpha\":[0.8],\"height\":[38.0],\"label\":[\"(154.3, 162.8]\"],\"line_alpha\":[1.0],\"line_color\":[\"black\"],\"width\":[8.517857142857139],\"x\":[\"158.55\"],\"y\":[19.0]}},\"id\":\"21bb695e-50fe-420b-a8ef-2460e1979e52\",\"type\":\"ColumnDataSource\"},{\"attributes\":{\"fill_alpha\":{\"field\":\"fill_alpha\"},\"fill_color\":{\"field\":\"color\"},\"height\":{\"field\":\"height\",\"units\":\"data\"},\"line_color\":{\"field\":\"line_color\"},\"width\":{\"field\":\"width\",\"units\":\"data\"},\"x\":{\"field\":\"x\"},\"y\":{\"field\":\"y\"}},\"id\":\"9de3cc67-93c9-4da5-8d9d-2c99f245deb2\",\"type\":\"Rect\"},{\"attributes\":{\"data_source\":{\"id\":\"bc878590-8a4e-4857-891a-2ab176597c85\",\"type\":\"ColumnDataSource\"},\"glyph\":{\"id\":\"47d9e8b4-fee1-4548-9071-b216c77f1181\",\"type\":\"Rect\"},\"hover_glyph\":null,\"nonselection_glyph\":null,\"selection_glyph\":null},\"id\":\"e7462110-61c2-4ad3-b585-bcb99e1b4d0b\",\"type\":\"GlyphRenderer\"},{\"attributes\":{\"callback\":null,\"column_names\":[\"label\",\"color\",\"fill_alpha\",\"line_alpha\",\"x\",\"width\",\"height\",\"y\",\"line_color\"],\"data\":{\"chart_index\":[\"(128.8, 137.3]\"],\"color\":[\"#f22c40\"],\"fill_alpha\":[0.8],\"height\":[49.0],\"label\":[\"(128.8, 137.3]\"],\"line_alpha\":[1.0],\"line_color\":[\"black\"],\"width\":[8.517857142857139],\"x\":[\"133.05\"],\"y\":[24.5]}},\"id\":\"0ccb9f43-2be4-4978-9545-4c26470ebc19\",\"type\":\"ColumnDataSource\"},{\"attributes\":{\"data_source\":{\"id\":\"d76613aa-d7e1-4cf4-9284-bda7e6632e2a\",\"type\":\"ColumnDataSource\"},\"glyph\":{\"id\":\"d900665c-c0c9-4281-9bcc-770e657b084a\",\"type\":\"Rect\"},\"hover_glyph\":null,\"nonselection_glyph\":null,\"selection_glyph\":null},\"id\":\"7479e8fd-a554-4794-b5e9-1ee255d314d1\",\"type\":\"GlyphRenderer\"},{\"attributes\":{\"data_source\":{\"id\":\"e252fae5-2213-484f-bd0b-9388ba0376a3\",\"type\":\"ColumnDataSource\"},\"glyph\":{\"id\":\"c75fe6d1-803a-4dde-afa8-f3b2ffa816f6\",\"type\":\"Rect\"},\"hover_glyph\":null,\"nonselection_glyph\":null,\"selection_glyph\":null},\"id\":\"bb57da14-c9b4-4f57-8a06-f817a1cadcdc\",\"type\":\"GlyphRenderer\"},{\"attributes\":{\"data_source\":{\"id\":\"7f5e899a-2347-4d1b-99bc-52785b2c89dc\",\"type\":\"ColumnDataSource\"},\"glyph\":{\"id\":\"88a8a34a-decf-459c-bbef-144841a01812\",\"type\":\"Rect\"},\"hover_glyph\":null,\"nonselection_glyph\":null,\"selection_glyph\":null},\"id\":\"f4043761-da6a-4785-9003-ad0ffcc2e182\",\"type\":\"GlyphRenderer\"},{\"attributes\":{\"data_source\":{\"id\":\"2b95503d-5c93-4fa1-aa70-fedb5f9a7b34\",\"type\":\"ColumnDataSource\"},\"glyph\":{\"id\":\"9a31f321-7e02-43d1-98d8-85399ff726c3\",\"type\":\"Rect\"},\"hover_glyph\":null,\"nonselection_glyph\":null,\"selection_glyph\":null},\"id\":\"dd19bb9d-6f43-410d-9477-5aafafb5fa9c\",\"type\":\"GlyphRenderer\"},{\"attributes\":{\"callback\":null,\"column_names\":[\"label\",\"color\",\"fill_alpha\",\"line_alpha\",\"x\",\"width\",\"height\",\"y\",\"line_color\"],\"data\":{\"chart_index\":[\"(392.8, 401.3]\"],\"color\":[\"#f22c40\"],\"fill_alpha\":[0.8],\"height\":[2.0],\"label\":[\"(392.8, 401.3]\"],\"line_alpha\":[1.0],\"line_color\":[\"black\"],\"width\":[8.51785714285711],\"x\":[\"397.05\"],\"y\":[1.0]}},\"id\":\"8876a7f1-e471-4181-954c-d23dd2d387fb\",\"type\":\"ColumnDataSource\"},{\"attributes\":{\"data_source\":{\"id\":\"7a8ffa63-370b-4300-ab8d-ddbc9fb02284\",\"type\":\"ColumnDataSource\"},\"glyph\":{\"id\":\"fb736da9-c070-48c1-8892-af3c3a9fe8fd\",\"type\":\"Rect\"},\"hover_glyph\":null,\"nonselection_glyph\":null,\"selection_glyph\":null},\"id\":\"ad9ed1b5-64a0-4a42-9bd0-236a4a2262b5\",\"type\":\"GlyphRenderer\"},{\"attributes\":{\"data_source\":{\"id\":\"fe2ec968-6d4e-44ad-b157-70e926b32f5e\",\"type\":\"ColumnDataSource\"},\"glyph\":{\"id\":\"8cc95b7a-c844-46d6-8ced-c399ca2017af\",\"type\":\"Rect\"},\"hover_glyph\":null,\"nonselection_glyph\":null,\"selection_glyph\":null},\"id\":\"75f57180-1cb3-417c-ae24-232ce0021912\",\"type\":\"GlyphRenderer\"},{\"attributes\":{\"fill_alpha\":{\"field\":\"fill_alpha\"},\"fill_color\":{\"field\":\"color\"},\"height\":{\"field\":\"height\",\"units\":\"data\"},\"line_color\":{\"field\":\"line_color\"},\"width\":{\"field\":\"width\",\"units\":\"data\"},\"x\":{\"field\":\"x\"},\"y\":{\"field\":\"y\"}},\"id\":\"8cc95b7a-c844-46d6-8ced-c399ca2017af\",\"type\":\"Rect\"},{\"attributes\":{\"data_source\":{\"id\":\"fbb6ac74-7278-442b-977d-8b963bfc53f5\",\"type\":\"ColumnDataSource\"},\"glyph\":{\"id\":\"0e18d4c4-8fd0-4d86-807b-ee0609d60790\",\"type\":\"Rect\"},\"hover_glyph\":null,\"nonselection_glyph\":null,\"selection_glyph\":null},\"id\":\"d1456fc7-4187-42a9-941c-48ee24b02836\",\"type\":\"GlyphRenderer\"},{\"attributes\":{\"data_source\":{\"id\":\"1c9eb026-d409-4bfa-9549-75a743d44bc8\",\"type\":\"ColumnDataSource\"},\"glyph\":{\"id\":\"00f8ca41-05c0-4a70-9ce1-4198cff8ce04\",\"type\":\"Rect\"},\"hover_glyph\":null,\"nonselection_glyph\":null,\"selection_glyph\":null},\"id\":\"0177ae49-8537-45c0-9216-be315fcb799a\",\"type\":\"GlyphRenderer\"},{\"attributes\":{\"fill_alpha\":{\"field\":\"fill_alpha\"},\"fill_color\":{\"field\":\"color\"},\"height\":{\"field\":\"height\",\"units\":\"data\"},\"line_color\":{\"field\":\"line_color\"},\"width\":{\"field\":\"width\",\"units\":\"data\"},\"x\":{\"field\":\"x\"},\"y\":{\"field\":\"y\"}},\"id\":\"0e18d4c4-8fd0-4d86-807b-ee0609d60790\",\"type\":\"Rect\"},{\"attributes\":{\"data_source\":{\"id\":\"2bf82c72-ac65-488d-927b-d2a4c6da6fa4\",\"type\":\"ColumnDataSource\"},\"glyph\":{\"id\":\"b8e16a9d-ac4c-4c51-b6bf-9b49ce764b5b\",\"type\":\"Rect\"},\"hover_glyph\":null,\"nonselection_glyph\":null,\"selection_glyph\":null},\"id\":\"626a46a6-732c-47f2-b92a-51cfb104bfa8\",\"type\":\"GlyphRenderer\"},{\"attributes\":{\"fill_alpha\":{\"field\":\"fill_alpha\"},\"fill_color\":{\"field\":\"color\"},\"height\":{\"field\":\"height\",\"units\":\"data\"},\"line_color\":{\"field\":\"line_color\"},\"width\":{\"field\":\"width\",\"units\":\"data\"},\"x\":{\"field\":\"x\"},\"y\":{\"field\":\"y\"}},\"id\":\"ba3520cf-f41f-4739-965f-e7bfbfba7f3f\",\"type\":\"Rect\"},{\"attributes\":{\"fill_alpha\":{\"field\":\"fill_alpha\"},\"fill_color\":{\"field\":\"color\"},\"height\":{\"field\":\"height\",\"units\":\"data\"},\"line_color\":{\"field\":\"line_color\"},\"width\":{\"field\":\"width\",\"units\":\"data\"},\"x\":{\"field\":\"x\"},\"y\":{\"field\":\"y\"}},\"id\":\"47d9e8b4-fee1-4548-9071-b216c77f1181\",\"type\":\"Rect\"},{\"attributes\":{\"callback\":null,\"column_names\":[\"label\",\"color\",\"fill_alpha\",\"line_alpha\",\"x\",\"width\",\"height\",\"y\",\"line_color\"],\"data\":{\"chart_index\":[\"(333.2, 341.7]\"],\"color\":[\"#f22c40\"],\"fill_alpha\":[0.8],\"height\":[5.0],\"label\":[\"(333.2, 341.7]\"],\"line_alpha\":[1.0],\"line_color\":[\"black\"],\"width\":[8.51785714285711],\"x\":[\"337.45\"],\"y\":[2.5]}},\"id\":\"b2f90897-49b2-4a86-b36f-3cac0232f476\",\"type\":\"ColumnDataSource\"},{\"attributes\":{\"data_source\":{\"id\":\"a2a61eac-cf43-494d-852b-34ba5eff500b\",\"type\":\"ColumnDataSource\"},\"glyph\":{\"id\":\"cd8d9670-b6fd-455e-8066-d5a1fcc24ea6\",\"type\":\"Rect\"},\"hover_glyph\":null,\"nonselection_glyph\":null,\"selection_glyph\":null},\"id\":\"fe458ddb-c12e-456c-a099-a05b04c2f907\",\"type\":\"GlyphRenderer\"},{\"attributes\":{\"fill_alpha\":{\"field\":\"fill_alpha\"},\"fill_color\":{\"field\":\"color\"},\"height\":{\"field\":\"height\",\"units\":\"data\"},\"line_color\":{\"field\":\"line_color\"},\"width\":{\"field\":\"width\",\"units\":\"data\"},\"x\":{\"field\":\"x\"},\"y\":{\"field\":\"y\"}},\"id\":\"4e969e8c-216a-4447-9323-5b9f84b70d21\",\"type\":\"Rect\"},{\"attributes\":{\"fill_alpha\":{\"field\":\"fill_alpha\"},\"fill_color\":{\"field\":\"color\"},\"height\":{\"field\":\"height\",\"units\":\"data\"},\"line_color\":{\"field\":\"line_color\"},\"width\":{\"field\":\"width\",\"units\":\"data\"},\"x\":{\"field\":\"x\"},\"y\":{\"field\":\"y\"}},\"id\":\"c3a70b91-9a8c-4f19-b320-0bc10517a020\",\"type\":\"Rect\"},{\"attributes\":{\"data_source\":{\"id\":\"1eec6347-67da-46fc-84be-dba46d585a2a\",\"type\":\"ColumnDataSource\"},\"glyph\":{\"id\":\"ac1f0731-42a5-4173-85a4-1364a5c9085c\",\"type\":\"Rect\"},\"hover_glyph\":null,\"nonselection_glyph\":null,\"selection_glyph\":null},\"id\":\"05b64988-9b88-46d8-b8e1-52c1772f45e5\",\"type\":\"GlyphRenderer\"},{\"attributes\":{\"fill_alpha\":{\"field\":\"fill_alpha\"},\"fill_color\":{\"field\":\"color\"},\"height\":{\"field\":\"height\",\"units\":\"data\"},\"line_color\":{\"field\":\"line_color\"},\"width\":{\"field\":\"width\",\"units\":\"data\"},\"x\":{\"field\":\"x\"},\"y\":{\"field\":\"y\"}},\"id\":\"2d1ea80e-2ca2-461c-b9f8-29a1c05346ee\",\"type\":\"Rect\"},{\"attributes\":{\"callback\":null,\"column_names\":[\"label\",\"color\",\"fill_alpha\",\"line_alpha\",\"x\",\"width\",\"height\",\"y\",\"line_color\"],\"data\":{\"chart_index\":[\"(18.0, 26.6]\"],\"color\":[\"#f22c40\"],\"fill_alpha\":[0.8],\"height\":[350.0],\"label\":[\"(18.0, 26.6]\"],\"line_alpha\":[1.0],\"line_color\":[\"black\"],\"width\":[8.517857142857142],\"x\":[\"22.3\"],\"y\":[175.0]}},\"id\":\"a2a61eac-cf43-494d-852b-34ba5eff500b\",\"type\":\"ColumnDataSource\"},{\"attributes\":{\"data_source\":{\"id\":\"5f041aee-cd66-4698-8b43-aeb45c68e7df\",\"type\":\"ColumnDataSource\"},\"glyph\":{\"id\":\"677f737f-b4b8-4ff2-a1d7-b3268837ede9\",\"type\":\"Rect\"},\"hover_glyph\":null,\"nonselection_glyph\":null,\"selection_glyph\":null},\"id\":\"22911cff-a023-4c42-a01a-46183d40630d\",\"type\":\"GlyphRenderer\"},{\"attributes\":{\"overlay\":{\"id\":\"5d8970fd-41bf-4208-9aa0-1384dbb20778\",\"type\":\"BoxAnnotation\"},\"plot\":{\"id\":\"6883eb95-246a-402a-a0d7-dd0024089a19\",\"subtype\":\"Chart\",\"type\":\"Plot\"}},\"id\":\"8a65a37d-5954-4c19-9f1d-4ce5822bdc29\",\"type\":\"BoxZoomTool\"},{\"attributes\":{\"callback\":null,\"column_names\":[\"label\",\"color\",\"fill_alpha\",\"line_alpha\",\"x\",\"width\",\"height\",\"y\",\"line_color\"],\"data\":{\"chart_index\":[\"(401.3, 409.9]\"],\"color\":[\"#f22c40\"],\"fill_alpha\":[0.8],\"height\":[2.0],\"label\":[\"(401.3, 409.9]\"],\"line_alpha\":[1.0],\"line_color\":[\"black\"],\"width\":[8.517857142857167],\"x\":[\"405.6\"],\"y\":[1.0]}},\"id\":\"052478ec-871e-4031-b873-e411cbce4fb0\",\"type\":\"ColumnDataSource\"},{\"attributes\":{\"callback\":null,\"column_names\":[\"label\",\"color\",\"fill_alpha\",\"line_alpha\",\"x\",\"width\",\"height\",\"y\",\"line_color\"],\"data\":{\"chart_index\":[\"(299.1, 307.6]\"],\"color\":[\"#f22c40\"],\"fill_alpha\":[0.8],\"height\":[11.0],\"label\":[\"(299.1, 307.6]\"],\"line_alpha\":[1.0],\"line_color\":[\"black\"],\"width\":[8.51785714285711],\"x\":[\"303.35\"],\"y\":[5.5]}},\"id\":\"63d1df41-ec74-4c16-a5f2-95d58f2dd878\",\"type\":\"ColumnDataSource\"},{\"attributes\":{\"fill_alpha\":{\"field\":\"fill_alpha\"},\"fill_color\":{\"field\":\"color\"},\"height\":{\"field\":\"height\",\"units\":\"data\"},\"line_color\":{\"field\":\"line_color\"},\"width\":{\"field\":\"width\",\"units\":\"data\"},\"x\":{\"field\":\"x\"},\"y\":{\"field\":\"y\"}},\"id\":\"ac1f0731-42a5-4173-85a4-1364a5c9085c\",\"type\":\"Rect\"},{\"attributes\":{\"data_source\":{\"id\":\"b1cbef4f-0312-499f-a899-63e883845b83\",\"type\":\"ColumnDataSource\"},\"glyph\":{\"id\":\"49d71c46-2b12-4bb4-806a-192797f4cb8f\",\"type\":\"Rect\"},\"hover_glyph\":null,\"nonselection_glyph\":null,\"selection_glyph\":null},\"id\":\"c72bb72c-50f0-4ae8-9765-6c340c6af1fe\",\"type\":\"GlyphRenderer\"},{\"attributes\":{\"fill_alpha\":{\"field\":\"fill_alpha\"},\"fill_color\":{\"field\":\"color\"},\"height\":{\"field\":\"height\",\"units\":\"data\"},\"line_color\":{\"field\":\"line_color\"},\"width\":{\"field\":\"width\",\"units\":\"data\"},\"x\":{\"field\":\"x\"},\"y\":{\"field\":\"y\"}},\"id\":\"88a8a34a-decf-459c-bbef-144841a01812\",\"type\":\"Rect\"},{\"attributes\":{\"data_source\":{\"id\":\"e889a338-bfd2-4131-b57f-29a4ff1e3ea6\",\"type\":\"ColumnDataSource\"},\"glyph\":{\"id\":\"c67ad0ec-e089-41bc-93bb-64a48d9b16e8\",\"type\":\"Rect\"},\"hover_glyph\":null,\"nonselection_glyph\":null,\"selection_glyph\":null},\"id\":\"6f63e312-ced4-4d7d-a27b-40caa36e8db4\",\"type\":\"GlyphRenderer\"},{\"attributes\":{\"data_source\":{\"id\":\"a9ea4048-21c1-49df-91f2-e50577fd5f86\",\"type\":\"ColumnDataSource\"},\"glyph\":{\"id\":\"729238ff-d725-47be-aa0c-7a384e9b7059\",\"type\":\"Rect\"},\"hover_glyph\":null,\"nonselection_glyph\":null,\"selection_glyph\":null},\"id\":\"237f9de2-1d0b-49be-a1f9-a3f9b2d03787\",\"type\":\"GlyphRenderer\"},{\"attributes\":{\"axis_label\":\"Total\",\"formatter\":{\"id\":\"fd152fbb-32fc-4dff-aad2-fd1f7dea1366\",\"type\":\"BasicTickFormatter\"},\"plot\":{\"id\":\"6883eb95-246a-402a-a0d7-dd0024089a19\",\"subtype\":\"Chart\",\"type\":\"Plot\"},\"ticker\":{\"id\":\"a6dea146-44c1-4a3c-8c46-74f2ce01ac9c\",\"type\":\"BasicTicker\"}},\"id\":\"1eab987e-cdef-4f18-b039-bfe049fe93eb\",\"type\":\"LinearAxis\"},{\"attributes\":{\"data_source\":{\"id\":\"f24b3ab9-1795-4e37-8035-93d48471701f\",\"type\":\"ColumnDataSource\"},\"glyph\":{\"id\":\"1c92e732-9e4a-4487-b7fb-4339e8f64014\",\"type\":\"Rect\"},\"hover_glyph\":null,\"nonselection_glyph\":null,\"selection_glyph\":null},\"id\":\"fd334d03-189f-4498-923b-2e9920353202\",\"type\":\"GlyphRenderer\"},{\"attributes\":{\"data_source\":{\"id\":\"ea76d94a-71ea-4cb4-9e32-2091ead0e536\",\"type\":\"ColumnDataSource\"},\"glyph\":{\"id\":\"e9b25565-00f1-48c3-9ffc-ca69a0727349\",\"type\":\"Rect\"},\"hover_glyph\":null,\"nonselection_glyph\":null,\"selection_glyph\":null},\"id\":\"5ff19449-43f2-4713-8e72-37c8b1761c03\",\"type\":\"GlyphRenderer\"},{\"attributes\":{\"fill_alpha\":{\"field\":\"fill_alpha\"},\"fill_color\":{\"field\":\"color\"},\"height\":{\"field\":\"height\",\"units\":\"data\"},\"line_color\":{\"field\":\"line_color\"},\"width\":{\"field\":\"width\",\"units\":\"data\"},\"x\":{\"field\":\"x\"},\"y\":{\"field\":\"y\"}},\"id\":\"5dd3f56a-3456-443e-b0f8-545f9447f68d\",\"type\":\"Rect\"},{\"attributes\":{\"fill_alpha\":{\"field\":\"fill_alpha\"},\"fill_color\":{\"field\":\"color\"},\"height\":{\"field\":\"height\",\"units\":\"data\"},\"line_color\":{\"field\":\"line_color\"},\"width\":{\"field\":\"width\",\"units\":\"data\"},\"x\":{\"field\":\"x\"},\"y\":{\"field\":\"y\"}},\"id\":\"aa65a9e4-64f2-4cdd-b894-3ecf2c499570\",\"type\":\"Rect\"},{\"attributes\":{\"callback\":null,\"column_names\":[\"label\",\"color\",\"fill_alpha\",\"line_alpha\",\"x\",\"width\",\"height\",\"y\",\"line_color\"],\"data\":{\"chart_index\":[\"(426.9, 435.4]\"],\"color\":[\"#f22c40\"],\"fill_alpha\":[0.8],\"height\":[3.0],\"label\":[\"(426.9, 435.4]\"],\"line_alpha\":[1.0],\"line_color\":[\"black\"],\"width\":[8.517857142857167],\"x\":[\"431.15\"],\"y\":[1.5]}},\"id\":\"3c6e7aae-2bb8-487c-96e1-d52872676564\",\"type\":\"ColumnDataSource\"},{\"attributes\":{\"axis_label\":\"Count( Total )\",\"formatter\":{\"id\":\"7006dca5-81ab-4a15-b830-7e50ebd41cb8\",\"type\":\"BasicTickFormatter\"},\"plot\":{\"id\":\"6883eb95-246a-402a-a0d7-dd0024089a19\",\"subtype\":\"Chart\",\"type\":\"Plot\"},\"ticker\":{\"id\":\"df7ffc2b-6a55-44a5-aaa6-b3736ba04797\",\"type\":\"BasicTicker\"}},\"id\":\"06464357-eb07-4797-8c18-491f12202bd2\",\"type\":\"LinearAxis\"},{\"attributes\":{\"data_source\":{\"id\":\"41a6ef7f-803a-487a-abff-d274e8865486\",\"type\":\"ColumnDataSource\"},\"glyph\":{\"id\":\"4e969e8c-216a-4447-9323-5b9f84b70d21\",\"type\":\"Rect\"},\"hover_glyph\":null,\"nonselection_glyph\":null,\"selection_glyph\":null},\"id\":\"d551a2b2-4bae-4a99-b75b-34c1667cdd17\",\"type\":\"GlyphRenderer\"},{\"attributes\":{\"callback\":null,\"column_names\":[\"label\",\"color\",\"fill_alpha\",\"line_alpha\",\"x\",\"width\",\"height\",\"y\",\"line_color\"],\"data\":{\"chart_index\":[\"(461.0, 469.5]\"],\"color\":[\"#f22c40\"],\"fill_alpha\":[0.8],\"height\":[1.0],\"label\":[\"(461.0, 469.5]\"],\"line_alpha\":[1.0],\"line_color\":[\"black\"],\"width\":[8.517857142857167],\"x\":[\"465.25\"],\"y\":[0.5]}},\"id\":\"ea76d94a-71ea-4cb4-9e32-2091ead0e536\",\"type\":\"ColumnDataSource\"},{\"attributes\":{\"data_source\":{\"id\":\"0ccb9f43-2be4-4978-9545-4c26470ebc19\",\"type\":\"ColumnDataSource\"},\"glyph\":{\"id\":\"facac073-7a8a-4d25-bd54-4e627e9bfdaa\",\"type\":\"Rect\"},\"hover_glyph\":null,\"nonselection_glyph\":null,\"selection_glyph\":null},\"id\":\"4ce9c3fa-fe9a-4b2b-8ae1-087a42375c1c\",\"type\":\"GlyphRenderer\"},{\"attributes\":{\"callback\":null,\"end\":1223.2},\"id\":\"14608bc0-1ced-4141-976d-e950ad7709f4\",\"type\":\"Range1d\"},{\"attributes\":{\"callback\":null,\"column_names\":[\"label\",\"color\",\"fill_alpha\",\"line_alpha\",\"x\",\"width\",\"height\",\"y\",\"line_color\"],\"data\":{\"chart_index\":[\"(9.5, 18.0]\"],\"color\":[\"#f22c40\"],\"fill_alpha\":[0.8],\"height\":[493.0],\"label\":[\"(9.5, 18.0]\"],\"line_alpha\":[1.0],\"line_color\":[\"black\"],\"width\":[8.517857142857142],\"x\":[\"13.75\"],\"y\":[246.5]}},\"id\":\"a6357389-e48a-4e4c-b017-cdff566982c5\",\"type\":\"ColumnDataSource\"},{\"attributes\":{\"callback\":null,\"column_names\":[\"label\",\"color\",\"fill_alpha\",\"line_alpha\",\"x\",\"width\",\"height\",\"y\",\"line_color\"],\"data\":{\"chart_index\":[\"(94.7, 103.2]\"],\"color\":[\"#f22c40\"],\"fill_alpha\":[0.8],\"height\":[101.0],\"label\":[\"(94.7, 103.2]\"],\"line_alpha\":[1.0],\"line_color\":[\"black\"],\"width\":[8.517857142857139],\"x\":[\"98.95\"],\"y\":[50.5]}},\"id\":\"dc5226f4-e9c2-40c9-a968-8259f165b239\",\"type\":\"ColumnDataSource\"},{\"attributes\":{\"dimension\":1,\"plot\":{\"id\":\"6883eb95-246a-402a-a0d7-dd0024089a19\",\"subtype\":\"Chart\",\"type\":\"Plot\"},\"ticker\":{\"id\":\"df7ffc2b-6a55-44a5-aaa6-b3736ba04797\",\"type\":\"BasicTicker\"}},\"id\":\"f2eb9375-0ce5-4346-95a5-9963bff0653f\",\"type\":\"Grid\"},{\"attributes\":{\"data_source\":{\"id\":\"38fba19a-805a-4b45-bda0-bcd9c20e095f\",\"type\":\"ColumnDataSource\"},\"glyph\":{\"id\":\"1f2f7803-02b1-44b3-8ec2-ab0a3020c9d0\",\"type\":\"Rect\"},\"hover_glyph\":null,\"nonselection_glyph\":null,\"selection_glyph\":null},\"id\":\"8149310e-1d84-4927-8911-96bf0d298030\",\"type\":\"GlyphRenderer\"},{\"attributes\":{\"callback\":null,\"column_names\":[\"label\",\"color\",\"fill_alpha\",\"line_alpha\",\"x\",\"width\",\"height\",\"y\",\"line_color\"],\"data\":{\"chart_index\":[\"(358.8, 367.3]\"],\"color\":[\"#f22c40\"],\"fill_alpha\":[0.8],\"height\":[7.0],\"label\":[\"(358.8, 367.3]\"],\"line_alpha\":[1.0],\"line_color\":[\"black\"],\"width\":[8.51785714285711],\"x\":[\"363.05\"],\"y\":[3.5]}},\"id\":\"91004c3c-d77b-46b6-be70-f1154a2cba41\",\"type\":\"ColumnDataSource\"},{\"attributes\":{\"fill_alpha\":{\"field\":\"fill_alpha\"},\"fill_color\":{\"field\":\"color\"},\"height\":{\"field\":\"height\",\"units\":\"data\"},\"line_color\":{\"field\":\"line_color\"},\"width\":{\"field\":\"width\",\"units\":\"data\"},\"x\":{\"field\":\"x\"},\"y\":{\"field\":\"y\"}},\"id\":\"c75fe6d1-803a-4dde-afa8-f3b2ffa816f6\",\"type\":\"Rect\"},{\"attributes\":{\"fill_alpha\":{\"field\":\"fill_alpha\"},\"fill_color\":{\"field\":\"color\"},\"height\":{\"field\":\"height\",\"units\":\"data\"},\"line_color\":{\"field\":\"line_color\"},\"width\":{\"field\":\"width\",\"units\":\"data\"},\"x\":{\"field\":\"x\"},\"y\":{\"field\":\"y\"}},\"id\":\"56624381-cfaf-46be-8232-7914fc713c63\",\"type\":\"Rect\"},{\"attributes\":{\"callback\":null,\"column_names\":[\"label\",\"color\",\"fill_alpha\",\"line_alpha\",\"x\",\"width\",\"height\",\"y\",\"line_color\"],\"data\":{\"chart_index\":[\"(409.9, 418.4]\"],\"color\":[\"#f22c40\"],\"fill_alpha\":[0.8],\"height\":[3.0],\"label\":[\"(409.9, 418.4]\"],\"line_alpha\":[1.0],\"line_color\":[\"black\"],\"width\":[8.517857142857167],\"x\":[\"414.15\"],\"y\":[1.5]}},\"id\":\"a9ea4048-21c1-49df-91f2-e50577fd5f86\",\"type\":\"ColumnDataSource\"},{\"attributes\":{\"callback\":null,\"column_names\":[\"label\",\"color\",\"fill_alpha\",\"line_alpha\",\"x\",\"width\",\"height\",\"y\",\"line_color\"],\"data\":{\"chart_index\":[\"(145.8, 154.3]\"],\"color\":[\"#f22c40\"],\"fill_alpha\":[0.8],\"height\":[42.0],\"label\":[\"(145.8, 154.3]\"],\"line_alpha\":[1.0],\"line_color\":[\"black\"],\"width\":[8.517857142857139],\"x\":[\"150.05\"],\"y\":[21.0]}},\"id\":\"2b95503d-5c93-4fa1-aa70-fedb5f9a7b34\",\"type\":\"ColumnDataSource\"},{\"attributes\":{\"data_source\":{\"id\":\"abd8f08e-3956-47df-8181-35f00859d71d\",\"type\":\"ColumnDataSource\"},\"glyph\":{\"id\":\"5dd3f56a-3456-443e-b0f8-545f9447f68d\",\"type\":\"Rect\"},\"hover_glyph\":null,\"nonselection_glyph\":null,\"selection_glyph\":null},\"id\":\"c6b1c1e6-af3b-42e8-bee1-91a99baa856e\",\"type\":\"GlyphRenderer\"},{\"attributes\":{\"fill_alpha\":{\"field\":\"fill_alpha\"},\"fill_color\":{\"field\":\"color\"},\"height\":{\"field\":\"height\",\"units\":\"data\"},\"line_color\":{\"field\":\"line_color\"},\"width\":{\"field\":\"width\",\"units\":\"data\"},\"x\":{\"field\":\"x\"},\"y\":{\"field\":\"y\"}},\"id\":\"5125aad8-ac64-4b41-9d9a-a331931a16b6\",\"type\":\"Rect\"},{\"attributes\":{\"fill_alpha\":{\"field\":\"fill_alpha\"},\"fill_color\":{\"field\":\"color\"},\"height\":{\"field\":\"height\",\"units\":\"data\"},\"line_color\":{\"field\":\"line_color\"},\"width\":{\"field\":\"width\",\"units\":\"data\"},\"x\":{\"field\":\"x\"},\"y\":{\"field\":\"y\"}},\"id\":\"bc38f7d7-7e69-497c-a978-d87da7ac8896\",\"type\":\"Rect\"},{\"attributes\":{\"data_source\":{\"id\":\"3c6e7aae-2bb8-487c-96e1-d52872676564\",\"type\":\"ColumnDataSource\"},\"glyph\":{\"id\":\"9de3cc67-93c9-4da5-8d9d-2c99f245deb2\",\"type\":\"Rect\"},\"hover_glyph\":null,\"nonselection_glyph\":null,\"selection_glyph\":null},\"id\":\"84eedb24-a45c-4352-9d96-558bf4558626\",\"type\":\"GlyphRenderer\"},{\"attributes\":{\"data_source\":{\"id\":\"0cba064f-2ed8-4488-805c-063a0d7c9df2\",\"type\":\"ColumnDataSource\"},\"glyph\":{\"id\":\"a5b52dd2-0fe2-4da3-943a-0591fe8e8375\",\"type\":\"Rect\"},\"hover_glyph\":null,\"nonselection_glyph\":null,\"selection_glyph\":null},\"id\":\"56f8bb70-2527-47a4-b96c-3abdbe6e81d1\",\"type\":\"GlyphRenderer\"},{\"attributes\":{\"callback\":null,\"end\":489.9839285714286,\"start\":-10.983928571428573},\"id\":\"a1fed3e0-1969-4cfb-af97-f90d5afdbf4b\",\"type\":\"Range1d\"},{\"attributes\":{\"fill_alpha\":{\"field\":\"fill_alpha\"},\"fill_color\":{\"field\":\"color\"},\"height\":{\"field\":\"height\",\"units\":\"data\"},\"line_color\":{\"field\":\"line_color\"},\"width\":{\"field\":\"width\",\"units\":\"data\"},\"x\":{\"field\":\"x\"},\"y\":{\"field\":\"y\"}},\"id\":\"6816e64f-5f64-4358-aa20-7f895c563063\",\"type\":\"Rect\"},{\"attributes\":{},\"id\":\"fd152fbb-32fc-4dff-aad2-fd1f7dea1366\",\"type\":\"BasicTickFormatter\"},{\"attributes\":{\"fill_alpha\":{\"field\":\"fill_alpha\"},\"fill_color\":{\"field\":\"color\"},\"height\":{\"field\":\"height\",\"units\":\"data\"},\"line_color\":{\"field\":\"line_color\"},\"width\":{\"field\":\"width\",\"units\":\"data\"},\"x\":{\"field\":\"x\"},\"y\":{\"field\":\"y\"}},\"id\":\"a7dab9e3-1ec8-4d32-b0d0-d19ad680e951\",\"type\":\"Rect\"},{\"attributes\":{\"fill_alpha\":{\"field\":\"fill_alpha\"},\"fill_color\":{\"field\":\"color\"},\"height\":{\"field\":\"height\",\"units\":\"data\"},\"line_color\":{\"field\":\"line_color\"},\"width\":{\"field\":\"width\",\"units\":\"data\"},\"x\":{\"field\":\"x\"},\"y\":{\"field\":\"y\"}},\"id\":\"677f737f-b4b8-4ff2-a1d7-b3268837ede9\",\"type\":\"Rect\"},{\"attributes\":{\"callback\":null,\"column_names\":[\"label\",\"color\",\"fill_alpha\",\"line_alpha\",\"x\",\"width\",\"height\",\"y\",\"line_color\"],\"data\":{\"chart_index\":[\"(307.6, 316.2]\"],\"color\":[\"#f22c40\"],\"fill_alpha\":[0.8],\"height\":[6.0],\"label\":[\"(307.6, 316.2]\"],\"line_alpha\":[1.0],\"line_color\":[\"black\"],\"width\":[8.517857142857167],\"x\":[\"311.9\"],\"y\":[3.0]}},\"id\":\"e6fa74d1-1689-4bac-b2b1-967ac1fac32e\",\"type\":\"ColumnDataSource\"},{\"attributes\":{\"data_source\":{\"id\":\"a0991a44-610d-4f21-96c9-6651ed5b0988\",\"type\":\"ColumnDataSource\"},\"glyph\":{\"id\":\"a7dab9e3-1ec8-4d32-b0d0-d19ad680e951\",\"type\":\"Rect\"},\"hover_glyph\":null,\"nonselection_glyph\":null,\"selection_glyph\":null},\"id\":\"b223b1f6-c510-4479-89fd-0b288a0fe6ce\",\"type\":\"GlyphRenderer\"},{\"attributes\":{\"fill_alpha\":{\"field\":\"fill_alpha\"},\"fill_color\":{\"field\":\"color\"},\"height\":{\"field\":\"height\",\"units\":\"data\"},\"line_color\":{\"field\":\"line_color\"},\"width\":{\"field\":\"width\",\"units\":\"data\"},\"x\":{\"field\":\"x\"},\"y\":{\"field\":\"y\"}},\"id\":\"27b1b696-9053-4fc0-be43-b3e0b90b0d26\",\"type\":\"Rect\"},{\"attributes\":{\"data_source\":{\"id\":\"91004c3c-d77b-46b6-be70-f1154a2cba41\",\"type\":\"ColumnDataSource\"},\"glyph\":{\"id\":\"ae3beed3-f99c-4383-abe7-97e7dff66508\",\"type\":\"Rect\"},\"hover_glyph\":null,\"nonselection_glyph\":null,\"selection_glyph\":null},\"id\":\"4a3650b7-dfc4-497b-b2ec-5de1b647f3e1\",\"type\":\"GlyphRenderer\"},{\"attributes\":{\"fill_alpha\":{\"field\":\"fill_alpha\"},\"fill_color\":{\"field\":\"color\"},\"height\":{\"field\":\"height\",\"units\":\"data\"},\"line_color\":{\"field\":\"line_color\"},\"width\":{\"field\":\"width\",\"units\":\"data\"},\"x\":{\"field\":\"x\"},\"y\":{\"field\":\"y\"}},\"id\":\"b8e16a9d-ac4c-4c51-b6bf-9b49ce764b5b\",\"type\":\"Rect\"},{\"attributes\":{\"callback\":null,\"column_names\":[\"label\",\"color\",\"fill_alpha\",\"line_alpha\",\"x\",\"width\",\"height\",\"y\",\"line_color\"],\"data\":{\"chart_index\":[\"(248.0, 256.5]\"],\"color\":[\"#f22c40\"],\"fill_alpha\":[0.8],\"height\":[9.0],\"label\":[\"(248.0, 256.5]\"],\"line_alpha\":[1.0],\"line_color\":[\"black\"],\"width\":[8.517857142857139],\"x\":[\"252.25\"],\"y\":[4.5]}},\"id\":\"1c9eb026-d409-4bfa-9549-75a743d44bc8\",\"type\":\"ColumnDataSource\"},{\"attributes\":{\"data_source\":{\"id\":\"6d01fc4b-7d44-4c95-8cb1-95203ef4edcd\",\"type\":\"ColumnDataSource\"},\"glyph\":{\"id\":\"7243b68a-8094-4516-8d17-5063403a17d3\",\"type\":\"Rect\"},\"hover_glyph\":null,\"nonselection_glyph\":null,\"selection_glyph\":null},\"id\":\"c31aaddc-72d2-4bdd-94f0-dc64845b02b5\",\"type\":\"GlyphRenderer\"},{\"attributes\":{\"callback\":null,\"column_names\":[\"label\",\"color\",\"fill_alpha\",\"line_alpha\",\"x\",\"width\",\"height\",\"y\",\"line_color\"],\"data\":{\"chart_index\":[\"[1.0, 9.5]\"],\"color\":[\"#f22c40\"],\"fill_alpha\":[0.8],\"height\":[1112.0],\"label\":[\"[1.0, 9.5]\"],\"line_alpha\":[1.0],\"line_color\":[\"black\"],\"width\":[8.517857142857142],\"x\":[\"5.25\"],\"y\":[556.0]}},\"id\":\"f24b3ab9-1795-4e37-8035-93d48471701f\",\"type\":\"ColumnDataSource\"},{\"attributes\":{\"callback\":null,\"column_names\":[\"label\",\"color\",\"fill_alpha\",\"line_alpha\",\"x\",\"width\",\"height\",\"y\",\"line_color\"],\"data\":{\"chart_index\":[\"(341.7, 350.2]\"],\"color\":[\"#f22c40\"],\"fill_alpha\":[0.8],\"height\":[7.0],\"label\":[\"(341.7, 350.2]\"],\"line_alpha\":[1.0],\"line_color\":[\"black\"],\"width\":[8.517857142857167],\"x\":[\"345.95\"],\"y\":[3.5]}},\"id\":\"0c63c7bf-8019-42e9-bb7f-358c259cf901\",\"type\":\"ColumnDataSource\"},{\"attributes\":{\"fill_alpha\":{\"field\":\"fill_alpha\"},\"fill_color\":{\"field\":\"color\"},\"height\":{\"field\":\"height\",\"units\":\"data\"},\"line_color\":{\"field\":\"line_color\"},\"width\":{\"field\":\"width\",\"units\":\"data\"},\"x\":{\"field\":\"x\"},\"y\":{\"field\":\"y\"}},\"id\":\"abb06711-359b-48ab-acdc-2fc15e43d0a3\",\"type\":\"Rect\"},{\"attributes\":{\"callback\":null,\"column_names\":[\"label\",\"color\",\"fill_alpha\",\"line_alpha\",\"x\",\"width\",\"height\",\"y\",\"line_color\"],\"data\":{\"chart_index\":[\"(69.1, 77.7]\"],\"color\":[\"#f22c40\"],\"fill_alpha\":[0.8],\"height\":[128.0],\"label\":[\"(69.1, 77.7]\"],\"line_alpha\":[1.0],\"line_color\":[\"black\"],\"width\":[8.517857142857139],\"x\":[\"73.4\"],\"y\":[64.0]}},\"id\":\"b1cbef4f-0312-499f-a899-63e883845b83\",\"type\":\"ColumnDataSource\"},{\"attributes\":{\"callback\":null,\"column_names\":[\"label\",\"color\",\"fill_alpha\",\"line_alpha\",\"x\",\"width\",\"height\",\"y\",\"line_color\"],\"data\":{\"chart_index\":[\"(231.0, 239.5]\"],\"color\":[\"#f22c40\"],\"fill_alpha\":[0.8],\"height\":[12.0],\"label\":[\"(231.0, 239.5]\"],\"line_alpha\":[1.0],\"line_color\":[\"black\"],\"width\":[8.517857142857167],\"x\":[\"235.25\"],\"y\":[6.0]}},\"id\":\"73e79469-3aee-48b7-9c32-02d9477667d4\",\"type\":\"ColumnDataSource\"},{\"attributes\":{\"callback\":null,\"column_names\":[\"label\",\"color\",\"fill_alpha\",\"line_alpha\",\"x\",\"width\",\"height\",\"y\",\"line_color\"],\"data\":{\"chart_index\":[\"(162.8, 171.4]\"],\"color\":[\"#f22c40\"],\"fill_alpha\":[0.8],\"height\":[43.0],\"label\":[\"(162.8, 171.4]\"],\"line_alpha\":[1.0],\"line_color\":[\"black\"],\"width\":[8.517857142857139],\"x\":[\"167.10000000000002\"],\"y\":[21.5]}},\"id\":\"d39dbf8d-5443-41a6-ba53-49d6aaaf000c\",\"type\":\"ColumnDataSource\"},{\"attributes\":{\"fill_alpha\":{\"field\":\"fill_alpha\"},\"fill_color\":{\"field\":\"color\"},\"height\":{\"field\":\"height\",\"units\":\"data\"},\"line_color\":{\"field\":\"line_color\"},\"width\":{\"field\":\"width\",\"units\":\"data\"},\"x\":{\"field\":\"x\"},\"y\":{\"field\":\"y\"}},\"id\":\"a5b52dd2-0fe2-4da3-943a-0591fe8e8375\",\"type\":\"Rect\"},{\"attributes\":{\"data_source\":{\"id\":\"6ad1f52e-7a66-4ddc-9c5d-fa29da8801ca\",\"type\":\"ColumnDataSource\"},\"glyph\":{\"id\":\"6816e64f-5f64-4358-aa20-7f895c563063\",\"type\":\"Rect\"},\"hover_glyph\":null,\"nonselection_glyph\":null,\"selection_glyph\":null},\"id\":\"f1935993-6ebd-4834-974b-8a4bc30df28e\",\"type\":\"GlyphRenderer\"},{\"attributes\":{\"fill_alpha\":{\"field\":\"fill_alpha\"},\"fill_color\":{\"field\":\"color\"},\"height\":{\"field\":\"height\",\"units\":\"data\"},\"line_color\":{\"field\":\"line_color\"},\"width\":{\"field\":\"width\",\"units\":\"data\"},\"x\":{\"field\":\"x\"},\"y\":{\"field\":\"y\"}},\"id\":\"14de2556-817a-4d56-bf2a-5237e9ff82d9\",\"type\":\"Rect\"},{\"attributes\":{\"data_source\":{\"id\":\"4525c2de-beef-4103-bd8f-f4142f412d95\",\"type\":\"ColumnDataSource\"},\"glyph\":{\"id\":\"b4da5b0c-582b-4b13-ba55-5881ae952e95\",\"type\":\"Rect\"},\"hover_glyph\":null,\"nonselection_glyph\":null,\"selection_glyph\":null},\"id\":\"016e443d-3dff-41c6-91fb-769e2042e378\",\"type\":\"GlyphRenderer\"},{\"attributes\":{\"callback\":null,\"column_names\":[\"label\",\"color\",\"fill_alpha\",\"line_alpha\",\"x\",\"width\",\"height\",\"y\",\"line_color\"],\"data\":{\"chart_index\":[\"(103.2, 111.7]\"],\"color\":[\"#f22c40\"],\"fill_alpha\":[0.8],\"height\":[82.0],\"label\":[\"(103.2, 111.7]\"],\"line_alpha\":[1.0],\"line_color\":[\"black\"],\"width\":[8.517857142857139],\"x\":[\"107.45\"],\"y\":[41.0]}},\"id\":\"b6472892-f516-4f42-b502-afbfbf622d3c\",\"type\":\"ColumnDataSource\"},{\"attributes\":{\"data_source\":{\"id\":\"e6fa74d1-1689-4bac-b2b1-967ac1fac32e\",\"type\":\"ColumnDataSource\"},\"glyph\":{\"id\":\"1c1d9846-9a1a-4cb2-9acf-3d597202005c\",\"type\":\"Rect\"},\"hover_glyph\":null,\"nonselection_glyph\":null,\"selection_glyph\":null},\"id\":\"30cd8940-9b46-40ea-9cf7-63825db3d144\",\"type\":\"GlyphRenderer\"},{\"attributes\":{\"callback\":null,\"column_names\":[\"label\",\"color\",\"fill_alpha\",\"line_alpha\",\"x\",\"width\",\"height\",\"y\",\"line_color\"],\"data\":{\"chart_index\":[\"(26.6, 35.1]\"],\"color\":[\"#f22c40\"],\"fill_alpha\":[0.8],\"height\":[335.0],\"label\":[\"(26.6, 35.1]\"],\"line_alpha\":[1.0],\"line_color\":[\"black\"],\"width\":[8.517857142857142],\"x\":[\"30.85\"],\"y\":[167.5]}},\"id\":\"9ee4c5f1-24af-46e0-84d6-f422313a0d0e\",\"type\":\"ColumnDataSource\"},{\"attributes\":{\"fill_alpha\":{\"field\":\"fill_alpha\"},\"fill_color\":{\"field\":\"color\"},\"height\":{\"field\":\"height\",\"units\":\"data\"},\"line_color\":{\"field\":\"line_color\"},\"width\":{\"field\":\"width\",\"units\":\"data\"},\"x\":{\"field\":\"x\"},\"y\":{\"field\":\"y\"}},\"id\":\"d900665c-c0c9-4281-9bcc-770e657b084a\",\"type\":\"Rect\"},{\"attributes\":{\"data_source\":{\"id\":\"38e777c3-bbcf-4cb0-9a91-b7878b99456e\",\"type\":\"ColumnDataSource\"},\"glyph\":{\"id\":\"6455757d-ba83-49da-83e3-eebf5ebc1ebd\",\"type\":\"Rect\"},\"hover_glyph\":null,\"nonselection_glyph\":null,\"selection_glyph\":null},\"id\":\"1fefd8e2-06d5-4c2b-a565-50c9cd67fe6c\",\"type\":\"GlyphRenderer\"},{\"attributes\":{\"fill_alpha\":{\"field\":\"fill_alpha\"},\"fill_color\":{\"field\":\"color\"},\"height\":{\"field\":\"height\",\"units\":\"data\"},\"line_color\":{\"field\":\"line_color\"},\"width\":{\"field\":\"width\",\"units\":\"data\"},\"x\":{\"field\":\"x\"},\"y\":{\"field\":\"y\"}},\"id\":\"ae3beed3-f99c-4383-abe7-97e7dff66508\",\"type\":\"Rect\"},{\"attributes\":{\"fill_alpha\":{\"field\":\"fill_alpha\"},\"fill_color\":{\"field\":\"color\"},\"height\":{\"field\":\"height\",\"units\":\"data\"},\"line_color\":{\"field\":\"line_color\"},\"width\":{\"field\":\"width\",\"units\":\"data\"},\"x\":{\"field\":\"x\"},\"y\":{\"field\":\"y\"}},\"id\":\"7243b68a-8094-4516-8d17-5063403a17d3\",\"type\":\"Rect\"},{\"attributes\":{\"data_source\":{\"id\":\"dc5226f4-e9c2-40c9-a968-8259f165b239\",\"type\":\"ColumnDataSource\"},\"glyph\":{\"id\":\"4c222616-4982-4cc7-82a6-f802c0d9f962\",\"type\":\"Rect\"},\"hover_glyph\":null,\"nonselection_glyph\":null,\"selection_glyph\":null},\"id\":\"548598d2-8697-4369-b158-b81851c66ae1\",\"type\":\"GlyphRenderer\"},{\"attributes\":{\"below\":[{\"id\":\"1eab987e-cdef-4f18-b039-bfe049fe93eb\",\"type\":\"LinearAxis\"}],\"left\":[{\"id\":\"06464357-eb07-4797-8c18-491f12202bd2\",\"type\":\"LinearAxis\"}],\"renderers\":[{\"id\":\"5d8970fd-41bf-4208-9aa0-1384dbb20778\",\"type\":\"BoxAnnotation\"},{\"id\":\"fd334d03-189f-4498-923b-2e9920353202\",\"type\":\"GlyphRenderer\"},{\"id\":\"fba92ba8-4358-45ad-b319-eecf08324bb6\",\"type\":\"GlyphRenderer\"},{\"id\":\"fe458ddb-c12e-456c-a099-a05b04c2f907\",\"type\":\"GlyphRenderer\"},{\"id\":\"f759869a-1029-49c0-8527-6e639321d788\",\"type\":\"GlyphRenderer\"},{\"id\":\"7479e8fd-a554-4794-b5e9-1ee255d314d1\",\"type\":\"GlyphRenderer\"},{\"id\":\"df49d79b-bf98-4aba-a4b8-946369dcf48f\",\"type\":\"GlyphRenderer\"},{\"id\":\"1d5563c0-fe56-4c83-9476-0b2985b5e72d\",\"type\":\"GlyphRenderer\"},{\"id\":\"f1935993-6ebd-4834-974b-8a4bc30df28e\",\"type\":\"GlyphRenderer\"},{\"id\":\"c72bb72c-50f0-4ae8-9765-6c340c6af1fe\",\"type\":\"GlyphRenderer\"},{\"id\":\"54883c28-9c0d-4782-bc1f-ec6e298d0f3f\",\"type\":\"GlyphRenderer\"},{\"id\":\"6f63e312-ced4-4d7d-a27b-40caa36e8db4\",\"type\":\"GlyphRenderer\"},{\"id\":\"548598d2-8697-4369-b158-b81851c66ae1\",\"type\":\"GlyphRenderer\"},{\"id\":\"b9f6a2fe-e9da-4a08-bd0d-5a7d842902f5\",\"type\":\"GlyphRenderer\"},{\"id\":\"72b22afb-08f9-415f-bd27-88938b0c7c68\",\"type\":\"GlyphRenderer\"},{\"id\":\"f4043761-da6a-4785-9003-ad0ffcc2e182\",\"type\":\"GlyphRenderer\"},{\"id\":\"4ce9c3fa-fe9a-4b2b-8ae1-087a42375c1c\",\"type\":\"GlyphRenderer\"},{\"id\":\"626a46a6-732c-47f2-b92a-51cfb104bfa8\",\"type\":\"GlyphRenderer\"},{\"id\":\"dd19bb9d-6f43-410d-9477-5aafafb5fa9c\",\"type\":\"GlyphRenderer\"},{\"id\":\"38569dfa-d771-48b2-ad8f-5454775b91b4\",\"type\":\"GlyphRenderer\"},{\"id\":\"6ef58242-8c4b-4a3f-ab04-bfb0761ddcb6\",\"type\":\"GlyphRenderer\"},{\"id\":\"bb57da14-c9b4-4f57-8a06-f817a1cadcdc\",\"type\":\"GlyphRenderer\"},{\"id\":\"56f8bb70-2527-47a4-b96c-3abdbe6e81d1\",\"type\":\"GlyphRenderer\"},{\"id\":\"1a0f2fd2-4f44-4fd0-afd2-886f463c6df5\",\"type\":\"GlyphRenderer\"},{\"id\":\"64fdcdb2-d391-4216-baf7-a543b9d55d09\",\"type\":\"GlyphRenderer\"},{\"id\":\"22911cff-a023-4c42-a01a-46183d40630d\",\"type\":\"GlyphRenderer\"},{\"id\":\"e7462110-61c2-4ad3-b585-bcb99e1b4d0b\",\"type\":\"GlyphRenderer\"},{\"id\":\"b0f5f51b-4414-4882-9d86-b94788bdda9e\",\"type\":\"GlyphRenderer\"},{\"id\":\"689dc583-1e62-4d35-9201-db378db74bfc\",\"type\":\"GlyphRenderer\"},{\"id\":\"1c66f429-866d-4033-a8ff-d632b44fe26c\",\"type\":\"GlyphRenderer\"},{\"id\":\"0177ae49-8537-45c0-9216-be315fcb799a\",\"type\":\"GlyphRenderer\"},{\"id\":\"c6b1c1e6-af3b-42e8-bee1-91a99baa856e\",\"type\":\"GlyphRenderer\"},{\"id\":\"c414018a-c45e-4d30-bb32-763d31b74aa4\",\"type\":\"GlyphRenderer\"},{\"id\":\"1fefd8e2-06d5-4c2b-a565-50c9cd67fe6c\",\"type\":\"GlyphRenderer\"},{\"id\":\"016e443d-3dff-41c6-91fb-769e2042e378\",\"type\":\"GlyphRenderer\"},{\"id\":\"d551a2b2-4bae-4a99-b75b-34c1667cdd17\",\"type\":\"GlyphRenderer\"},{\"id\":\"39106da4-fea1-4b6c-b9fb-bdff18527679\",\"type\":\"GlyphRenderer\"},{\"id\":\"30cd8940-9b46-40ea-9cf7-63825db3d144\",\"type\":\"GlyphRenderer\"},{\"id\":\"5f61da44-09dd-4e97-893c-e0368ea1ef69\",\"type\":\"GlyphRenderer\"},{\"id\":\"d1456fc7-4187-42a9-941c-48ee24b02836\",\"type\":\"GlyphRenderer\"},{\"id\":\"d50ee314-1ae7-470c-8d60-879af5219ba1\",\"type\":\"GlyphRenderer\"},{\"id\":\"46e01c0a-8ecb-442d-b05f-aa56f95cd2bb\",\"type\":\"GlyphRenderer\"},{\"id\":\"68b1dbb7-8480-4796-aca4-925dbcec3a6b\",\"type\":\"GlyphRenderer\"},{\"id\":\"4a3650b7-dfc4-497b-b2ec-5de1b647f3e1\",\"type\":\"GlyphRenderer\"},{\"id\":\"05b64988-9b88-46d8-b8e1-52c1772f45e5\",\"type\":\"GlyphRenderer\"},{\"id\":\"b223b1f6-c510-4479-89fd-0b288a0fe6ce\",\"type\":\"GlyphRenderer\"},{\"id\":\"8149310e-1d84-4927-8911-96bf0d298030\",\"type\":\"GlyphRenderer\"},{\"id\":\"56d32962-5292-4485-aa30-ca35204127b9\",\"type\":\"GlyphRenderer\"},{\"id\":\"eb7c5e81-afea-40c9-9b36-c058ed2ed7bb\",\"type\":\"GlyphRenderer\"},{\"id\":\"237f9de2-1d0b-49be-a1f9-a3f9b2d03787\",\"type\":\"GlyphRenderer\"},{\"id\":\"cf89180e-80ac-438f-a911-b325c4b06add\",\"type\":\"GlyphRenderer\"},{\"id\":\"84eedb24-a45c-4352-9d96-558bf4558626\",\"type\":\"GlyphRenderer\"},{\"id\":\"ad9ed1b5-64a0-4a42-9bd0-236a4a2262b5\",\"type\":\"GlyphRenderer\"},{\"id\":\"e6da0167-a9f3-41d6-9d6d-c1bd113a8067\",\"type\":\"GlyphRenderer\"},{\"id\":\"c31aaddc-72d2-4bdd-94f0-dc64845b02b5\",\"type\":\"GlyphRenderer\"},{\"id\":\"5ff19449-43f2-4713-8e72-37c8b1761c03\",\"type\":\"GlyphRenderer\"},{\"id\":\"75f57180-1cb3-417c-ae24-232ce0021912\",\"type\":\"GlyphRenderer\"},{\"id\":\"b0080e3e-9539-48aa-8658-1abd95c7133b\",\"type\":\"Legend\"},{\"id\":\"1eab987e-cdef-4f18-b039-bfe049fe93eb\",\"type\":\"LinearAxis\"},{\"id\":\"06464357-eb07-4797-8c18-491f12202bd2\",\"type\":\"LinearAxis\"},{\"id\":\"f2eb9375-0ce5-4346-95a5-9963bff0653f\",\"type\":\"Grid\"}],\"title\":{\"id\":\"c49d14c5-7937-406a-8d2b-b9078e7ce9f6\",\"type\":\"Title\"},\"tool_events\":{\"id\":\"b805e3cf-6ca9-463a-8e13-89f3f99db0df\",\"type\":\"ToolEvents\"},\"toolbar\":{\"id\":\"85c9b9bb-85eb-4fe9-8ad3-50e82527c09c\",\"type\":\"Toolbar\"},\"x_mapper_type\":\"auto\",\"x_range\":{\"id\":\"a1fed3e0-1969-4cfb-af97-f90d5afdbf4b\",\"type\":\"Range1d\"},\"y_mapper_type\":\"auto\",\"y_range\":{\"id\":\"14608bc0-1ced-4141-976d-e950ad7709f4\",\"type\":\"Range1d\"}},\"id\":\"6883eb95-246a-402a-a0d7-dd0024089a19\",\"subtype\":\"Chart\",\"type\":\"Plot\"},{\"attributes\":{\"fill_alpha\":{\"field\":\"fill_alpha\"},\"fill_color\":{\"field\":\"color\"},\"height\":{\"field\":\"height\",\"units\":\"data\"},\"line_color\":{\"field\":\"line_color\"},\"width\":{\"field\":\"width\",\"units\":\"data\"},\"x\":{\"field\":\"x\"},\"y\":{\"field\":\"y\"}},\"id\":\"85fe0d19-f6b7-4b32-a873-748a7f6c7f60\",\"type\":\"Rect\"},{\"attributes\":{\"callback\":null,\"column_names\":[\"label\",\"color\",\"fill_alpha\",\"line_alpha\",\"x\",\"width\",\"height\",\"y\",\"line_color\"],\"data\":{\"chart_index\":[\"(35.1, 43.6]\"],\"color\":[\"#f22c40\"],\"fill_alpha\":[0.8],\"height\":[246.0],\"label\":[\"(35.1, 43.6]\"],\"line_alpha\":[1.0],\"line_color\":[\"black\"],\"width\":[8.517857142857139],\"x\":[\"39.35\"],\"y\":[123.0]}},\"id\":\"d76613aa-d7e1-4cf4-9284-bda7e6632e2a\",\"type\":\"ColumnDataSource\"},{\"attributes\":{\"fill_alpha\":{\"field\":\"fill_alpha\"},\"fill_color\":{\"field\":\"color\"},\"height\":{\"field\":\"height\",\"units\":\"data\"},\"line_color\":{\"field\":\"line_color\"},\"width\":{\"field\":\"width\",\"units\":\"data\"},\"x\":{\"field\":\"x\"},\"y\":{\"field\":\"y\"}},\"id\":\"b4da5b0c-582b-4b13-ba55-5881ae952e95\",\"type\":\"Rect\"},{\"attributes\":{\"callback\":null,\"column_names\":[\"label\",\"color\",\"fill_alpha\",\"line_alpha\",\"x\",\"width\",\"height\",\"y\",\"line_color\"],\"data\":{\"chart_index\":[\"(324.7, 333.2]\"],\"color\":[\"#f22c40\"],\"fill_alpha\":[0.8],\"height\":[8.0],\"label\":[\"(324.7, 333.2]\"],\"line_alpha\":[1.0],\"line_color\":[\"black\"],\"width\":[8.517857142857167],\"x\":[\"328.95\"],\"y\":[4.0]}},\"id\":\"fbb6ac74-7278-442b-977d-8b963bfc53f5\",\"type\":\"ColumnDataSource\"},{\"attributes\":{\"callback\":null,\"column_names\":[\"label\",\"color\",\"fill_alpha\",\"line_alpha\",\"x\",\"width\",\"height\",\"y\",\"line_color\"],\"data\":{\"chart_index\":[\"(239.5, 248.0]\"],\"color\":[\"#f22c40\"],\"fill_alpha\":[0.8],\"height\":[17.0],\"label\":[\"(239.5, 248.0]\"],\"line_alpha\":[1.0],\"line_color\":[\"black\"],\"width\":[8.517857142857139],\"x\":[\"243.75\"],\"y\":[8.5]}},\"id\":\"200ac011-433a-4a10-9b39-d54d3629f2cd\",\"type\":\"ColumnDataSource\"},{\"attributes\":{\"fill_alpha\":{\"field\":\"fill_alpha\"},\"fill_color\":{\"field\":\"color\"},\"height\":{\"field\":\"height\",\"units\":\"data\"},\"line_color\":{\"field\":\"line_color\"},\"width\":{\"field\":\"width\",\"units\":\"data\"},\"x\":{\"field\":\"x\"},\"y\":{\"field\":\"y\"}},\"id\":\"568c0013-c60b-47ae-98ad-e9a16e2c6f57\",\"type\":\"Rect\"},{\"attributes\":{\"plot\":{\"id\":\"6883eb95-246a-402a-a0d7-dd0024089a19\",\"subtype\":\"Chart\",\"type\":\"Plot\"}},\"id\":\"dcef63ad-74d4-4590-9c33-d8d10213e296\",\"type\":\"WheelZoomTool\"},{\"attributes\":{\"data_source\":{\"id\":\"9ee4c5f1-24af-46e0-84d6-f422313a0d0e\",\"type\":\"ColumnDataSource\"},\"glyph\":{\"id\":\"2d1ea80e-2ca2-461c-b9f8-29a1c05346ee\",\"type\":\"Rect\"},\"hover_glyph\":null,\"nonselection_glyph\":null,\"selection_glyph\":null},\"id\":\"f759869a-1029-49c0-8527-6e639321d788\",\"type\":\"GlyphRenderer\"},{\"attributes\":{\"callback\":null,\"column_names\":[\"label\",\"color\",\"fill_alpha\",\"line_alpha\",\"x\",\"width\",\"height\",\"y\",\"line_color\"],\"data\":{\"chart_index\":[\"(179.9, 188.4]\"],\"color\":[\"#f22c40\"],\"fill_alpha\":[0.8],\"height\":[34.0],\"label\":[\"(179.9, 188.4]\"],\"line_alpha\":[1.0],\"line_color\":[\"black\"],\"width\":[8.517857142857139],\"x\":[\"184.15\"],\"y\":[17.0]}},\"id\":\"0cba064f-2ed8-4488-805c-063a0d7c9df2\",\"type\":\"ColumnDataSource\"},{\"attributes\":{\"fill_alpha\":{\"field\":\"fill_alpha\"},\"fill_color\":{\"field\":\"color\"},\"height\":{\"field\":\"height\",\"units\":\"data\"},\"line_color\":{\"field\":\"line_color\"},\"width\":{\"field\":\"width\",\"units\":\"data\"},\"x\":{\"field\":\"x\"},\"y\":{\"field\":\"y\"}},\"id\":\"c67ad0ec-e089-41bc-93bb-64a48d9b16e8\",\"type\":\"Rect\"},{\"attributes\":{\"fill_alpha\":{\"field\":\"fill_alpha\"},\"fill_color\":{\"field\":\"color\"},\"height\":{\"field\":\"height\",\"units\":\"data\"},\"line_color\":{\"field\":\"line_color\"},\"width\":{\"field\":\"width\",\"units\":\"data\"},\"x\":{\"field\":\"x\"},\"y\":{\"field\":\"y\"}},\"id\":\"74bcf2f0-20e5-4688-a11c-28bff5a61d22\",\"type\":\"Rect\"},{\"attributes\":{\"data_source\":{\"id\":\"4150ff8d-12b1-4dc1-9f10-0a2ae0dea1dd\",\"type\":\"ColumnDataSource\"},\"glyph\":{\"id\":\"27b1b696-9053-4fc0-be43-b3e0b90b0d26\",\"type\":\"Rect\"},\"hover_glyph\":null,\"nonselection_glyph\":null,\"selection_glyph\":null},\"id\":\"68b1dbb7-8480-4796-aca4-925dbcec3a6b\",\"type\":\"GlyphRenderer\"},{\"attributes\":{\"callback\":null,\"column_names\":[\"label\",\"color\",\"fill_alpha\",\"line_alpha\",\"x\",\"width\",\"height\",\"y\",\"line_color\"],\"data\":{\"chart_index\":[\"(171.4, 179.9]\"],\"color\":[\"#f22c40\"],\"fill_alpha\":[0.8],\"height\":[23.0],\"label\":[\"(171.4, 179.9]\"],\"line_alpha\":[1.0],\"line_color\":[\"black\"],\"width\":[8.517857142857167],\"x\":[\"175.65\"],\"y\":[11.5]}},\"id\":\"e252fae5-2213-484f-bd0b-9388ba0376a3\",\"type\":\"ColumnDataSource\"},{\"attributes\":{\"callback\":null,\"column_names\":[\"label\",\"color\",\"fill_alpha\",\"line_alpha\",\"x\",\"width\",\"height\",\"y\",\"line_color\"],\"data\":{\"chart_index\":[\"(435.4, 443.9]\"],\"color\":[\"#f22c40\"],\"fill_alpha\":[0.8],\"height\":[5.0],\"label\":[\"(435.4, 443.9]\"],\"line_alpha\":[1.0],\"line_color\":[\"black\"],\"width\":[8.51785714285711],\"x\":[\"439.65\"],\"y\":[2.5]}},\"id\":\"7a8ffa63-370b-4300-ab8d-ddbc9fb02284\",\"type\":\"ColumnDataSource\"},{\"attributes\":{\"fill_alpha\":{\"field\":\"fill_alpha\"},\"fill_color\":{\"field\":\"color\"},\"height\":{\"field\":\"height\",\"units\":\"data\"},\"line_color\":{\"field\":\"line_color\"},\"width\":{\"field\":\"width\",\"units\":\"data\"},\"x\":{\"field\":\"x\"},\"y\":{\"field\":\"y\"}},\"id\":\"e4ce46c9-724e-43bf-86dd-d46cc0c42bfa\",\"type\":\"Rect\"},{\"attributes\":{\"callback\":null,\"column_names\":[\"label\",\"color\",\"fill_alpha\",\"line_alpha\",\"x\",\"width\",\"height\",\"y\",\"line_color\"],\"data\":{\"chart_index\":[\"(205.4, 213.9]\"],\"color\":[\"#f22c40\"],\"fill_alpha\":[0.8],\"height\":[34.0],\"label\":[\"(205.4, 213.9]\"],\"line_alpha\":[1.0],\"line_color\":[\"black\"],\"width\":[8.517857142857139],\"x\":[\"209.65\"],\"y\":[17.0]}},\"id\":\"5f041aee-cd66-4698-8b43-aeb45c68e7df\",\"type\":\"ColumnDataSource\"},{\"attributes\":{\"callback\":null,\"column_names\":[\"label\",\"color\",\"fill_alpha\",\"line_alpha\",\"x\",\"width\",\"height\",\"y\",\"line_color\"],\"data\":{\"chart_index\":[\"(375.8, 384.3]\"],\"color\":[\"#f22c40\"],\"fill_alpha\":[0.8],\"height\":[6.0],\"label\":[\"(375.8, 384.3]\"],\"line_alpha\":[1.0],\"line_color\":[\"black\"],\"width\":[8.51785714285711],\"x\":[\"380.05\"],\"y\":[3.0]}},\"id\":\"a0991a44-610d-4f21-96c9-6651ed5b0988\",\"type\":\"ColumnDataSource\"},{\"attributes\":{\"fill_alpha\":{\"field\":\"fill_alpha\"},\"fill_color\":{\"field\":\"color\"},\"height\":{\"field\":\"height\",\"units\":\"data\"},\"line_color\":{\"field\":\"line_color\"},\"width\":{\"field\":\"width\",\"units\":\"data\"},\"x\":{\"field\":\"x\"},\"y\":{\"field\":\"y\"}},\"id\":\"fb736da9-c070-48c1-8892-af3c3a9fe8fd\",\"type\":\"Rect\"},{\"attributes\":{\"callback\":null,\"column_names\":[\"label\",\"color\",\"fill_alpha\",\"line_alpha\",\"x\",\"width\",\"height\",\"y\",\"line_color\"],\"data\":{\"chart_index\":[\"(469.5, 478.0]\"],\"color\":[\"#f22c40\"],\"fill_alpha\":[0.8],\"height\":[4.0],\"label\":[\"(469.5, 478.0]\"],\"line_alpha\":[1.0],\"line_color\":[\"black\"],\"width\":[8.517857142857167],\"x\":[\"473.75\"],\"y\":[2.0]}},\"id\":\"fe2ec968-6d4e-44ad-b157-70e926b32f5e\",\"type\":\"ColumnDataSource\"},{\"attributes\":{\"data_source\":{\"id\":\"6f640131-64bf-470e-bb47-45f4504b4f0f\",\"type\":\"ColumnDataSource\"},\"glyph\":{\"id\":\"14de2556-817a-4d56-bf2a-5237e9ff82d9\",\"type\":\"Rect\"},\"hover_glyph\":null,\"nonselection_glyph\":null,\"selection_glyph\":null},\"id\":\"c414018a-c45e-4d30-bb32-763d31b74aa4\",\"type\":\"GlyphRenderer\"},{\"attributes\":{\"callback\":null,\"column_names\":[\"label\",\"color\",\"fill_alpha\",\"line_alpha\",\"x\",\"width\",\"height\",\"y\",\"line_color\"],\"data\":{\"chart_index\":[\"(222.5, 231.0]\"],\"color\":[\"#f22c40\"],\"fill_alpha\":[0.8],\"height\":[14.0],\"label\":[\"(222.5, 231.0]\"],\"line_alpha\":[1.0],\"line_color\":[\"black\"],\"width\":[8.517857142857139],\"x\":[\"226.75\"],\"y\":[7.0]}},\"id\":\"c2497431-0a11-44d9-8870-17a74a617f35\",\"type\":\"ColumnDataSource\"},{\"attributes\":{\"fill_alpha\":{\"field\":\"fill_alpha\"},\"fill_color\":{\"field\":\"color\"},\"height\":{\"field\":\"height\",\"units\":\"data\"},\"line_color\":{\"field\":\"line_color\"},\"width\":{\"field\":\"width\",\"units\":\"data\"},\"x\":{\"field\":\"x\"},\"y\":{\"field\":\"y\"}},\"id\":\"e9b25565-00f1-48c3-9ffc-ca69a0727349\",\"type\":\"Rect\"},{\"attributes\":{\"data_source\":{\"id\":\"b2f90897-49b2-4a86-b36f-3cac0232f476\",\"type\":\"ColumnDataSource\"},\"glyph\":{\"id\":\"aa65a9e4-64f2-4cdd-b894-3ecf2c499570\",\"type\":\"Rect\"},\"hover_glyph\":null,\"nonselection_glyph\":null,\"selection_glyph\":null},\"id\":\"d50ee314-1ae7-470c-8d60-879af5219ba1\",\"type\":\"GlyphRenderer\"},{\"attributes\":{\"callback\":null,\"column_names\":[\"label\",\"color\",\"fill_alpha\",\"line_alpha\",\"x\",\"width\",\"height\",\"y\",\"line_color\"],\"data\":{\"chart_index\":[\"(316.2, 324.7]\"],\"color\":[\"#f22c40\"],\"fill_alpha\":[0.8],\"height\":[13.0],\"label\":[\"(316.2, 324.7]\"],\"line_alpha\":[1.0],\"line_color\":[\"black\"],\"width\":[8.51785714285711],\"x\":[\"320.45\"],\"y\":[6.5]}},\"id\":\"3a40bd19-ebfb-499f-b041-3b317c4971b8\",\"type\":\"ColumnDataSource\"},{\"attributes\":{\"data_source\":{\"id\":\"1f62dc8e-9a6e-4a67-b448-4bfa8c4a6922\",\"type\":\"ColumnDataSource\"},\"glyph\":{\"id\":\"645494e6-c491-41b4-be5c-213f131b1452\",\"type\":\"Rect\"},\"hover_glyph\":null,\"nonselection_glyph\":null,\"selection_glyph\":null},\"id\":\"54883c28-9c0d-4782-bc1f-ec6e298d0f3f\",\"type\":\"GlyphRenderer\"},{\"attributes\":{\"fill_alpha\":{\"field\":\"fill_alpha\"},\"fill_color\":{\"field\":\"color\"},\"height\":{\"field\":\"height\",\"units\":\"data\"},\"line_color\":{\"field\":\"line_color\"},\"width\":{\"field\":\"width\",\"units\":\"data\"},\"x\":{\"field\":\"x\"},\"y\":{\"field\":\"y\"}},\"id\":\"bd50d580-bb2d-4a5a-97cc-902f0d922162\",\"type\":\"Rect\"},{\"attributes\":{\"fill_alpha\":{\"field\":\"fill_alpha\"},\"fill_color\":{\"field\":\"color\"},\"height\":{\"field\":\"height\",\"units\":\"data\"},\"line_color\":{\"field\":\"line_color\"},\"width\":{\"field\":\"width\",\"units\":\"data\"},\"x\":{\"field\":\"x\"},\"y\":{\"field\":\"y\"}},\"id\":\"05466ec8-0820-4de8-bc36-b5506b153e58\",\"type\":\"Rect\"},{\"attributes\":{\"callback\":null,\"column_names\":[\"label\",\"color\",\"fill_alpha\",\"line_alpha\",\"x\",\"width\",\"height\",\"y\",\"line_color\"],\"data\":{\"chart_index\":[\"(265.1, 273.6]\"],\"color\":[\"#f22c40\"],\"fill_alpha\":[0.8],\"height\":[10.0],\"label\":[\"(265.1, 273.6]\"],\"line_alpha\":[1.0],\"line_color\":[\"black\"],\"width\":[8.517857142857167],\"x\":[\"269.35\"],\"y\":[5.0]}},\"id\":\"6f640131-64bf-470e-bb47-45f4504b4f0f\",\"type\":\"ColumnDataSource\"},{\"attributes\":{\"plot\":{\"id\":\"6883eb95-246a-402a-a0d7-dd0024089a19\",\"subtype\":\"Chart\",\"type\":\"Plot\"}},\"id\":\"1d10e332-f400-4cad-a34a-f229c2abe47a\",\"type\":\"SaveTool\"},{\"attributes\":{\"fill_alpha\":{\"field\":\"fill_alpha\"},\"fill_color\":{\"field\":\"color\"},\"height\":{\"field\":\"height\",\"units\":\"data\"},\"line_color\":{\"field\":\"line_color\"},\"width\":{\"field\":\"width\",\"units\":\"data\"},\"x\":{\"field\":\"x\"},\"y\":{\"field\":\"y\"}},\"id\":\"645494e6-c491-41b4-be5c-213f131b1452\",\"type\":\"Rect\"},{\"attributes\":{\"callback\":null,\"column_names\":[\"label\",\"color\",\"fill_alpha\",\"line_alpha\",\"x\",\"width\",\"height\",\"y\",\"line_color\"],\"data\":{\"chart_index\":[\"(77.7, 86.2]\"],\"color\":[\"#f22c40\"],\"fill_alpha\":[0.8],\"height\":[126.0],\"label\":[\"(77.7, 86.2]\"],\"line_alpha\":[1.0],\"line_color\":[\"black\"],\"width\":[8.517857142857139],\"x\":[\"81.95\"],\"y\":[63.0]}},\"id\":\"1f62dc8e-9a6e-4a67-b448-4bfa8c4a6922\",\"type\":\"ColumnDataSource\"},{\"attributes\":{\"fill_alpha\":{\"field\":\"fill_alpha\"},\"fill_color\":{\"field\":\"color\"},\"height\":{\"field\":\"height\",\"units\":\"data\"},\"line_color\":{\"field\":\"line_color\"},\"width\":{\"field\":\"width\",\"units\":\"data\"},\"x\":{\"field\":\"x\"},\"y\":{\"field\":\"y\"}},\"id\":\"4c222616-4982-4cc7-82a6-f802c0d9f962\",\"type\":\"Rect\"},{\"attributes\":{\"fill_alpha\":{\"field\":\"fill_alpha\"},\"fill_color\":{\"field\":\"color\"},\"height\":{\"field\":\"height\",\"units\":\"data\"},\"line_color\":{\"field\":\"line_color\"},\"width\":{\"field\":\"width\",\"units\":\"data\"},\"x\":{\"field\":\"x\"},\"y\":{\"field\":\"y\"}},\"id\":\"25ba6f49-432c-45df-a685-6013fcb600fa\",\"type\":\"Rect\"},{\"attributes\":{\"fill_alpha\":{\"field\":\"fill_alpha\"},\"fill_color\":{\"field\":\"color\"},\"height\":{\"field\":\"height\",\"units\":\"data\"},\"line_color\":{\"field\":\"line_color\"},\"width\":{\"field\":\"width\",\"units\":\"data\"},\"x\":{\"field\":\"x\"},\"y\":{\"field\":\"y\"}},\"id\":\"cd8d9670-b6fd-455e-8066-d5a1fcc24ea6\",\"type\":\"Rect\"},{\"attributes\":{\"fill_alpha\":{\"field\":\"fill_alpha\"},\"fill_color\":{\"field\":\"color\"},\"height\":{\"field\":\"height\",\"units\":\"data\"},\"line_color\":{\"field\":\"line_color\"},\"width\":{\"field\":\"width\",\"units\":\"data\"},\"x\":{\"field\":\"x\"},\"y\":{\"field\":\"y\"}},\"id\":\"0fd6a579-94cf-476a-9911-3e8321fea1d6\",\"type\":\"Rect\"},{\"attributes\":{},\"id\":\"7006dca5-81ab-4a15-b830-7e50ebd41cb8\",\"type\":\"BasicTickFormatter\"},{\"attributes\":{\"data_source\":{\"id\":\"d928b6c3-954b-40f7-bb9c-0756973bc8c1\",\"type\":\"ColumnDataSource\"},\"glyph\":{\"id\":\"bc38f7d7-7e69-497c-a978-d87da7ac8896\",\"type\":\"Rect\"},\"hover_glyph\":null,\"nonselection_glyph\":null,\"selection_glyph\":null},\"id\":\"1a0f2fd2-4f44-4fd0-afd2-886f463c6df5\",\"type\":\"GlyphRenderer\"},{\"attributes\":{\"callback\":null,\"column_names\":[\"label\",\"color\",\"fill_alpha\",\"line_alpha\",\"x\",\"width\",\"height\",\"y\",\"line_color\"],\"data\":{\"chart_index\":[\"(256.5, 265.1]\"],\"color\":[\"#f22c40\"],\"fill_alpha\":[0.8],\"height\":[19.0],\"label\":[\"(256.5, 265.1]\"],\"line_alpha\":[1.0],\"line_color\":[\"black\"],\"width\":[8.51785714285711],\"x\":[\"260.8\"],\"y\":[9.5]}},\"id\":\"abd8f08e-3956-47df-8181-35f00859d71d\",\"type\":\"ColumnDataSource\"},{\"attributes\":{\"callback\":null,\"column_names\":[\"label\",\"color\",\"fill_alpha\",\"line_alpha\",\"x\",\"width\",\"height\",\"y\",\"line_color\"],\"data\":{\"chart_index\":[\"(213.9, 222.5]\"],\"color\":[\"#f22c40\"],\"fill_alpha\":[0.8],\"height\":[19.0],\"label\":[\"(213.9, 222.5]\"],\"line_alpha\":[1.0],\"line_color\":[\"black\"],\"width\":[8.517857142857139],\"x\":[\"218.2\"],\"y\":[9.5]}},\"id\":\"bc878590-8a4e-4857-891a-2ab176597c85\",\"type\":\"ColumnDataSource\"},{\"attributes\":{\"data_source\":{\"id\":\"0c63c7bf-8019-42e9-bb7f-358c259cf901\",\"type\":\"ColumnDataSource\"},\"glyph\":{\"id\":\"85fe0d19-f6b7-4b32-a873-748a7f6c7f60\",\"type\":\"Rect\"},\"hover_glyph\":null,\"nonselection_glyph\":null,\"selection_glyph\":null},\"id\":\"46e01c0a-8ecb-442d-b05f-aa56f95cd2bb\",\"type\":\"GlyphRenderer\"},{\"attributes\":{\"callback\":null,\"column_names\":[\"label\",\"color\",\"fill_alpha\",\"line_alpha\",\"x\",\"width\",\"height\",\"y\",\"line_color\"],\"data\":{\"chart_index\":[\"(282.1, 290.6]\"],\"color\":[\"#f22c40\"],\"fill_alpha\":[0.8],\"height\":[9.0],\"label\":[\"(282.1, 290.6]\"],\"line_alpha\":[1.0],\"line_color\":[\"black\"],\"width\":[8.51785714285711],\"x\":[\"286.35\"],\"y\":[4.5]}},\"id\":\"4525c2de-beef-4103-bd8f-f4142f412d95\",\"type\":\"ColumnDataSource\"},{\"attributes\":{\"callback\":null,\"column_names\":[\"label\",\"color\",\"fill_alpha\",\"line_alpha\",\"x\",\"width\",\"height\",\"y\",\"line_color\"],\"data\":{\"chart_index\":[\"(120.2, 128.8]\"],\"color\":[\"#f22c40\"],\"fill_alpha\":[0.8],\"height\":[71.0],\"label\":[\"(120.2, 128.8]\"],\"line_alpha\":[1.0],\"line_color\":[\"black\"],\"width\":[8.517857142857139],\"x\":[\"124.5\"],\"y\":[35.5]}},\"id\":\"7f5e899a-2347-4d1b-99bc-52785b2c89dc\",\"type\":\"ColumnDataSource\"},{\"attributes\":{\"fill_alpha\":{\"field\":\"fill_alpha\"},\"fill_color\":{\"field\":\"color\"},\"height\":{\"field\":\"height\",\"units\":\"data\"},\"line_color\":{\"field\":\"line_color\"},\"width\":{\"field\":\"width\",\"units\":\"data\"},\"x\":{\"field\":\"x\"},\"y\":{\"field\":\"y\"}},\"id\":\"b4e2b13d-7026-4cb1-864f-efd48b861808\",\"type\":\"Rect\"},{\"attributes\":{\"fill_alpha\":{\"field\":\"fill_alpha\"},\"fill_color\":{\"field\":\"color\"},\"height\":{\"field\":\"height\",\"units\":\"data\"},\"line_color\":{\"field\":\"line_color\"},\"width\":{\"field\":\"width\",\"units\":\"data\"},\"x\":{\"field\":\"x\"},\"y\":{\"field\":\"y\"}},\"id\":\"de0e3232-9035-4478-a84d-a07657b06d76\",\"type\":\"Rect\"},{\"attributes\":{\"callback\":null,\"column_names\":[\"label\",\"color\",\"fill_alpha\",\"line_alpha\",\"x\",\"width\",\"height\",\"y\",\"line_color\"],\"data\":{\"chart_index\":[\"(418.4, 426.9]\"],\"color\":[\"#f22c40\"],\"fill_alpha\":[0.8],\"height\":[2.0],\"label\":[\"(418.4, 426.9]\"],\"line_alpha\":[1.0],\"line_color\":[\"black\"],\"width\":[8.51785714285711],\"x\":[\"422.65\"],\"y\":[1.0]}},\"id\":\"5b26d91c-0bf8-47f0-8610-34299013cc23\",\"type\":\"ColumnDataSource\"},{\"attributes\":{\"fill_alpha\":{\"field\":\"fill_alpha\"},\"fill_color\":{\"field\":\"color\"},\"height\":{\"field\":\"height\",\"units\":\"data\"},\"line_color\":{\"field\":\"line_color\"},\"width\":{\"field\":\"width\",\"units\":\"data\"},\"x\":{\"field\":\"x\"},\"y\":{\"field\":\"y\"}},\"id\":\"729238ff-d725-47be-aa0c-7a384e9b7059\",\"type\":\"Rect\"},{\"attributes\":{},\"id\":\"b805e3cf-6ca9-463a-8e13-89f3f99db0df\",\"type\":\"ToolEvents\"},{\"attributes\":{\"plot\":null,\"text\":\"Histogram of number of total calls\"},\"id\":\"c49d14c5-7937-406a-8d2b-b9078e7ce9f6\",\"type\":\"Title\"},{\"attributes\":{\"plot\":{\"id\":\"6883eb95-246a-402a-a0d7-dd0024089a19\",\"subtype\":\"Chart\",\"type\":\"Plot\"}},\"id\":\"d1e48520-231c-4de1-b38f-5b6ad9bac783\",\"type\":\"HelpTool\"},{\"attributes\":{\"data_source\":{\"id\":\"329c554a-d710-41a1-adf6-13d324a5a3db\",\"type\":\"ColumnDataSource\"},\"glyph\":{\"id\":\"e4ce46c9-724e-43bf-86dd-d46cc0c42bfa\",\"type\":\"Rect\"},\"hover_glyph\":null,\"nonselection_glyph\":null,\"selection_glyph\":null},\"id\":\"df49d79b-bf98-4aba-a4b8-946369dcf48f\",\"type\":\"GlyphRenderer\"},{\"attributes\":{\"callback\":null,\"column_names\":[\"label\",\"color\",\"fill_alpha\",\"line_alpha\",\"x\",\"width\",\"height\",\"y\",\"line_color\"],\"data\":{\"chart_index\":[\"(273.6, 282.1]\"],\"color\":[\"#f22c40\"],\"fill_alpha\":[0.8],\"height\":[13.0],\"label\":[\"(273.6, 282.1]\"],\"line_alpha\":[1.0],\"line_color\":[\"black\"],\"width\":[8.517857142857167],\"x\":[\"277.85\"],\"y\":[6.5]}},\"id\":\"38e777c3-bbcf-4cb0-9a91-b7878b99456e\",\"type\":\"ColumnDataSource\"},{\"attributes\":{\"fill_alpha\":{\"field\":\"fill_alpha\"},\"fill_color\":{\"field\":\"color\"},\"height\":{\"field\":\"height\",\"units\":\"data\"},\"line_color\":{\"field\":\"line_color\"},\"width\":{\"field\":\"width\",\"units\":\"data\"},\"x\":{\"field\":\"x\"},\"y\":{\"field\":\"y\"}},\"id\":\"00f8ca41-05c0-4a70-9ce1-4198cff8ce04\",\"type\":\"Rect\"},{\"attributes\":{},\"id\":\"a6dea146-44c1-4a3c-8c46-74f2ce01ac9c\",\"type\":\"BasicTicker\"},{\"attributes\":{\"fill_alpha\":{\"field\":\"fill_alpha\"},\"fill_color\":{\"field\":\"color\"},\"height\":{\"field\":\"height\",\"units\":\"data\"},\"line_color\":{\"field\":\"line_color\"},\"width\":{\"field\":\"width\",\"units\":\"data\"},\"x\":{\"field\":\"x\"},\"y\":{\"field\":\"y\"}},\"id\":\"facac073-7a8a-4d25-bd54-4e627e9bfdaa\",\"type\":\"Rect\"},{\"attributes\":{\"fill_alpha\":{\"field\":\"fill_alpha\"},\"fill_color\":{\"field\":\"color\"},\"height\":{\"field\":\"height\",\"units\":\"data\"},\"line_color\":{\"field\":\"line_color\"},\"width\":{\"field\":\"width\",\"units\":\"data\"},\"x\":{\"field\":\"x\"},\"y\":{\"field\":\"y\"}},\"id\":\"49d71c46-2b12-4bb4-806a-192797f4cb8f\",\"type\":\"Rect\"},{\"attributes\":{\"data_source\":{\"id\":\"8ebac090-21f7-4424-b76d-b23a91b947eb\",\"type\":\"ColumnDataSource\"},\"glyph\":{\"id\":\"56624381-cfaf-46be-8232-7914fc713c63\",\"type\":\"Rect\"},\"hover_glyph\":null,\"nonselection_glyph\":null,\"selection_glyph\":null},\"id\":\"e6da0167-a9f3-41d6-9d6d-c1bd113a8067\",\"type\":\"GlyphRenderer\"},{\"attributes\":{\"fill_alpha\":{\"field\":\"fill_alpha\"},\"fill_color\":{\"field\":\"color\"},\"height\":{\"field\":\"height\",\"units\":\"data\"},\"line_color\":{\"field\":\"line_color\"},\"width\":{\"field\":\"width\",\"units\":\"data\"},\"x\":{\"field\":\"x\"},\"y\":{\"field\":\"y\"}},\"id\":\"6455757d-ba83-49da-83e3-eebf5ebc1ebd\",\"type\":\"Rect\"}],\"root_ids\":[\"6883eb95-246a-402a-a0d7-dd0024089a19\"]},\"title\":\"Bokeh Application\",\"version\":\"0.12.2\"}};\n",
       "            var render_items = [{\"docid\":\"700e4eca-0b70-4e74-9da8-88be832455b2\",\"elementid\":\"be3c712a-1489-4cbb-a518-353703884f12\",\"modelid\":\"6883eb95-246a-402a-a0d7-dd0024089a19\"}];\n",
       "            \n",
       "            Bokeh.embed.embed_items(docs_json, render_items);\n",
       "        });\n",
       "      },\n",
       "      function(Bokeh) {\n",
       "      }\n",
       "    ];\n",
       "  \n",
       "    function run_inline_js() {\n",
       "      \n",
       "      if ((window.Bokeh !== undefined) || (force === \"1\")) {\n",
       "        for (var i = 0; i < inline_js.length; i++) {\n",
       "          inline_js[i](window.Bokeh);\n",
       "        }if (force === \"1\") {\n",
       "          display_loaded();\n",
       "        }} else if (Date.now() < window._bokeh_timeout) {\n",
       "        setTimeout(run_inline_js, 100);\n",
       "      } else if (!window._bokeh_failed_load) {\n",
       "        console.log(\"Bokeh: BokehJS failed to load within specified timeout.\");\n",
       "        window._bokeh_failed_load = true;\n",
       "      } else if (!force) {\n",
       "        var cell = $(\"#be3c712a-1489-4cbb-a518-353703884f12\").parents('.cell').data().cell;\n",
       "        cell.output_area.append_execute_result(NB_LOAD_WARNING)\n",
       "      }\n",
       "  \n",
       "    }\n",
       "  \n",
       "    if (window._bokeh_is_loading === 0) {\n",
       "      console.log(\"Bokeh: BokehJS loaded, going straight to plotting\");\n",
       "      run_inline_js();\n",
       "    } else {\n",
       "      load_libs(js_urls, function() {\n",
       "        console.log(\"Bokeh: BokehJS plotting callback run at\", now());\n",
       "        run_inline_js();\n",
       "      });\n",
       "    }\n",
       "  }(this));\n",
       "</script>"
      ]
     },
     "metadata": {},
     "output_type": "display_data"
    }
   ],
   "source": [
    "show(p)"
   ]
  },
  {
   "cell_type": "code",
   "execution_count": null,
   "metadata": {
    "collapsed": false
   },
   "outputs": [],
   "source": []
  },
  {
   "cell_type": "code",
   "execution_count": 84,
   "metadata": {
    "collapsed": false
   },
   "outputs": [],
   "source": [
    "df.sort_values('Total', ascending=False).to_csv('num_calls.csv', header=True)"
   ]
  },
  {
   "cell_type": "markdown",
   "metadata": {
    "collapsed": true
   },
   "source": [
    "## Load all the data"
   ]
  },
  {
   "cell_type": "code",
   "execution_count": 85,
   "metadata": {
    "collapsed": false
   },
   "outputs": [],
   "source": [
    "def is_five_digit_num(row):\n",
    "    \"\"\"\n",
    "    Is row num = 5 digits\n",
    "    \"\"\"\n",
    "    try: \n",
    "        num = int(row.Number)\n",
    "    except ValueError:\n",
    "        return False\n",
    "    if num > 9999 and num <= 99999:\n",
    "        return True\n",
    "    else:\n",
    "        return False"
   ]
  },
  {
   "cell_type": "code",
   "execution_count": 86,
   "metadata": {
    "collapsed": false
   },
   "outputs": [],
   "source": [
    "def load_data(filename):\n",
    "    \"\"\"\n",
    "    Takes a filename, returns df \n",
    "    \"\"\"\n",
    "    df = None\n",
    "    if filename == 'CHE March 2017.xls':\n",
    "        df = pd.read_excel('./data/CHE March 2017.xls',skiprows=range(0,12),skip_footer=12)\n",
    "        df['Number'] = df['Unnamed: 0']\n",
    "        df.drop(['Name'], axis=1, inplace=True)\n",
    "        df.drop(['Unnamed: 1', 'Unnamed: 2', 'Int', 'Tdm', 'Cost', 'Taxes',\n",
    "           'Eq. Cost', 'Total Cost', 'Unnamed: 15', 'Unnamed: 0'], axis=1, inplace=True)\n",
    "    else:\n",
    "        df = pd.read_excel('./data/' + filename, \n",
    "                  skiprows=range(0,12),\n",
    "                  skip_footer=1)\n",
    "        df.drop([0], inplace=True)\n",
    "        df.drop(['Unnamed: 1', 'Unnamed: 2', 'Int', 'Tdm', 'Cost', 'Taxes',\n",
    "               'Eq. Cost', 'Total Cost'], axis=1, inplace=True)\n",
    "    # Drop nan rows\n",
    "    df.dropna(inplace=True)\n",
    "    # drop rows where calls > 1000\n",
    "    df = df[df['Total'] < 1000]\n",
    "    df['Include'] = df.apply(is_five_digit_num, axis=1)\n",
    "    df = df[df['Include'] == True]\n",
    "    del df['Include']\n",
    "    return df"
   ]
  },
  {
   "cell_type": "code",
   "execution_count": 87,
   "metadata": {
    "collapsed": false
   },
   "outputs": [],
   "source": [
    "files = os.listdir('data')\n",
    "data = [load_data(file) for file in files]"
   ]
  },
  {
   "cell_type": "code",
   "execution_count": 88,
   "metadata": {
    "collapsed": false
   },
   "outputs": [],
   "source": [
    "grouped = pd.concat(data).groupby('Number')"
   ]
  },
  {
   "cell_type": "code",
   "execution_count": 128,
   "metadata": {
    "collapsed": false
   },
   "outputs": [
    {
     "name": "stdout",
     "output_type": "stream",
     "text": [
      "5700\n"
     ]
    }
   ],
   "source": [
    "annual_totals = grouped.sum()\n",
    "print(len(annual_totals))"
   ]
  },
  {
   "cell_type": "markdown",
   "metadata": {
    "collapsed": true
   },
   "source": [
    "## CityFone Data"
   ]
  },
  {
   "cell_type": "code",
   "execution_count": 129,
   "metadata": {
    "collapsed": false
   },
   "outputs": [
    {
     "name": "stdout",
     "output_type": "stream",
     "text": [
      "30253\n"
     ]
    }
   ],
   "source": [
    "cityfone_df = pd.read_excel('./CityFone Extract 20170518 - Whole City - From Ken - UnitNbr Formatted as Text.xlsx', converters={'WRK_TEL_NBR':str})\n",
    "print(len(cityfone_df))"
   ]
  },
  {
   "cell_type": "code",
   "execution_count": 130,
   "metadata": {
    "collapsed": false
   },
   "outputs": [
    {
     "name": "stdout",
     "output_type": "stream",
     "text": [
      "Index(['WRK_TEL_NBR', 'WRK_TEL_NBR2', 'EMP_LST_NM', 'EMP_FRST_NM',\n",
      "       'EXT_DEPT_ID', 'DEPT_NAME', 'STR_ADDR_TXT', 'LOC_UNIT_LBL_TXT',\n",
      "       'LOC_UNIT_NBR', 'CELLR_TEL_NBR', 'cellr_co_cd', 'cellr_txt_cpbl_ind',\n",
      "       'ALTN_WRK_TEL_NBR', 'Number'],\n",
      "      dtype='object')\n",
      "Index(['WRK_TEL_NBR', 'WRK_TEL_NBR2', 'EMP_LST_NM', 'EMP_FRST_NM',\n",
      "       'EXT_DEPT_ID', 'DEPT_NAME', 'STR_ADDR_TXT', 'LOC_UNIT_LBL_TXT',\n",
      "       'LOC_UNIT_NBR', 'CELLR_TEL_NBR', 'cellr_co_cd', 'cellr_txt_cpbl_ind',\n",
      "       'ALTN_WRK_TEL_NBR', 'Number'],\n",
      "      dtype='object')\n"
     ]
    }
   ],
   "source": [
    "cityfone_df['Number'] = cityfone_df.WRK_TEL_NBR.apply(lambda x: str(x)[-7:])\n",
    "cityfone_df['Number'].replace('       ', np.nan, inplace=True)\n",
    "cityfone_df['Number'].replace('nan', np.nan, inplace=True)\n",
    "cityfone_df.dropna(subset=['Number'], inplace=True)\n",
    "print(cityfone_df.columns)\n",
    "cityfone_df.rename(columns=lambda c: c.replace(\" \", \"\"), inplace=True)\n",
    "print(cityfone_df.columns)"
   ]
  },
  {
   "cell_type": "markdown",
   "metadata": {},
   "source": [
    "## Catagorization"
   ]
  },
  {
   "cell_type": "code",
   "execution_count": 131,
   "metadata": {
    "collapsed": true
   },
   "outputs": [],
   "source": [
    "def catagorize(row): \n",
    "    \"\"\"\n",
    "    Return High, Medium, Low catagory \n",
    "    \"\"\"\n",
    "    if row['Total'] >= len(data) * 201:\n",
    "        return 'High'\n",
    "    elif row['Total'] >= len(data) * 41:\n",
    "        return 'Medium'\n",
    "    else:\n",
    "        return 'Low'"
   ]
  },
  {
   "cell_type": "code",
   "execution_count": 132,
   "metadata": {
    "collapsed": true
   },
   "outputs": [],
   "source": [
    "annual_totals['catagory'] = annual_totals.apply(catagorize, axis=1)"
   ]
  },
  {
   "cell_type": "code",
   "execution_count": 133,
   "metadata": {
    "collapsed": false
   },
   "outputs": [
    {
     "name": "stderr",
     "output_type": "stream",
     "text": [
      "/Users/hunterowens/anaconda3/lib/python3.5/site-packages/matplotlib/figure.py:1744: UserWarning: This figure includes Axes that are not compatible with tight_layout, so its results might be incorrect.\n",
      "  warnings.warn(\"This figure includes Axes that are not \"\n"
     ]
    },
    {
     "data": {
      "image/png": "[encoded data removed]",
      "text/plain": [
       "<matplotlib.figure.Figure at 0x11d3b7a20>"
      ]
     },
     "metadata": {},
     "output_type": "display_data"
    }
   ],
   "source": [
    "ax = annual_totals.catagory.value_counts().plot(kind='bar', title='All CHE PBX Lines, April-March Dataset')\n",
    "ax.set_xlabel('Number of Calls/Month Low <=40, Med 41-200, High >200')\n",
    "ax.set_ylabel('Number of Phone Lines')\n",
    "fig = ax.get_figure()\n",
    "fig.savefig('all_che.png')"
   ]
  },
  {
   "cell_type": "code",
   "execution_count": 134,
   "metadata": {
    "collapsed": false
   },
   "outputs": [],
   "source": [
    "p1 = Bar(annual_totals.catagory.value_counts(), title='System Number of Users, by Type',\n",
    "                                                palette=['red', 'green', 'blue'],\n",
    "                                                )"
   ]
  },
  {
   "cell_type": "markdown",
   "metadata": {},
   "source": [
    "## Merge all the data"
   ]
  },
  {
   "cell_type": "code",
   "execution_count": 135,
   "metadata": {
    "collapsed": false
   },
   "outputs": [],
   "source": [
    "def make_seven_digit(number):\n",
    "    \"\"\"\n",
    "    makes a seven digit number from the PBX data. \n",
    "    \"\"\"\n",
    "    first_digit = str(number)[0]\n",
    "    if first_digit == '3':\n",
    "        retval = '47' + str(number)\n",
    "    elif first_digit == '2':\n",
    "        retval = '92' + str(number)\n",
    "    elif first_digit == '8':\n",
    "        if str(number)[:3] == '895':\n",
    "            retval = '92' + str(number)\n",
    "        else:\n",
    "            retval = '97' + str(number)\n",
    "    return float(retval)"
   ]
  },
  {
   "cell_type": "code",
   "execution_count": 136,
   "metadata": {
    "collapsed": false
   },
   "outputs": [],
   "source": [
    "annual_totals.index = annual_totals.index.map(make_seven_digit)"
   ]
  },
  {
   "cell_type": "code",
   "execution_count": 137,
   "metadata": {
    "collapsed": false
   },
   "outputs": [],
   "source": [
    "def number_of_cityfone_matches(row):\n",
    "    \"\"\"\n",
    "    Find the number of Cityfone matches\n",
    "    \"\"\"\n",
    "    number_totals = row.name\n",
    "    cityfone_df['Number'] = pd.to_numeric(cityfone_df.Number)\n",
    "    df = cityfone_df[cityfone_df['Number'] == number_totals]\n",
    "    return len(df)"
   ]
  },
  {
   "cell_type": "code",
   "execution_count": 138,
   "metadata": {
    "collapsed": false
   },
   "outputs": [],
   "source": [
    "#annual_totals['number_of_cityfone_matches'] = annual_totals.apply(number_of_cityfone_matches, axis =1)\n",
    "#annual_totals.apply(number_of_cityfone_matches, axis =1)"
   ]
  },
  {
   "cell_type": "code",
   "execution_count": 139,
   "metadata": {
    "collapsed": false
   },
   "outputs": [],
   "source": [
    "#annual_totals.to_csv('pbx_data_with_cityfone_matches.csv')"
   ]
  },
  {
   "cell_type": "markdown",
   "metadata": {
    "collapsed": true
   },
   "source": [
    "### Cityfone Perf Matching "
   ]
  },
  {
   "cell_type": "code",
   "execution_count": 140,
   "metadata": {
    "collapsed": false
   },
   "outputs": [],
   "source": [
    "def cityfone_matcher(row, *args):\n",
    "    \"\"\"\n",
    "    Match to CityFone when perfect match  \n",
    "    \"\"\"\n",
    "    number_totals = row.name\n",
    "    cityfone_df['Number'] = pd.to_numeric(cityfone_df[\"Number\"])\n",
    "    df = cityfone_df[cityfone_df['Number'] == number_totals]\n",
    "    try:\n",
    "        val = df[args[0]].iloc[0]\n",
    "    except IndexError: \n",
    "        return np.NaN\n",
    "    return val"
   ]
  },
  {
   "cell_type": "code",
   "execution_count": 141,
   "metadata": {
    "collapsed": false
   },
   "outputs": [],
   "source": [
    "annual_totals['Last_Name'] = annual_totals.apply(cityfone_matcher, axis=1, args=('EMP_LST_NM',))\n",
    "annual_totals['First_Name'] = annual_totals.apply(cityfone_matcher, axis=1, args=('EMP_FRST_NM',))\n",
    "annual_totals['Dept'] = annual_totals.apply(cityfone_matcher, axis=1, args=('DEPT_NAME',))\n",
    "annual_totals['address'] = annual_totals.apply(cityfone_matcher, axis=1, args=('STR_ADDR_TXT',))\n",
    "annual_totals['LOC_UNIT_NBR'] = annual_totals.apply(cityfone_matcher, axis=1, args=('LOC_UNIT_NBR',))\n",
    "annual_totals['LOC_UNIT_LBL_TXT'] = annual_totals.apply(cityfone_matcher, axis=1, args=('LOC_UNIT_LBL_TXT',))\n",
    "annual_totals['CELLR_TEL_NBR'] = annual_totals.apply(cityfone_matcher, axis=1, args=('CELLR_TEL_NBR',))\n",
    "annual_totals['ALTN_WRK_TEL_NBR'] = annual_totals.apply(cityfone_matcher, axis=1, args=('ALTN_WRK_TEL_NBR',))\n",
    "annual_totals['cellr_co_cd'] = annual_totals.apply(cityfone_matcher, axis=1, args=('cellr_co_cd',))\n",
    "annual_totals['cellr_txt_cpbl_ind'] = annual_totals.apply(cityfone_matcher, axis=1, args=('cellr_txt_cpbl_ind',))"
   ]
  },
  {
   "cell_type": "code",
   "execution_count": 142,
   "metadata": {
    "collapsed": false
   },
   "outputs": [
    {
     "name": "stdout",
     "output_type": "stream",
     "text": [
      "287\n"
     ]
    }
   ],
   "source": [
    "ita = annual_totals[annual_totals['Dept'] == 'Information Technology Agency']\n",
    "print(len(ita))"
   ]
  },
  {
   "cell_type": "code",
   "execution_count": 143,
   "metadata": {
    "collapsed": false
   },
   "outputs": [
    {
     "name": "stderr",
     "output_type": "stream",
     "text": [
      "/Users/hunterowens/anaconda3/lib/python3.5/site-packages/matplotlib/figure.py:1744: UserWarning: This figure includes Axes that are not compatible with tight_layout, so its results might be incorrect.\n",
      "  warnings.warn(\"This figure includes Axes that are not \"\n"
     ]
    },
    {
     "data": {
      "image/png": "[encoded data removed]",
      "text/plain": [
       "<matplotlib.figure.Figure at 0x11d3a76d8>"
      ]
     },
     "metadata": {},
     "output_type": "display_data"
    }
   ],
   "source": [
    "ax = ita.catagory.value_counts().plot(kind='bar', title='ITA CHE PBX Lines, April-March Dataset')\n",
    "ax.set_xlabel('Number of Calls/Month Low <=40, Med 41-200, High >200')\n",
    "ax.set_ylabel('Number of Phone Lines')\n",
    "fig = ax.get_figure()\n",
    "fig.savefig('all_ita.png')"
   ]
  },
  {
   "cell_type": "code",
   "execution_count": 144,
   "metadata": {
    "collapsed": true
   },
   "outputs": [],
   "source": [
    "annual_totals.to_csv('annual_totals_with_location.csv')"
   ]
  },
  {
   "cell_type": "code",
   "execution_count": 145,
   "metadata": {
    "collapsed": false
   },
   "outputs": [
    {
     "data": {
      "text/plain": [
       "Low       171\n",
       "Medium    106\n",
       "High       10\n",
       "Name: catagory, dtype: int64"
      ]
     },
     "execution_count": 145,
     "metadata": {},
     "output_type": "execute_result"
    }
   ],
   "source": [
    "ita.catagory.value_counts()"
   ]
  },
  {
   "cell_type": "markdown",
   "metadata": {
    "collapsed": true
   },
   "source": [
    "## Match with Averages, rather than Sum "
   ]
  },
  {
   "cell_type": "code",
   "execution_count": 146,
   "metadata": {
    "collapsed": true
   },
   "outputs": [],
   "source": [
    "annual_avg = grouped.mean()"
   ]
  },
  {
   "cell_type": "code",
   "execution_count": 147,
   "metadata": {
    "collapsed": false
   },
   "outputs": [],
   "source": [
    "annual_avg.index = annual_avg.index.map(make_seven_digit)"
   ]
  },
  {
   "cell_type": "code",
   "execution_count": 148,
   "metadata": {
    "collapsed": false
   },
   "outputs": [],
   "source": [
    "annual_avg.rename(columns={'In': 'In_avg', 'Out': 'Out_avg', 'Total':'Total_avg'}, inplace=True)"
   ]
  },
  {
   "cell_type": "code",
   "execution_count": 149,
   "metadata": {
    "collapsed": false
   },
   "outputs": [],
   "source": [
    "joined_again = annual_avg.join(annual_totals)"
   ]
  },
  {
   "cell_type": "code",
   "execution_count": 150,
   "metadata": {
    "collapsed": false
   },
   "outputs": [
    {
     "data": {
      "text/plain": [
       "Index(['In_avg', 'Out_avg', 'Total_avg', 'In', 'Out', 'Total', 'catagory',\n",
       "       'Last_Name', 'First_Name', 'Dept', 'address', 'LOC_UNIT_NBR',\n",
       "       'LOC_UNIT_LBL_TXT', 'CELLR_TEL_NBR', 'ALTN_WRK_TEL_NBR', 'cellr_co_cd',\n",
       "       'cellr_txt_cpbl_ind'],\n",
       "      dtype='object')"
      ]
     },
     "execution_count": 150,
     "metadata": {},
     "output_type": "execute_result"
    }
   ],
   "source": [
    "joined_again.columns"
   ]
  },
  {
   "cell_type": "code",
   "execution_count": 151,
   "metadata": {
    "collapsed": false
   },
   "outputs": [],
   "source": [
    "joined_again['phone_number'] = joined_again.index.values"
   ]
  },
  {
   "cell_type": "markdown",
   "metadata": {
    "collapsed": false
   },
   "source": [
    "Ordering \n",
    "    * Department\n",
    "    * Phone #\n",
    "    * First Name\n",
    "    * Last Name\n",
    "    * Address\n",
    "    * Loc Unit Lbl Txt\n",
    "    * Loc Unit Nbr\n",
    "    * Category\n",
    "    * Avg Monthly Calls In\n",
    "    * Avg Monthly Calls Out\n",
    "    * Avg Monthly Calls Total\n"
   ]
  },
  {
   "cell_type": "code",
   "execution_count": 152,
   "metadata": {
    "collapsed": false
   },
   "outputs": [
    {
     "data": {
      "text/plain": [
       "In_avg                                      3.72727\n",
       "Out_avg                                     9.27273\n",
       "Total_avg                                        13\n",
       "In                                               41\n",
       "Out                                             102\n",
       "Total                                           143\n",
       "catagory                                        Low\n",
       "Last_Name                                SHAHBAZIAN\n",
       "First_Name                                  GAIDZAG\n",
       "Dept                  Information Technology Agency\n",
       "address                    200 N MAIN ST 13TH FLOOR\n",
       "LOC_UNIT_NBR                             13-39     \n",
       "LOC_UNIT_LBL_TXT               Cubicle             \n",
       "CELLR_TEL_NBR                                   NaN\n",
       "ALTN_WRK_TEL_NBR                                NaN\n",
       "cellr_co_cd                                     NaN\n",
       "cellr_txt_cpbl_ind                              NaN\n",
       "phone_number                            9.22773e+06\n",
       "Name: 9227734.0, dtype: object"
      ]
     },
     "execution_count": 152,
     "metadata": {},
     "output_type": "execute_result"
    }
   ],
   "source": [
    "## Remove 0s from datset\n",
    "joined_again = joined_again.replace(to_replace=0,value='')\n",
    "joined_again = joined_again.replace(to_replace='0',value='')\n",
    "joined_again.ix[9227734]"
   ]
  },
  {
   "cell_type": "code",
   "execution_count": 156,
   "metadata": {
    "collapsed": false
   },
   "outputs": [],
   "source": [
    "joined_again.to_csv(\"ordered_avg_draft.csv\", sep=',', encoding='utf-8', header=True, index=False,\n",
    "          columns=[\"Dept\",\"phone_number\",\"First_Name\",\"Last_Name\",\"address\", \"LOC_UNIT_LBL_TXT\", \"LOC_UNIT_NBR\",\n",
    "                  \"catagory\",\"In_avg\",\"Out_avg\",\"Total_avg\", \"CELLR_TEL_NBR\", \"cellr_co_cd\",\n",
    "                  \"cellr_txt_cpbl_ind\", \"ALTN_WRK_TEL_NBR\"])"
   ]
  },
  {
   "cell_type": "code",
   "execution_count": 154,
   "metadata": {
    "collapsed": false
   },
   "outputs": [
    {
     "data": {
      "text/plain": [
       "In_avg                                         2.75\n",
       "Out_avg                                          11\n",
       "Total_avg                                     13.75\n",
       "In                                               22\n",
       "Out                                              88\n",
       "Total                                           110\n",
       "catagory                                        Low\n",
       "Last_Name                                     OWENS\n",
       "First_Name                                   HUNTER\n",
       "Dept                  Information Technology Agency\n",
       "address                    200 N MAIN ST 14TH FLOOR\n",
       "LOC_UNIT_NBR                             14-265    \n",
       "LOC_UNIT_LBL_TXT               Cubicle             \n",
       "CELLR_TEL_NBR                                   NaN\n",
       "ALTN_WRK_TEL_NBR                                NaN\n",
       "cellr_co_cd                                     NaN\n",
       "cellr_txt_cpbl_ind                              NaN\n",
       "phone_number                            9.22773e+06\n",
       "Name: 9227732.0, dtype: object"
      ]
     },
     "execution_count": 154,
     "metadata": {},
     "output_type": "execute_result"
    }
   ],
   "source": [
    "joined_again.loc[9227732]"
   ]
  },
  {
   "cell_type": "code",
   "execution_count": 157,
   "metadata": {
    "collapsed": false
   },
   "outputs": [
    {
     "data": {
      "text/plain": [
       "287"
      ]
     },
     "execution_count": 157,
     "metadata": {},
     "output_type": "execute_result"
    }
   ],
   "source": [
    "len(ita)"
   ]
  },
  {
   "cell_type": "code",
   "execution_count": null,
   "metadata": {
    "collapsed": true
   },
   "outputs": [],
   "source": []
  }
 ],
 "metadata": {
  "kernelspec": {
   "display_name": "Python 3",
   "language": "python",
   "name": "python3"
  },
  "language_info": {
   "codemirror_mode": {
    "name": "ipython",
    "version": 3
   },
   "file_extension": ".py",
   "mimetype": "text/x-python",
   "name": "python",
   "nbconvert_exporter": "python",
   "pygments_lexer": "ipython3",
   "version": "3.5.2"
  }
 },
 "nbformat": 4,
 "nbformat_minor": 0
}
